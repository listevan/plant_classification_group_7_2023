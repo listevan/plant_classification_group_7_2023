{
 "cells": [
  {
   "cell_type": "code",
   "execution_count": null,
   "id": "ecbe5652",
   "metadata": {},
   "outputs": [],
   "source": [
    "### import torch\n",
    "from torchvision import models\n",
    "\n",
    "pretrained_model = models.resnet50(weights = 'DEFAULT', progress = True)"
   ]
  },
  {
   "cell_type": "code",
   "execution_count": 2,
   "id": "541cf0d5",
   "metadata": {},
   "outputs": [],
   "source": [
    "n = 100 #let n = the number of types of plants"
   ]
  },
  {
   "cell_type": "code",
   "execution_count": 3,
   "id": "262de170",
   "metadata": {},
   "outputs": [],
   "source": [
    "# changes fully connected/classifier layer to new layer for us to train\n",
    "pretrained_model.fc = torch.nn.Linear(2048, 2)"
   ]
  },
  {
   "cell_type": "code",
   "execution_count": 7,
   "id": "09a04fa0",
   "metadata": {},
   "outputs": [],
   "source": [
    "# Currently no in use\n",
    "import torch.nn as nn\n",
    "# build custom softmax module\n",
    "class Softmax(nn.Module):\n",
    "    def __init__(self, n_inputs, n_outputs):\n",
    "        super().__init__()\n",
    "        self.linear = nn.Linear(n_inputs, n_outputs)\n",
    " \n",
    "    def forward(self, x):\n",
    "        pred = self.linear(x)\n",
    "        return pred"
   ]
  },
  {
   "cell_type": "code",
   "execution_count": 8,
   "id": "a3d631a9",
   "metadata": {},
   "outputs": [],
   "source": [
    "# Currently no in use\n",
    "#add softmax to model\n",
    "class MyModel(nn.Module):\n",
    "    def __init__(self, pretrained_model):\n",
    "        super(MyModel, self).__init__()\n",
    "        self.pretrained_model = pretrained_model\n",
    "        self.last_layer = Softmax(1000, n) # add how many nodes as input and output\n",
    "\n",
    "    def forward(self, x):\n",
    "        return self.last_layer(self.pretrained_model(x))\n",
    "\n",
    "model = MyModel(pretrained_model)"
   ]
  },
  {
   "cell_type": "code",
   "execution_count": 11,
   "id": "3c430901",
   "metadata": {},
   "outputs": [],
   "source": [
    "#freeze model except fc layer\n",
    "for param in pretrained_model.parameters():\n",
    "    param.requires_grad = False\n",
    "\n",
    "for param in pretrained_model.fc.parameters():\n",
    "    param.requires_grad = True"
   ]
  },
  {
   "cell_type": "code",
   "execution_count": 12,
   "id": "a2e32582",
   "metadata": {},
   "outputs": [],
   "source": [
    "criterion = torch.nn.CrossEntropyLoss() #could write this out ourselves\n",
    "# need to find an optimizer or make onefor custom softmax function\n",
    "optimizer = torch.optim.SGD(pretrained_model.fc.parameters(), lr=0.001, momentum=0.9)"
   ]
  },
  {
   "cell_type": "code",
   "execution_count": 12,
   "id": "e3530c8a",
   "metadata": {},
   "outputs": [
    {
     "name": "stdout",
     "output_type": "stream",
     "text": [
      "['Populus tremula', 'Ulmus glabra', 'Ulmus glabra', 'Populus tremula', 'Populus tremula', 'Ulmus glabra', 'Sorbus aucuparia', 'Salix sinerea', 'Salix sinerea', 'Sorbus aucuparia', 'Salix aurita', 'Acer', 'Acer', 'Salix aurita', 'Ulmus carpinifolia', 'Ulmus carpinifolia', 'Populus', 'Ulmus carpinifolia', 'Tilia', 'Tilia', 'Populus', 'Alnus incan', 'Quercus', 'Betula pubescens', 'Fagus silvatica', 'Sorbus intermedia', \"Salix alba 'Sericea'\", 'Sorbus intermedia', 'Fagus silvatica', 'Betula pubescens', \"Salix alba 'Sericea'\", \"Salix alba 'Sericea'\", 'Betula pubescens', \"Salix alba 'Sericea'\", 'Betula pubescens', 'Betula pubescens', \"Salix alba 'Sericea'\", 'Sorbus intermedia', \"Salix alba 'Sericea'\", 'Fagus silvatica', 'Fagus silvatica', 'Betula pubescens', 'Sorbus intermedia', 'Quercus', 'Alnus incan', 'Tilia', 'Populus', 'Ulmus carpinifolia', 'Populus', 'Tilia', 'Ulmus carpinifolia', 'Ulmus carpinifolia', 'Acer', 'Salix aurita', 'Salix aurita', 'Acer', 'Salix sinerea', 'Sorbus aucuparia', 'Sorbus aucuparia', 'Salix sinerea', 'Populus tremula', 'Ulmus glabra', 'Ulmus glabra', 'Populus tremula', 'Ulmus glabra', 'Populus tremula', 'Ulmus glabra', 'Populus tremula', 'Populus tremula', 'Ulmus glabra', 'Sorbus aucuparia', 'Salix sinerea', 'Acer', 'Salix sinerea', 'Sorbus aucuparia', 'Salix aurita', 'Salix aurita', 'Acer', 'Acer', 'Salix aurita', 'Populus', 'Ulmus carpinifolia', 'Tilia', 'Ulmus carpinifolia', 'Populus', 'Tilia', 'Quercus', 'Alnus incan', 'Alnus incan', 'Quercus', 'Alnus incan', 'Quercus', 'Fagus silvatica', 'Sorbus intermedia', 'Sorbus intermedia', 'Fagus silvatica', 'Betula pubescens', 'Fagus silvatica', \"Salix alba 'Sericea'\", \"Salix alba 'Sericea'\", 'Sorbus intermedia', 'Betula pubescens', 'Sorbus intermedia', \"Salix alba 'Sericea'\", 'Betula pubescens', 'Fagus silvatica', 'Betula pubescens', \"Salix alba 'Sericea'\", 'Sorbus intermedia', 'Fagus silvatica', 'Fagus silvatica', 'Sorbus intermedia', 'Quercus', 'Alnus incan', 'Alnus incan', 'Quercus', 'Quercus', 'Alnus incan', 'Tilia', 'Populus', 'Populus', 'Tilia', 'Tilia', 'Ulmus carpinifolia', 'Ulmus carpinifolia', 'Populus', 'Acer', 'Salix aurita', 'Salix aurita', 'Acer', 'Salix sinerea', 'Salix aurita', 'Sorbus aucuparia', 'Sorbus aucuparia', 'Acer', 'Salix sinerea', 'Populus tremula', 'Ulmus glabra', 'Ulmus glabra', 'Populus tremula', 'Populus tremula', 'Ulmus glabra', 'Ulmus glabra', 'Populus tremula', 'Salix aurita', 'Acer', 'Salix sinerea', 'Sorbus aucuparia', 'Salix aurita', 'Sorbus aucuparia', 'Salix sinerea', 'Acer', 'Tilia', 'Populus', 'Populus', 'Tilia', 'Tilia', 'Ulmus carpinifolia', 'Populus', 'Ulmus carpinifolia', 'Quercus', 'Alnus incan', 'Alnus incan', 'Quercus', 'Quercus', 'Alnus incan', \"Salix alba 'Sericea'\", 'Sorbus intermedia', 'Betula pubescens', 'Betula pubescens', 'Fagus silvatica', \"Salix alba 'Sericea'\", 'Sorbus intermedia', 'Fagus silvatica', 'Fagus silvatica', 'Sorbus intermedia', 'Fagus silvatica', 'Sorbus intermedia', 'Sorbus intermedia', 'Fagus silvatica', 'Fagus silvatica', 'Betula pubescens', \"Salix alba 'Sericea'\", 'Sorbus intermedia', \"Salix alba 'Sericea'\", 'Betula pubescens', 'Quercus', 'Alnus incan', 'Alnus incan', 'Quercus', 'Alnus incan', 'Quercus', 'Ulmus carpinifolia', 'Populus', 'Tilia', 'Ulmus carpinifolia', 'Populus', 'Tilia', 'Tilia', 'Populus', 'Sorbus aucuparia', 'Acer', 'Salix sinerea', 'Salix sinerea', 'Salix aurita', 'Sorbus aucuparia', 'Salix aurita', 'Acer', 'Acer', 'Salix aurita', 'Ulmus glabra', 'Populus tremula', 'Populus tremula', 'Ulmus glabra', 'Ulmus glabra', 'Populus tremula', 'Ulmus glabra', 'Populus tremula', 'Acer', 'Sorbus aucuparia', 'Salix aurita', 'Salix aurita', 'Salix sinerea', 'Acer', 'Salix sinerea', 'Sorbus aucuparia', 'Sorbus aucuparia', 'Salix sinerea', 'Tilia', 'Populus', 'Populus', 'Tilia', 'Ulmus carpinifolia', 'Ulmus carpinifolia', 'Alnus incan', 'Quercus', 'Quercus', 'Alnus incan', \"Salix alba 'Sericea'\", 'Betula pubescens', 'Betula pubescens', \"Salix alba 'Sericea'\", \"Salix alba 'Sericea'\", 'Sorbus intermedia', 'Betula pubescens', 'Fagus silvatica', 'Fagus silvatica', 'Betula pubescens', 'Sorbus intermedia', \"Salix alba 'Sericea'\", 'Betula pubescens', \"Salix alba 'Sericea'\", \"Salix alba 'Sericea'\", 'Betula pubescens', 'Quercus', 'Alnus incan', 'Alnus incan', 'Quercus', 'Ulmus carpinifolia', 'Ulmus carpinifolia', 'Populus', 'Tilia', 'Tilia', 'Populus', 'Sorbus aucuparia', 'Salix sinerea', 'Salix sinerea', 'Sorbus aucuparia', 'Salix aurita', 'Acer', 'Salix sinerea', 'Acer', 'Salix aurita', 'Sorbus aucuparia', 'Populus tremula', 'Ulmus glabra', 'Ulmus glabra', 'Populus tremula', 'Populus tremula', 'Ulmus glabra', 'Populus tremula', 'Ulmus glabra', 'Ulmus glabra', 'Populus tremula', 'Salix sinerea', 'Sorbus aucuparia', 'Salix aurita', 'Sorbus aucuparia', 'Salix sinerea', 'Acer', 'Acer', 'Salix aurita', 'Salix aurita', 'Acer', 'Tilia', 'Ulmus carpinifolia', 'Populus', 'Ulmus carpinifolia', 'Tilia', 'Populus', 'Populus', 'Tilia', 'Quercus', 'Alnus incan', 'Quercus', 'Alnus incan', 'Sorbus intermedia', 'Fagus silvatica', 'Fagus silvatica', 'Sorbus intermedia', \"Salix alba 'Sericea'\", 'Sorbus intermedia', 'Betula pubescens', 'Betula pubescens', 'Fagus silvatica', \"Salix alba 'Sericea'\", 'Fagus silvatica', 'Betula pubescens', \"Salix alba 'Sericea'\", 'Sorbus intermedia', \"Salix alba 'Sericea'\", 'Betula pubescens', 'Fagus silvatica', 'Sorbus intermedia', 'Sorbus intermedia', 'Fagus silvatica', 'Alnus incan', 'Quercus', 'Quercus', 'Alnus incan', 'Alnus incan', 'Quercus', 'Populus', 'Tilia', 'Tilia', 'Populus', 'Ulmus carpinifolia', 'Populus', 'Tilia', 'Ulmus carpinifolia', 'Salix aurita', 'Acer', 'Acer', 'Salix aurita', 'Sorbus aucuparia', 'Acer', 'Salix sinerea', 'Salix sinerea', 'Salix aurita', 'Sorbus aucuparia', 'Ulmus glabra', 'Populus tremula', 'Populus tremula', 'Ulmus glabra', 'Ulmus glabra', 'Populus tremula', 'Populus tremula', 'Ulmus glabra', 'Ulmus glabra', 'Populus tremula', 'Salix sinerea', 'Sorbus aucuparia', 'Sorbus aucuparia', 'Salix sinerea', 'Acer', 'Sorbus aucuparia', 'Salix aurita', 'Salix aurita', 'Salix sinerea', 'Acer', 'Ulmus carpinifolia', 'Ulmus carpinifolia', 'Tilia', 'Populus', 'Ulmus carpinifolia', 'Alnus incan', 'Quercus', 'Quercus', 'Alnus incan', 'Sorbus intermedia', 'Fagus silvatica', 'Fagus silvatica', 'Sorbus intermedia', \"Salix alba 'Sericea'\", 'Betula pubescens', 'Betula pubescens', \"Salix alba 'Sericea'\", 'Betula pubescens', \"Salix alba 'Sericea'\", \"Salix alba 'Sericea'\", 'Betula pubescens', 'Fagus silvatica', 'Sorbus intermedia', 'Sorbus intermedia', 'Fagus silvatica', 'Quercus', 'Alnus incan', 'Alnus incan', 'Quercus', 'Ulmus carpinifolia', 'Populus', 'Tilia', 'Ulmus carpinifolia', 'Ulmus carpinifolia', 'Salix aurita', 'Acer', 'Salix sinerea', 'Acer', 'Salix aurita', 'Sorbus aucuparia', 'Sorbus aucuparia', 'Salix sinerea', 'Salix sinerea', 'Sorbus aucuparia', 'Ulmus glabra', 'Populus tremula', 'Populus tremula', 'Ulmus glabra', 'Populus tremula', 'Ulmus glabra', 'Ulmus glabra', 'Populus tremula', 'Populus tremula', 'Ulmus glabra', 'Populus tremula', 'Ulmus glabra', 'Salix sinerea', 'Acer', 'Sorbus aucuparia', 'Salix aurita', 'Sorbus aucuparia', 'Salix sinerea', 'Salix sinerea', 'Sorbus aucuparia', 'Populus', 'Ulmus carpinifolia', 'Tilia', 'Tilia', 'Populus', 'Ulmus carpinifolia', 'Ulmus carpinifolia', 'Quercus', 'Alnus incan', 'Alnus incan', 'Quercus', 'Betula pubescens', \"Salix alba 'Sericea'\", \"Salix alba 'Sericea'\", 'Betula pubescens', 'Betula pubescens', 'Fagus silvatica', 'Sorbus intermedia', \"Salix alba 'Sericea'\", 'Sorbus intermedia', 'Fagus silvatica', 'Sorbus intermedia', \"Salix alba 'Sericea'\", 'Fagus silvatica', 'Fagus silvatica', 'Betula pubescens', 'Sorbus intermedia', \"Salix alba 'Sericea'\", 'Betula pubescens', 'Betula pubescens', \"Salix alba 'Sericea'\", 'Alnus incan', 'Quercus', 'Quercus', 'Alnus incan', 'Ulmus carpinifolia', 'Ulmus carpinifolia', 'Tilia', 'Populus', 'Ulmus carpinifolia', 'Populus', 'Tilia', 'Salix sinerea', 'Sorbus aucuparia', 'Sorbus aucuparia', 'Salix sinerea', 'Salix aurita', 'Sorbus aucuparia', 'Acer', 'Salix sinerea', 'Ulmus glabra', 'Populus tremula', 'Populus tremula', 'Ulmus glabra', 'Ulmus glabra', 'Populus tremula', 'Populus tremula', 'Ulmus glabra', 'Salix aurita', 'Acer', 'Acer', 'Salix aurita', 'Sorbus aucuparia', 'Salix sinerea', 'Acer', 'Salix sinerea', 'Sorbus aucuparia', 'Salix aurita', 'Populus', 'Tilia', 'Tilia', 'Populus', 'Populus', 'Ulmus carpinifolia', 'Tilia', 'Ulmus carpinifolia', 'Alnus incan', 'Quercus', 'Quercus', 'Alnus incan', 'Alnus incan', 'Quercus', 'Betula pubescens', 'Fagus silvatica', \"Salix alba 'Sericea'\", \"Salix alba 'Sericea'\", 'Sorbus intermedia', 'Betula pubescens', 'Fagus silvatica', 'Sorbus intermedia', 'Sorbus intermedia', 'Fagus silvatica', 'Fagus silvatica', 'Sorbus intermedia', 'Sorbus intermedia', \"Salix alba 'Sericea'\", 'Betula pubescens', 'Fagus silvatica', 'Betula pubescens', \"Salix alba 'Sericea'\", 'Alnus incan', 'Quercus', 'Quercus', 'Alnus incan', 'Quercus', 'Alnus incan', 'Tilia', 'Ulmus carpinifolia', 'Ulmus carpinifolia', 'Populus', 'Tilia', 'Populus', 'Populus', 'Tilia', 'Salix sinerea', 'Salix aurita', 'Sorbus aucuparia', 'Sorbus aucuparia', 'Acer', 'Salix sinerea', 'Acer', 'Salix aurita', 'Salix aurita', 'Acer', 'Ulmus glabra', 'Populus tremula', 'Populus tremula', 'Ulmus glabra', 'Ulmus glabra', 'Populus tremula', 'Salix sinerea', 'Sorbus aucuparia', 'Sorbus aucuparia', 'Salix sinerea', 'Acer', 'Salix aurita', 'Salix aurita', 'Acer', 'Tilia', 'Ulmus carpinifolia', 'Populus', 'Ulmus carpinifolia', 'Tilia', 'Populus', 'Populus', 'Tilia', 'Alnus incan', 'Quercus', 'Quercus', 'Alnus incan', 'Quercus', 'Alnus incan', 'Sorbus intermedia', 'Fagus silvatica', 'Fagus silvatica', 'Sorbus intermedia', \"Salix alba 'Sericea'\", 'Sorbus intermedia', 'Betula pubescens', 'Betula pubescens', 'Fagus silvatica', \"Salix alba 'Sericea'\", 'Fagus silvatica', 'Betula pubescens', \"Salix alba 'Sericea'\", 'Sorbus intermedia', \"Salix alba 'Sericea'\", 'Betula pubescens', 'Fagus silvatica', 'Sorbus intermedia', 'Sorbus intermedia', 'Fagus silvatica', 'Alnus incan', 'Quercus', 'Quercus', 'Alnus incan', 'Alnus incan', 'Quercus', 'Populus', 'Tilia', 'Tilia', 'Populus', 'Ulmus carpinifolia', 'Populus', 'Tilia', 'Ulmus carpinifolia', 'Salix aurita', 'Acer', 'Acer', 'Salix aurita', 'Sorbus aucuparia', 'Salix sinerea', 'Salix sinerea', 'Sorbus aucuparia', 'Ulmus glabra', 'Populus tremula', 'Populus tremula', 'Ulmus glabra', 'Populus tremula', 'Ulmus glabra', 'Ulmus glabra', 'Populus tremula', 'Salix sinerea', 'Sorbus aucuparia', 'Sorbus aucuparia', 'Salix sinerea', 'Acer', 'Sorbus aucuparia', 'Salix aurita', 'Salix aurita', 'Salix sinerea', 'Acer', 'Ulmus carpinifolia', 'Tilia', 'Populus', 'Populus', 'Ulmus carpinifolia', 'Tilia', 'Alnus incan', 'Quercus', 'Quercus', 'Alnus incan', \"Salix alba 'Sericea'\", 'Sorbus intermedia', 'Fagus silvatica', 'Betula pubescens', 'Fagus silvatica', 'Sorbus intermedia', \"Salix alba 'Sericea'\", 'Betula pubescens', 'Betula pubescens', \"Salix alba 'Sericea'\", 'Betula pubescens', \"Salix alba 'Sericea'\", \"Salix alba 'Sericea'\", 'Betula pubescens', 'Fagus silvatica', 'Betula pubescens', 'Sorbus intermedia', 'Sorbus intermedia', \"Salix alba 'Sericea'\", 'Fagus silvatica', 'Quercus', 'Alnus incan', 'Alnus incan', 'Quercus', 'Ulmus carpinifolia', 'Populus', 'Tilia', 'Tilia', 'Populus', 'Ulmus carpinifolia', 'Ulmus carpinifolia', 'Salix aurita', 'Acer', 'Salix sinerea', 'Acer', 'Salix aurita', 'Sorbus aucuparia', 'Sorbus aucuparia', 'Salix sinerea', 'Salix sinerea', 'Sorbus aucuparia', 'Ulmus glabra', 'Populus tremula', 'Populus tremula', 'Ulmus glabra', 'Ulmus glabra', 'Populus tremula', 'Populus tremula', 'Ulmus glabra', 'Populus tremula', 'Ulmus glabra', 'Salix aurita', 'Salix sinerea', 'Acer', 'Acer', 'Sorbus aucuparia', 'Salix aurita', 'Salix sinerea', 'Sorbus aucuparia', 'Populus', 'Ulmus carpinifolia', 'Tilia', 'Tilia', 'Populus', 'Ulmus carpinifolia', 'Ulmus carpinifolia', 'Quercus', 'Alnus incan', 'Alnus incan', 'Quercus', 'Betula pubescens', \"Salix alba 'Sericea'\", \"Salix alba 'Sericea'\", 'Betula pubescens', 'Betula pubescens', 'Fagus silvatica', 'Sorbus intermedia', \"Salix alba 'Sericea'\", 'Sorbus intermedia', 'Fagus silvatica', 'Sorbus intermedia', \"Salix alba 'Sericea'\", 'Fagus silvatica', 'Fagus silvatica', 'Betula pubescens', 'Sorbus intermedia', \"Salix alba 'Sericea'\", 'Betula pubescens', 'Betula pubescens', \"Salix alba 'Sericea'\", 'Alnus incan', 'Quercus', 'Quercus', 'Alnus incan', 'Ulmus carpinifolia', 'Ulmus carpinifolia', 'Tilia', 'Populus', 'Ulmus carpinifolia', 'Populus', 'Tilia', 'Salix sinerea', 'Sorbus aucuparia', 'Sorbus aucuparia', 'Salix sinerea', 'Acer', 'Salix aurita', 'Sorbus aucuparia', 'Salix aurita', 'Acer', 'Salix sinerea', 'Ulmus glabra', 'Populus tremula', 'Populus tremula', 'Ulmus glabra', 'Ulmus glabra', 'Populus tremula', 'Ulmus glabra', 'Populus tremula', 'Populus tremula', 'Ulmus glabra', 'Salix aurita', 'Acer', 'Acer', 'Salix aurita', 'Sorbus aucuparia', 'Salix sinerea', 'Acer', 'Salix sinerea', 'Sorbus aucuparia', 'Salix aurita', 'Populus', 'Tilia', 'Tilia', 'Populus', 'Ulmus carpinifolia', 'Ulmus carpinifolia', 'Alnus incan', 'Quercus', 'Quercus', 'Alnus incan', 'Alnus incan', 'Quercus', 'Betula pubescens', 'Fagus silvatica', \"Salix alba 'Sericea'\", 'Sorbus intermedia', 'Fagus silvatica', 'Sorbus intermedia', 'Sorbus intermedia', 'Fagus silvatica', 'Sorbus intermedia', 'Fagus silvatica', 'Fagus silvatica', 'Sorbus intermedia', 'Sorbus intermedia', \"Salix alba 'Sericea'\", 'Fagus silvatica', 'Betula pubescens', 'Alnus incan', 'Quercus', 'Quercus', 'Alnus incan', 'Quercus', 'Alnus incan', 'Ulmus carpinifolia', 'Ulmus carpinifolia', 'Tilia', 'Populus', 'Populus', 'Tilia', 'Salix sinerea', 'Salix aurita', 'Sorbus aucuparia', 'Sorbus aucuparia', 'Acer', 'Salix sinerea', 'Acer', 'Salix aurita', 'Salix aurita', 'Acer', 'Populus tremula', 'Ulmus glabra', 'Ulmus glabra', 'Populus tremula', 'Populus tremula', 'Ulmus glabra', 'Ulmus glabra', 'Populus tremula', 'Populus tremula', 'Ulmus glabra', 'Sorbus aucuparia', 'Salix sinerea', 'Salix sinerea', 'Sorbus aucuparia', 'Salix aurita', 'Salix sinerea', 'Acer', 'Acer', 'Sorbus aucuparia', 'Salix aurita', 'Ulmus carpinifolia', 'Ulmus carpinifolia', 'Populus', 'Ulmus carpinifolia', 'Tilia', 'Tilia', 'Populus', 'Quercus', 'Alnus incan', 'Alnus incan', 'Quercus', 'Betula pubescens', 'Fagus silvatica', 'Sorbus intermedia', \"Salix alba 'Sericea'\", 'Sorbus intermedia', 'Fagus silvatica', 'Betula pubescens', \"Salix alba 'Sericea'\", \"Salix alba 'Sericea'\", 'Betula pubescens', \"Salix alba 'Sericea'\", 'Betula pubescens', 'Betula pubescens', \"Salix alba 'Sericea'\", 'Sorbus intermedia', \"Salix alba 'Sericea'\", 'Fagus silvatica', 'Fagus silvatica', 'Betula pubescens', 'Sorbus intermedia', 'Alnus incan', 'Quercus', 'Quercus', 'Alnus incan', 'Tilia', 'Populus', 'Ulmus carpinifolia', 'Populus', 'Tilia', 'Ulmus carpinifolia', 'Ulmus carpinifolia', 'Acer', 'Salix aurita', 'Sorbus aucuparia', 'Salix aurita', 'Acer', 'Salix sinerea', 'Salix sinerea', 'Sorbus aucuparia', 'Sorbus aucuparia', 'Salix sinerea', 'Populus tremula', 'Ulmus glabra', 'Ulmus glabra', 'Populus tremula', 'Ulmus glabra', 'Populus tremula', 'Ulmus glabra', 'Populus tremula', 'Populus tremula', 'Ulmus glabra', 'Sorbus aucuparia', 'Salix sinerea', 'Acer', 'Salix sinerea', 'Sorbus aucuparia', 'Salix aurita', 'Salix aurita', 'Acer', 'Acer', 'Salix aurita', 'Populus', 'Ulmus carpinifolia', 'Tilia', 'Populus', 'Tilia', 'Tilia', 'Populus', 'Quercus', 'Alnus incan', 'Alnus incan', 'Quercus', 'Alnus incan', 'Quercus', 'Fagus silvatica', 'Sorbus intermedia', 'Sorbus intermedia', 'Fagus silvatica', 'Betula pubescens', \"Salix alba 'Sericea'\", \"Salix alba 'Sericea'\", 'Betula pubescens', \"Salix alba 'Sericea'\", 'Betula pubescens', 'Betula pubescens', \"Salix alba 'Sericea'\", 'Sorbus intermedia', 'Fagus silvatica', 'Fagus silvatica', 'Sorbus intermedia', 'Quercus', 'Alnus incan', 'Alnus incan', 'Quercus', 'Quercus', 'Alnus incan', 'Tilia', 'Populus', 'Populus', 'Tilia', 'Tilia', 'Ulmus carpinifolia', 'Populus', 'Acer', 'Salix aurita', 'Salix aurita', 'Acer', 'Salix sinerea', 'Salix aurita', 'Sorbus aucuparia', 'Sorbus aucuparia', 'Acer', 'Salix sinerea', 'Populus tremula', 'Ulmus glabra', 'Ulmus glabra', 'Populus tremula', 'Populus tremula', 'Ulmus glabra', 'Ulmus glabra', 'Populus tremula', 'Acer', 'Salix aurita', 'Salix aurita', 'Acer', 'Sorbus aucuparia', 'Salix aurita', 'Salix sinerea', 'Acer', 'Tilia', 'Populus', 'Populus', 'Tilia', 'Tilia', 'Ulmus carpinifolia', 'Populus', 'Ulmus carpinifolia', 'Alnus incan', 'Quercus', 'Quercus', 'Alnus incan', \"Salix alba 'Sericea'\", 'Sorbus intermedia', 'Betula pubescens', 'Betula pubescens', 'Fagus silvatica', \"Salix alba 'Sericea'\", 'Sorbus intermedia', 'Fagus silvatica', 'Fagus silvatica', 'Sorbus intermedia', 'Fagus silvatica', 'Sorbus intermedia', 'Sorbus intermedia', 'Fagus silvatica', 'Fagus silvatica', 'Betula pubescens', \"Salix alba 'Sericea'\", 'Sorbus intermedia', \"Salix alba 'Sericea'\", 'Betula pubescens', 'Quercus', 'Alnus incan', 'Alnus incan', 'Quercus', 'Ulmus carpinifolia', 'Populus', 'Tilia', 'Ulmus carpinifolia', 'Populus', 'Tilia', 'Tilia', 'Populus', 'Acer', 'Salix sinerea', 'Salix aurita', 'Sorbus aucuparia', 'Salix aurita', 'Acer', 'Acer', 'Salix aurita', 'Ulmus glabra', 'Populus tremula', 'Populus tremula', 'Ulmus glabra', 'Populus tremula', 'Ulmus glabra', 'Ulmus glabra', 'Populus tremula', 'Ulmus glabra', 'Populus tremula', 'Acer', 'Sorbus aucuparia', 'Salix aurita', 'Salix aurita', 'Salix sinerea', 'Acer', 'Salix sinerea', 'Sorbus aucuparia', 'Sorbus aucuparia', 'Salix sinerea', 'Tilia', 'Populus', 'Populus', 'Ulmus carpinifolia', 'Tilia', 'Ulmus carpinifolia', 'Ulmus carpinifolia', 'Alnus incan', 'Quercus', 'Quercus', 'Alnus incan', \"Salix alba 'Sericea'\", 'Betula pubescens', \"Salix alba 'Sericea'\", 'Sorbus intermedia', 'Fagus silvatica', 'Betula pubescens', 'Fagus silvatica', 'Sorbus intermedia', 'Fagus silvatica', 'Betula pubescens', 'Sorbus intermedia', 'Sorbus intermedia', \"Salix alba 'Sericea'\", 'Fagus silvatica', 'Betula pubescens', \"Salix alba 'Sericea'\", \"Salix alba 'Sericea'\", 'Betula pubescens', 'Quercus', 'Alnus incan', 'Alnus incan', 'Quercus', 'Ulmus carpinifolia', 'Ulmus carpinifolia', 'Ulmus carpinifolia', 'Populus', 'Tilia', 'Tilia', 'Populus', 'Sorbus aucuparia', 'Salix sinerea', 'Salix sinerea', 'Sorbus aucuparia', 'Salix aurita', 'Acer', 'Salix sinerea', 'Acer', 'Salix aurita', 'Sorbus aucuparia', 'Populus tremula', 'Ulmus glabra', 'Ulmus glabra', 'Populus tremula', 'Populus tremula', 'Ulmus glabra']\n"
     ]
    }
   ],
   "source": [
    "#import data\n",
    "from PIL import Image\n",
    "import os\n",
    "\n",
    "def getLabel(s):\n",
    "    labels = {1 : 'Ulmus carpinifolia', \n",
    "                2 : 'Acer', \n",
    "                3 : 'Salix aurita', \n",
    "                4 : 'Quercus', \n",
    "                5 : 'Alnus incan', \n",
    "                6 : 'Betula pubescens', \n",
    "                7 : 'Salix alba \\'Sericea\\'', \n",
    "                8 : 'Populus tremula', \n",
    "                9 : 'Ulmus glabra', \n",
    "                10 : 'Sorbus aucuparia', \n",
    "                11 : 'Salix sinerea', \n",
    "                12 : 'Populus', \n",
    "                13 : 'Tilia', \n",
    "                14 : 'Sorbus intermedia', \n",
    "                15 : 'Fagus silvatica'}\n",
    "    return labels.get(int(s))\n",
    "\n",
    "im = [] #images\n",
    "la = [] #labels\n",
    "data_dir = \"/Users/stevenli/SigAida/data/images/\" #change to data directory\n",
    "for f in os.listdir(data_dir):\n",
    "    im.append(Image.open(data_dir + f))\n",
    "    la.append(getLabel(f[:-9].replace('l',''))) #removes last 9 letters replaces l with blank then gets label\n",
    "\n",
    "print(la)\n",
    "image1 = im[1]\n",
    "image1.show()\n",
    "\n",
    "\n"
   ]
  },
  {
   "cell_type": "code",
   "execution_count": null,
   "id": "5e2c21ca",
   "metadata": {},
   "outputs": [],
   "source": [
    "#some preprocessing, randomize data, split data, load into dataloaders\n",
    "def create_splits(spleens, split_ratio):\n",
    "    test = []\n",
    "    train = []\n",
    "    val = []\n",
    "    train_val, test = split_array(spleens, train_size = (split_ratio[0] + split_ratio[1]), test_size = split_ratio[2])\n",
    "    train_size = round(split_ratio[0] / (split_ratio[0]+ split_ratio[1]), 2)\n",
    "    val_size = round(split_ratio[1] / (split_ratio[0]+ split_ratio[1]), 2)\n",
    "    train, val = split_array(train_val, train_size=train_size, test_size = val_size)\n",
    "    return train, val, test\n",
    "\n",
    "train, val, test = create_splits(spleens, split_ratio=(0.8, 0.1, 0.1))"
   ]
  },
  {
   "cell_type": "code",
   "execution_count": 13,
   "id": "971f44ad",
   "metadata": {},
   "outputs": [
    {
     "name": "stdout",
     "output_type": "stream",
     "text": [
      "Downloading https://www.cs.toronto.edu/~kriz/cifar-10-python.tar.gz to ./data/cifar-10-python.tar.gz\n"
     ]
    },
    {
     "data": {
      "application/vnd.jupyter.widget-view+json": {
       "model_id": "4b306e98171f42369d4bf13dc39597f7",
       "version_major": 2,
       "version_minor": 0
      },
      "text/plain": [
       "  0%|          | 0/170498071 [00:00<?, ?it/s]"
      ]
     },
     "metadata": {},
     "output_type": "display_data"
    },
    {
     "name": "stdout",
     "output_type": "stream",
     "text": [
      "Extracting ./data/cifar-10-python.tar.gz to ./data\n"
     ]
    },
    {
     "ename": "NameError",
     "evalue": "name 'device' is not defined",
     "output_type": "error",
     "traceback": [
      "\u001b[0;31m---------------------------------------------------------------------------\u001b[0m",
      "\u001b[0;31mNameError\u001b[0m                                 Traceback (most recent call last)",
      "Input \u001b[0;32mIn [13]\u001b[0m, in \u001b[0;36m<cell line: 17>\u001b[0;34m()\u001b[0m\n\u001b[1;32m     17\u001b[0m \u001b[38;5;28;01mfor\u001b[39;00m epoch \u001b[38;5;129;01min\u001b[39;00m \u001b[38;5;28mrange\u001b[39m(num_epochs):\n\u001b[1;32m     18\u001b[0m     \u001b[38;5;28;01mfor\u001b[39;00m images, labels \u001b[38;5;129;01min\u001b[39;00m train_loader:\n\u001b[1;32m     19\u001b[0m         \u001b[38;5;66;03m# Move tensors to the configured device\u001b[39;00m\n\u001b[0;32m---> 20\u001b[0m         images \u001b[38;5;241m=\u001b[39m images\u001b[38;5;241m.\u001b[39mto(\u001b[43mdevice\u001b[49m)\n\u001b[1;32m     21\u001b[0m         labels \u001b[38;5;241m=\u001b[39m labels\u001b[38;5;241m.\u001b[39mto(device)\n\u001b[1;32m     23\u001b[0m         \u001b[38;5;66;03m# Forward pass\u001b[39;00m\n",
      "\u001b[0;31mNameError\u001b[0m: name 'device' is not defined"
     ]
    }
   ],
   "source": [
    "# should probably make some changes here to get what we want\n",
    "\n",
    "import torchvision.datasets as datasets\n",
    "import torchvision.transforms as transforms\n",
    "\n",
    "transform = transforms.Compose([\n",
    "    transforms.Resize(224), # change to waht data should be\n",
    "    transforms.CenterCrop(224),\n",
    "    transforms.ToTensor(),\n",
    "    transforms.Normalize(mean=[0.485, 0.456, 0.406], std=[0.229, 0.224, 0.225])\n",
    "])\n",
    "\n",
    "train_dataset = datasets.CIFAR10(root='./data', train=True, download=True, transform=transform)\n",
    "train_loader = torch.utils.data.DataLoader(train_dataset, batch_size=32, shuffle=True)\n",
    "\n",
    "# Train the model\n",
    "num_epochs = 10\n",
    "\n",
    "for epoch in range(num_epochs):\n",
    "    for images, labels in train_loader:\n",
    "        # Move tensors to the configured device\n",
    "        images = images.to(device)\n",
    "        labels = labels.to(device)\n",
    "\n",
    "        # Forward pass\n",
    "        outputs = model(images)\n",
    "        loss = criterion(outputs, labels)\n",
    "\n",
    "        # Backward and optimize\n",
    "        optimizer.zero_grad()\n",
    "        loss.backward()\n",
    "        optimizer.step()\n",
    "\n",
    "        # Print some statistics\n",
    "        if (i+1) % 100 == 0:\n",
    "            print(f'Epoch [{epoch+1}/{num_epochs}], Step [{i+1}/{total_steps}], Loss: {loss.item():.4f}')"
   ]
  },
  {
   "cell_type": "code",
   "execution_count": null,
   "id": "b99bea66",
   "metadata": {},
   "outputs": [],
   "source": []
  }
 ],
 "metadata": {
  "kernelspec": {
   "display_name": "Python 3 (ipykernel)",
   "language": "python",
   "name": "python3"
  },
  "language_info": {
   "codemirror_mode": {
    "name": "ipython",
    "version": 3
   },
   "file_extension": ".py",
   "mimetype": "text/x-python",
   "name": "python",
   "nbconvert_exporter": "python",
   "pygments_lexer": "ipython3",
   "version": "3.9.12"
  }
 },
 "nbformat": 4,
 "nbformat_minor": 5
}
