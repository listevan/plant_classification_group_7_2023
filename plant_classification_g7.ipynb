{
 "cells": [
  {
   "cell_type": "code",
   "execution_count": 1,
   "id": "ecbe5652",
   "metadata": {},
   "outputs": [],
   "source": [
    "# import torch and numpy and pretrained model\n",
    "from torchvision import models\n",
    "import torch\n",
    "import numpy as np\n",
    "import os\n",
    "\n",
    "# load pretrained model\n",
    "pretrained_model = models.resnet50(weights = 'DEFAULT', progress = True)"
   ]
  },
  {
   "cell_type": "code",
   "execution_count": 2,
   "id": "262de170",
   "metadata": {},
   "outputs": [],
   "source": [
    "# changes fully connected/classifier layer to new layer for us to train, 15 is the number of solutions or types of leaves\n",
    "pretrained_model.fc = torch.nn.Linear(2048, 15)"
   ]
  },
  {
   "cell_type": "code",
   "execution_count": 3,
   "id": "09a04fa0",
   "metadata": {},
   "outputs": [],
   "source": [
    "# # Currently not in use, for if we wanna custom build a softmax but idk how to train it\n",
    "# import torch.nn as nn\n",
    "# # build custom softmax module\n",
    "# class Softmax(nn.Module):\n",
    "#     def __init__(self, n_inputs, n_outputs):\n",
    "#         super().__init__()\n",
    "#         self.linear = nn.Linear(n_inputs, n_outputs)\n",
    " \n",
    "#     def forward(self, x):\n",
    "#         pred = self.linear(x)\n",
    "#         return pred"
   ]
  },
  {
   "cell_type": "code",
   "execution_count": 4,
   "id": "a3d631a9",
   "metadata": {},
   "outputs": [],
   "source": [
    "# # Currently not in use\n",
    "# # adds softmax to model\n",
    "# class MyModel(nn.Module):\n",
    "#     def __init__(self, pretrained_model):\n",
    "#         super(MyModel, self).__init__()\n",
    "#         self.pretrained_model = pretrained_model\n",
    "#         self.last_layer = Softmax(1000, n) # add how many nodes as input and output\n",
    "\n",
    "#     def forward(self, x):\n",
    "#         return self.last_layer(self.pretrained_model(x))\n",
    "\n",
    "# model = MyModel(pretrained_model)"
   ]
  },
  {
   "cell_type": "code",
   "execution_count": 5,
   "id": "3c430901",
   "metadata": {},
   "outputs": [],
   "source": [
    "#freeze model except fc layer because we don't wanna retrain the pretrained model\n",
    "for param in pretrained_model.parameters():\n",
    "    param.requires_grad = False\n",
    "\n",
    "for param in pretrained_model.fc.parameters():\n",
    "    param.requires_grad = True"
   ]
  },
  {
   "cell_type": "code",
   "execution_count": 6,
   "id": "a2e32582",
   "metadata": {},
   "outputs": [],
   "source": [
    "criterion = torch.nn.CrossEntropyLoss() #could write this out ourselves\n",
    "# need to find an optimizer or make one for a custom softmax function\n",
    "optimizer = torch.optim.Adam(pretrained_model.fc.parameters(), lr=0.001) #need optimize learning rate idk how momentum works"
   ]
  },
  {
   "cell_type": "code",
   "execution_count": 13,
   "id": "e3530c8a",
   "metadata": {},
   "outputs": [
    {
     "name": "stdout",
     "output_type": "stream",
     "text": [
      "l8nr039.tif\n",
      "l9nr039.tif\n",
      "l9nr011.tif\n",
      "l8nr005.tif\n",
      "l8nr011.tif\n",
      "l9nr005.tif\n",
      "l10nr050.tif\n",
      "l11nr044.tif\n",
      "l11nr050.tif\n",
      "l10nr044.tif\n",
      "l3nr006.tif\n",
      "l2nr012.tif\n",
      "l2nr006.tif\n",
      "l3nr012.tif\n",
      "l1nr055.tif\n",
      "l1nr041.tif\n",
      "l12nr003.tif\n",
      "l1nr069.tif\n",
      "l13nr017.tif\n",
      "l13nr003.tif\n",
      "l12nr017.tif\n",
      "l5nr063.tif\n",
      "l4nr063.tif\n",
      "l6nr018.tif\n",
      "l15nr072.tif\n",
      "l14nr066.tif\n",
      "l7nr018.tif\n",
      "l14nr072.tif\n",
      "l15nr066.tif\n",
      "l6nr024.tif\n",
      "l7nr030.tif\n",
      "l7nr024.tif\n",
      "l6nr030.tif\n",
      "l7nr025.tif\n",
      "l6nr031.tif\n",
      "l6nr025.tif\n",
      "l7nr031.tif\n",
      "l14nr073.tif\n",
      "l7nr019.tif\n",
      "l15nr067.tif\n",
      "l15nr073.tif\n",
      "l6nr019.tif\n",
      "l14nr067.tif\n",
      "l4nr062.tif\n",
      "l5nr062.tif\n",
      "l13nr002.tif\n",
      "l12nr016.tif\n",
      "l1nr068.tif\n",
      "l12nr002.tif\n",
      "l13nr016.tif\n",
      "l1nr040.tif\n",
      "l1nr054.tif\n",
      "l2nr007.tif\n",
      "l3nr013.tif\n",
      "l3nr007.tif\n",
      "l2nr013.tif\n",
      "l11nr051.tif\n",
      "l10nr045.tif\n",
      "l10nr051.tif\n",
      "l11nr045.tif\n",
      "l8nr010.tif\n",
      "l9nr004.tif\n",
      "l9nr010.tif\n",
      "l8nr004.tif\n",
      "l9nr038.tif\n",
      "l8nr038.tif\n",
      "l9nr006.tif\n",
      "l8nr012.tif\n",
      "l8nr006.tif\n",
      "l9nr012.tif\n",
      "l10nr047.tif\n",
      "l11nr053.tif\n",
      "l2nr039.tif\n",
      "l11nr047.tif\n",
      "l10nr053.tif\n",
      "l3nr039.tif\n",
      "l3nr011.tif\n",
      "l2nr005.tif\n",
      "l2nr011.tif\n",
      "l3nr005.tif\n",
      "l12nr028.tif\n",
      "l1nr042.tif\n",
      "l13nr028.tif\n",
      "l1nr056.tif\n",
      "l12nr014.tif\n",
      "l13nr014.tif\n",
      "l4nr060.tif\n",
      "l5nr074.tif\n",
      "l5nr060.tif\n",
      "l4nr074.tif\n",
      "l5nr048.tif\n",
      "l4nr048.tif\n",
      "l15nr065.tif\n",
      "l14nr071.tif\n",
      "l14nr065.tif\n",
      "l15nr071.tif\n",
      "l6nr033.tif\n",
      "l15nr059.tif\n",
      "l7nr027.tif\n",
      "l7nr033.tif\n",
      "l14nr059.tif\n",
      "l6nr027.tif\n",
      "l14nr058.tif\n",
      "l7nr032.tif\n",
      "l6nr026.tif\n",
      "l15nr058.tif\n",
      "l6nr032.tif\n",
      "l7nr026.tif\n",
      "l14nr064.tif\n",
      "l15nr070.tif\n",
      "l15nr064.tif\n",
      "l14nr070.tif\n",
      "l4nr049.tif\n",
      "l5nr049.tif\n",
      "l5nr061.tif\n",
      "l4nr075.tif\n",
      "l4nr061.tif\n",
      "l5nr075.tif\n",
      "l13nr015.tif\n",
      "l12nr001.tif\n",
      "l12nr015.tif\n",
      "l13nr001.tif\n",
      "l13nr029.tif\n",
      "l1nr057.tif\n",
      "l1nr043.tif\n",
      "l12nr029.tif\n",
      "l2nr010.tif\n",
      "l3nr004.tif\n",
      "l3nr010.tif\n",
      "l2nr004.tif\n",
      "l11nr046.tif\n",
      "l3nr038.tif\n",
      "l10nr052.tif\n",
      "l10nr046.tif\n",
      "l2nr038.tif\n",
      "l11nr052.tif\n",
      "l8nr007.tif\n",
      "l9nr013.tif\n",
      "l9nr007.tif\n",
      "l8nr013.tif\n",
      "l8nr017.tif\n",
      "l9nr003.tif\n",
      "l9nr017.tif\n",
      "l8nr003.tif\n",
      "l3nr014.tif\n",
      "l2nr014.tif\n",
      "l11nr056.tif\n",
      "l10nr042.tif\n",
      "l3nr028.tif\n",
      "l10nr056.tif\n",
      "l11nr042.tif\n",
      "l2nr028.tif\n",
      "l13nr005.tif\n",
      "l12nr011.tif\n",
      "l12nr005.tif\n",
      "l13nr011.tif\n",
      "l13nr039.tif\n",
      "l1nr047.tif\n",
      "l12nr039.tif\n",
      "l1nr053.tif\n",
      "l4nr059.tif\n",
      "l5nr059.tif\n",
      "l5nr071.tif\n",
      "l4nr065.tif\n",
      "l4nr071.tif\n",
      "l5nr065.tif\n",
      "l7nr022.tif\n",
      "l14nr048.tif\n",
      "l6nr036.tif\n",
      "l6nr022.tif\n",
      "l15nr048.tif\n",
      "l7nr036.tif\n",
      "l14nr074.tif\n",
      "l15nr060.tif\n",
      "l15nr074.tif\n",
      "l14nr060.tif\n",
      "l15nr075.tif\n",
      "l14nr061.tif\n",
      "l14nr075.tif\n",
      "l15nr061.tif\n",
      "l15nr049.tif\n",
      "l6nr023.tif\n",
      "l7nr037.tif\n",
      "l14nr049.tif\n",
      "l7nr023.tif\n",
      "l6nr037.tif\n",
      "l4nr070.tif\n",
      "l5nr064.tif\n",
      "l5nr070.tif\n",
      "l4nr064.tif\n",
      "l5nr058.tif\n",
      "l4nr058.tif\n",
      "l1nr052.tif\n",
      "l12nr038.tif\n",
      "l13nr038.tif\n",
      "l1nr046.tif\n",
      "l12nr004.tif\n",
      "l13nr010.tif\n",
      "l13nr004.tif\n",
      "l12nr010.tif\n",
      "l10nr057.tif\n",
      "l2nr029.tif\n",
      "l11nr043.tif\n",
      "l11nr057.tif\n",
      "l3nr029.tif\n",
      "l10nr043.tif\n",
      "l3nr001.tif\n",
      "l2nr015.tif\n",
      "l2nr001.tif\n",
      "l3nr015.tif\n",
      "l9nr016.tif\n",
      "l8nr002.tif\n",
      "l8nr016.tif\n",
      "l9nr002.tif\n",
      "l9nr014.tif\n",
      "l8nr014.tif\n",
      "l9nr028.tif\n",
      "l8nr028.tif\n",
      "l2nr017.tif\n",
      "l10nr069.tif\n",
      "l3nr003.tif\n",
      "l3nr017.tif\n",
      "l11nr069.tif\n",
      "l2nr003.tif\n",
      "l11nr041.tif\n",
      "l10nr055.tif\n",
      "l10nr041.tif\n",
      "l11nr055.tif\n",
      "l13nr012.tif\n",
      "l12nr006.tif\n",
      "l12nr012.tif\n",
      "l13nr006.tif\n",
      "l1nr050.tif\n",
      "l1nr044.tif\n",
      "l5nr066.tif\n",
      "l4nr072.tif\n",
      "l4nr066.tif\n",
      "l5nr072.tif\n",
      "l7nr035.tif\n",
      "l6nr021.tif\n",
      "l6nr035.tif\n",
      "l7nr021.tif\n",
      "l7nr009.tif\n",
      "l14nr063.tif\n",
      "l6nr009.tif\n",
      "l15nr063.tif\n",
      "l15nr062.tif\n",
      "l6nr008.tif\n",
      "l14nr062.tif\n",
      "l7nr008.tif\n",
      "l6nr034.tif\n",
      "l7nr020.tif\n",
      "l7nr034.tif\n",
      "l6nr020.tif\n",
      "l4nr067.tif\n",
      "l5nr073.tif\n",
      "l5nr067.tif\n",
      "l4nr073.tif\n",
      "l1nr045.tif\n",
      "l1nr051.tif\n",
      "l12nr013.tif\n",
      "l13nr007.tif\n",
      "l13nr013.tif\n",
      "l12nr007.tif\n",
      "l10nr040.tif\n",
      "l11nr054.tif\n",
      "l11nr040.tif\n",
      "l10nr054.tif\n",
      "l3nr016.tif\n",
      "l2nr002.tif\n",
      "l11nr068.tif\n",
      "l2nr016.tif\n",
      "l3nr002.tif\n",
      "l10nr068.tif\n",
      "l8nr029.tif\n",
      "l9nr029.tif\n",
      "l9nr001.tif\n",
      "l8nr015.tif\n",
      "l8nr001.tif\n",
      "l9nr015.tif\n",
      "l8nr066.tif\n",
      "l9nr072.tif\n",
      "l9nr066.tif\n",
      "l8nr072.tif\n",
      "l11nr027.tif\n",
      "l10nr033.tif\n",
      "l3nr059.tif\n",
      "l10nr027.tif\n",
      "l11nr033.tif\n",
      "l2nr059.tif\n",
      "l2nr071.tif\n",
      "l3nr065.tif\n",
      "l3nr071.tif\n",
      "l2nr065.tif\n",
      "l13nr048.tif\n",
      "l1nr036.tif\n",
      "l12nr048.tif\n",
      "l1nr022.tif\n",
      "l13nr074.tif\n",
      "l12nr060.tif\n",
      "l12nr074.tif\n",
      "l13nr060.tif\n",
      "l4nr014.tif\n",
      "l5nr014.tif\n",
      "l4nr028.tif\n",
      "l5nr028.tif\n",
      "l14nr005.tif\n",
      "l15nr011.tif\n",
      "l15nr005.tif\n",
      "l14nr011.tif\n",
      "l7nr053.tif\n",
      "l14nr039.tif\n",
      "l6nr047.tif\n",
      "l6nr053.tif\n",
      "l15nr039.tif\n",
      "l7nr047.tif\n",
      "l15nr038.tif\n",
      "l6nr052.tif\n",
      "l7nr046.tif\n",
      "l14nr038.tif\n",
      "l7nr052.tif\n",
      "l6nr046.tif\n",
      "l15nr004.tif\n",
      "l14nr010.tif\n",
      "l14nr004.tif\n",
      "l15nr010.tif\n",
      "l5nr029.tif\n",
      "l4nr029.tif\n",
      "l4nr001.tif\n",
      "l5nr015.tif\n",
      "l5nr001.tif\n",
      "l4nr015.tif\n",
      "l12nr075.tif\n",
      "l13nr061.tif\n",
      "l13nr075.tif\n",
      "l12nr061.tif\n",
      "l1nr023.tif\n",
      "l12nr049.tif\n",
      "l13nr049.tif\n",
      "l1nr037.tif\n",
      "l3nr070.tif\n",
      "l2nr064.tif\n",
      "l2nr070.tif\n",
      "l3nr064.tif\n",
      "l10nr026.tif\n",
      "l2nr058.tif\n",
      "l11nr032.tif\n",
      "l11nr026.tif\n",
      "l3nr058.tif\n",
      "l10nr032.tif\n",
      "l9nr067.tif\n",
      "l8nr073.tif\n",
      "l8nr067.tif\n",
      "l9nr073.tif\n",
      "l9nr059.tif\n",
      "l8nr059.tif\n",
      "l8nr071.tif\n",
      "l9nr065.tif\n",
      "l9nr071.tif\n",
      "l8nr065.tif\n",
      "l11nr030.tif\n",
      "l10nr024.tif\n",
      "l10nr030.tif\n",
      "l11nr024.tif\n",
      "l2nr066.tif\n",
      "l10nr018.tif\n",
      "l3nr072.tif\n",
      "l3nr066.tif\n",
      "l11nr018.tif\n",
      "l2nr072.tif\n",
      "l1nr021.tif\n",
      "l1nr035.tif\n",
      "l13nr063.tif\n",
      "l12nr063.tif\n",
      "l1nr009.tif\n",
      "l5nr017.tif\n",
      "l4nr003.tif\n",
      "l4nr017.tif\n",
      "l5nr003.tif\n",
      "l14nr012.tif\n",
      "l15nr006.tif\n",
      "l15nr012.tif\n",
      "l14nr006.tif\n",
      "l7nr044.tif\n",
      "l6nr050.tif\n",
      "l6nr044.tif\n",
      "l7nr050.tif\n",
      "l6nr045.tif\n",
      "l7nr051.tif\n",
      "l7nr045.tif\n",
      "l6nr051.tif\n",
      "l15nr013.tif\n",
      "l14nr007.tif\n",
      "l14nr013.tif\n",
      "l15nr007.tif\n",
      "l4nr016.tif\n",
      "l5nr002.tif\n",
      "l5nr016.tif\n",
      "l4nr002.tif\n",
      "l1nr008.tif\n",
      "l12nr062.tif\n",
      "l13nr062.tif\n",
      "l1nr034.tif\n",
      "l1nr020.tif\n",
      "l3nr067.tif\n",
      "l2nr073.tif\n",
      "l11nr019.tif\n",
      "l2nr067.tif\n",
      "l3nr073.tif\n",
      "l10nr019.tif\n",
      "l10nr031.tif\n",
      "l11nr025.tif\n",
      "l11nr031.tif\n",
      "l10nr025.tif\n",
      "l9nr070.tif\n",
      "l8nr064.tif\n",
      "l8nr070.tif\n",
      "l9nr064.tif\n",
      "l8nr058.tif\n",
      "l9nr058.tif\n",
      "l9nr060.tif\n",
      "l8nr074.tif\n",
      "l8nr060.tif\n",
      "l9nr074.tif\n",
      "l8nr048.tif\n",
      "l9nr048.tif\n",
      "l11nr009.tif\n",
      "l2nr063.tif\n",
      "l10nr009.tif\n",
      "l3nr063.tif\n",
      "l10nr021.tif\n",
      "l11nr035.tif\n",
      "l11nr021.tif\n",
      "l10nr035.tif\n",
      "l12nr072.tif\n",
      "l1nr018.tif\n",
      "l13nr066.tif\n",
      "l13nr072.tif\n",
      "l12nr066.tif\n",
      "l1nr024.tif\n",
      "l1nr030.tif\n",
      "l4nr006.tif\n",
      "l5nr012.tif\n",
      "l5nr006.tif\n",
      "l4nr012.tif\n",
      "l6nr055.tif\n",
      "l7nr041.tif\n",
      "l7nr055.tif\n",
      "l6nr041.tif\n",
      "l6nr069.tif\n",
      "l15nr003.tif\n",
      "l14nr017.tif\n",
      "l7nr069.tif\n",
      "l14nr003.tif\n",
      "l15nr017.tif\n",
      "l14nr002.tif\n",
      "l7nr068.tif\n",
      "l15nr016.tif\n",
      "l15nr002.tif\n",
      "l6nr068.tif\n",
      "l14nr016.tif\n",
      "l7nr054.tif\n",
      "l6nr040.tif\n",
      "l6nr054.tif\n",
      "l7nr040.tif\n",
      "l5nr007.tif\n",
      "l4nr013.tif\n",
      "l4nr007.tif\n",
      "l5nr013.tif\n",
      "l1nr031.tif\n",
      "l1nr025.tif\n",
      "l13nr073.tif\n",
      "l12nr067.tif\n",
      "l1nr019.tif\n",
      "l12nr073.tif\n",
      "l13nr067.tif\n",
      "l11nr020.tif\n",
      "l10nr034.tif\n",
      "l10nr020.tif\n",
      "l11nr034.tif\n",
      "l3nr062.tif\n",
      "l10nr008.tif\n",
      "l2nr062.tif\n",
      "l11nr008.tif\n",
      "l9nr049.tif\n",
      "l8nr049.tif\n",
      "l8nr061.tif\n",
      "l9nr075.tif\n",
      "l9nr061.tif\n",
      "l8nr075.tif\n",
      "l8nr063.tif\n",
      "l9nr063.tif\n",
      "l3nr060.tif\n",
      "l2nr074.tif\n",
      "l2nr060.tif\n",
      "l3nr074.tif\n",
      "l10nr036.tif\n",
      "l11nr022.tif\n",
      "l2nr048.tif\n",
      "l11nr036.tif\n",
      "l10nr022.tif\n",
      "l3nr048.tif\n",
      "l12nr065.tif\n",
      "l13nr071.tif\n",
      "l13nr065.tif\n",
      "l12nr071.tif\n",
      "l12nr059.tif\n",
      "l1nr033.tif\n",
      "l13nr059.tif\n",
      "l1nr027.tif\n",
      "l5nr039.tif\n",
      "l4nr039.tif\n",
      "l4nr011.tif\n",
      "l5nr005.tif\n",
      "l5nr011.tif\n",
      "l4nr005.tif\n",
      "l6nr042.tif\n",
      "l15nr028.tif\n",
      "l7nr056.tif\n",
      "l7nr042.tif\n",
      "l14nr028.tif\n",
      "l6nr056.tif\n",
      "l15nr014.tif\n",
      "l14nr014.tif\n",
      "l14nr015.tif\n",
      "l15nr001.tif\n",
      "l15nr015.tif\n",
      "l14nr001.tif\n",
      "l14nr029.tif\n",
      "l7nr043.tif\n",
      "l6nr057.tif\n",
      "l15nr029.tif\n",
      "l6nr043.tif\n",
      "l7nr057.tif\n",
      "l5nr010.tif\n",
      "l4nr004.tif\n",
      "l4nr010.tif\n",
      "l5nr004.tif\n",
      "l4nr038.tif\n",
      "l5nr038.tif\n",
      "l13nr058.tif\n",
      "l1nr026.tif\n",
      "l1nr032.tif\n",
      "l12nr058.tif\n",
      "l13nr064.tif\n",
      "l12nr070.tif\n",
      "l12nr064.tif\n",
      "l13nr070.tif\n",
      "l11nr037.tif\n",
      "l3nr049.tif\n",
      "l10nr023.tif\n",
      "l10nr037.tif\n",
      "l2nr049.tif\n",
      "l11nr023.tif\n",
      "l2nr061.tif\n",
      "l3nr075.tif\n",
      "l3nr061.tif\n",
      "l2nr075.tif\n",
      "l9nr062.tif\n",
      "l8nr062.tif\n",
      "l8nr047.tif\n",
      "l9nr053.tif\n",
      "l9nr047.tif\n",
      "l8nr053.tif\n",
      "l11nr006.tif\n",
      "l10nr012.tif\n",
      "l10nr006.tif\n",
      "l11nr012.tif\n",
      "l2nr050.tif\n",
      "l3nr044.tif\n",
      "l3nr050.tif\n",
      "l2nr044.tif\n",
      "l13nr069.tif\n",
      "l1nr017.tif\n",
      "l12nr069.tif\n",
      "l1nr003.tif\n",
      "l13nr055.tif\n",
      "l12nr041.tif\n",
      "l12nr055.tif\n",
      "l13nr041.tif\n",
      "l5nr021.tif\n",
      "l4nr035.tif\n",
      "l4nr021.tif\n",
      "l5nr035.tif\n",
      "l4nr009.tif\n",
      "l5nr009.tif\n",
      "l14nr024.tif\n",
      "l15nr030.tif\n",
      "l15nr024.tif\n",
      "l14nr030.tif\n",
      "l7nr072.tif\n",
      "l14nr018.tif\n",
      "l6nr066.tif\n",
      "l6nr072.tif\n",
      "l15nr018.tif\n",
      "l7nr066.tif\n",
      "l15nr019.tif\n",
      "l6nr073.tif\n",
      "l7nr067.tif\n",
      "l14nr019.tif\n",
      "l7nr073.tif\n",
      "l6nr067.tif\n",
      "l15nr025.tif\n",
      "l14nr031.tif\n",
      "l14nr025.tif\n",
      "l15nr031.tif\n",
      "l5nr008.tif\n",
      "l4nr008.tif\n",
      "l4nr020.tif\n",
      "l5nr034.tif\n",
      "l5nr020.tif\n",
      "l4nr034.tif\n",
      "l12nr054.tif\n",
      "l13nr040.tif\n",
      "l13nr054.tif\n",
      "l12nr040.tif\n",
      "l1nr002.tif\n",
      "l12nr068.tif\n",
      "l13nr068.tif\n",
      "l1nr016.tif\n",
      "l3nr051.tif\n",
      "l2nr045.tif\n",
      "l2nr051.tif\n",
      "l3nr045.tif\n",
      "l10nr007.tif\n",
      "l11nr013.tif\n",
      "l11nr007.tif\n",
      "l10nr013.tif\n",
      "l9nr046.tif\n",
      "l8nr052.tif\n",
      "l8nr046.tif\n",
      "l9nr052.tif\n",
      "l8nr050.tif\n",
      "l9nr044.tif\n",
      "l9nr050.tif\n",
      "l8nr044.tif\n",
      "l11nr011.tif\n",
      "l10nr005.tif\n",
      "l10nr011.tif\n",
      "l11nr005.tif\n",
      "l2nr047.tif\n",
      "l10nr039.tif\n",
      "l3nr053.tif\n",
      "l3nr047.tif\n",
      "l11nr039.tif\n",
      "l2nr053.tif\n",
      "l1nr014.tif\n",
      "l13nr042.tif\n",
      "l12nr056.tif\n",
      "l12nr042.tif\n",
      "l1nr028.tif\n",
      "l13nr056.tif\n",
      "l5nr036.tif\n",
      "l4nr022.tif\n",
      "l4nr036.tif\n",
      "l5nr022.tif\n",
      "l7nr059.tif\n",
      "l14nr033.tif\n",
      "l15nr027.tif\n",
      "l6nr059.tif\n",
      "l15nr033.tif\n",
      "l14nr027.tif\n",
      "l7nr065.tif\n",
      "l6nr071.tif\n",
      "l6nr065.tif\n",
      "l7nr071.tif\n",
      "l6nr064.tif\n",
      "l7nr070.tif\n",
      "l7nr064.tif\n",
      "l6nr070.tif\n",
      "l15nr032.tif\n",
      "l6nr058.tif\n",
      "l14nr026.tif\n",
      "l14nr032.tif\n",
      "l7nr058.tif\n",
      "l15nr026.tif\n",
      "l4nr037.tif\n",
      "l5nr023.tif\n",
      "l5nr037.tif\n",
      "l4nr023.tif\n",
      "l1nr029.tif\n",
      "l12nr043.tif\n",
      "l13nr057.tif\n",
      "l13nr043.tif\n",
      "l12nr057.tif\n",
      "l1nr015.tif\n",
      "l1nr001.tif\n",
      "l3nr046.tif\n",
      "l2nr052.tif\n",
      "l11nr038.tif\n",
      "l2nr046.tif\n",
      "l3nr052.tif\n",
      "l10nr038.tif\n",
      "l10nr010.tif\n",
      "l11nr004.tif\n",
      "l11nr010.tif\n",
      "l10nr004.tif\n",
      "l9nr051.tif\n",
      "l8nr045.tif\n",
      "l8nr051.tif\n",
      "l9nr045.tif\n",
      "l9nr041.tif\n",
      "l8nr055.tif\n",
      "l8nr041.tif\n",
      "l9nr055.tif\n",
      "l8nr069.tif\n",
      "l9nr069.tif\n",
      "l3nr056.tif\n",
      "l11nr028.tif\n",
      "l2nr042.tif\n",
      "l2nr056.tif\n",
      "l10nr028.tif\n",
      "l3nr042.tif\n",
      "l11nr014.tif\n",
      "l10nr014.tif\n",
      "l12nr053.tif\n",
      "l1nr039.tif\n",
      "l13nr047.tif\n",
      "l13nr053.tif\n",
      "l12nr047.tif\n",
      "l1nr005.tif\n",
      "l1nr011.tif\n",
      "l4nr027.tif\n",
      "l5nr033.tif\n",
      "l5nr027.tif\n",
      "l4nr033.tif\n",
      "l6nr074.tif\n",
      "l7nr060.tif\n",
      "l7nr074.tif\n",
      "l6nr060.tif\n",
      "l6nr048.tif\n",
      "l15nr022.tif\n",
      "l14nr036.tif\n",
      "l7nr048.tif\n",
      "l14nr022.tif\n",
      "l15nr036.tif\n",
      "l14nr023.tif\n",
      "l7nr049.tif\n",
      "l15nr037.tif\n",
      "l15nr023.tif\n",
      "l6nr049.tif\n",
      "l14nr037.tif\n",
      "l7nr075.tif\n",
      "l6nr061.tif\n",
      "l6nr075.tif\n",
      "l7nr061.tif\n",
      "l5nr026.tif\n",
      "l4nr032.tif\n",
      "l4nr026.tif\n",
      "l5nr032.tif\n",
      "l1nr010.tif\n",
      "l1nr004.tif\n",
      "l13nr052.tif\n",
      "l12nr046.tif\n",
      "l1nr038.tif\n",
      "l12nr052.tif\n",
      "l13nr046.tif\n",
      "l11nr001.tif\n",
      "l10nr015.tif\n",
      "l10nr001.tif\n",
      "l11nr015.tif\n",
      "l2nr057.tif\n",
      "l3nr043.tif\n",
      "l10nr029.tif\n",
      "l3nr057.tif\n",
      "l2nr043.tif\n",
      "l11nr029.tif\n",
      "l9nr068.tif\n",
      "l8nr068.tif\n",
      "l8nr040.tif\n",
      "l9nr054.tif\n",
      "l9nr040.tif\n",
      "l8nr054.tif\n",
      "l9nr056.tif\n",
      "l8nr042.tif\n",
      "l8nr056.tif\n",
      "l9nr042.tif\n",
      "l3nr041.tif\n",
      "l2nr055.tif\n",
      "l2nr041.tif\n",
      "l3nr055.tif\n",
      "l10nr017.tif\n",
      "l11nr003.tif\n",
      "l2nr069.tif\n",
      "l11nr017.tif\n",
      "l10nr003.tif\n",
      "l3nr069.tif\n",
      "l12nr044.tif\n",
      "l13nr050.tif\n",
      "l13nr044.tif\n",
      "l12nr050.tif\n",
      "l1nr012.tif\n",
      "l1nr006.tif\n",
      "l5nr018.tif\n",
      "l4nr018.tif\n",
      "l4nr030.tif\n",
      "l5nr024.tif\n",
      "l5nr030.tif\n",
      "l4nr024.tif\n",
      "l6nr063.tif\n",
      "l15nr009.tif\n",
      "l7nr063.tif\n",
      "l14nr009.tif\n",
      "l15nr035.tif\n",
      "l14nr021.tif\n",
      "l14nr035.tif\n",
      "l15nr021.tif\n",
      "l14nr034.tif\n",
      "l15nr020.tif\n",
      "l15nr034.tif\n",
      "l14nr020.tif\n",
      "l14nr008.tif\n",
      "l7nr062.tif\n",
      "l15nr008.tif\n",
      "l6nr062.tif\n",
      "l5nr031.tif\n",
      "l4nr025.tif\n",
      "l4nr031.tif\n",
      "l5nr025.tif\n",
      "l4nr019.tif\n",
      "l5nr019.tif\n",
      "l1nr007.tif\n",
      "l1nr013.tif\n",
      "l13nr045.tif\n",
      "l12nr051.tif\n",
      "l12nr045.tif\n",
      "l13nr051.tif\n",
      "l11nr016.tif\n",
      "l3nr068.tif\n",
      "l10nr002.tif\n",
      "l10nr016.tif\n",
      "l2nr068.tif\n",
      "l11nr002.tif\n",
      "l2nr040.tif\n",
      "l3nr054.tif\n",
      "l3nr040.tif\n",
      "l2nr054.tif\n",
      "l8nr057.tif\n",
      "l9nr043.tif\n",
      "l9nr057.tif\n",
      "l8nr043.tif\n",
      "l8nr018.tif\n",
      "l9nr018.tif\n",
      "l9nr030.tif\n",
      "l8nr024.tif\n",
      "l8nr030.tif\n",
      "l9nr024.tif\n",
      "l10nr071.tif\n",
      "l11nr065.tif\n",
      "l11nr071.tif\n",
      "l10nr065.tif\n",
      "l3nr027.tif\n",
      "l11nr059.tif\n",
      "l2nr033.tif\n",
      "l2nr027.tif\n",
      "l10nr059.tif\n",
      "l3nr033.tif\n",
      "l1nr074.tif\n",
      "l1nr060.tif\n",
      "l12nr022.tif\n",
      "l1nr048.tif\n",
      "l13nr036.tif\n",
      "l13nr022.tif\n",
      "l12nr036.tif\n",
      "l4nr056.tif\n",
      "l5nr042.tif\n",
      "l5nr056.tif\n",
      "l4nr042.tif\n",
      "l6nr039.tif\n",
      "l15nr053.tif\n",
      "l14nr047.tif\n",
      "l7nr039.tif\n",
      "l14nr053.tif\n",
      "l15nr047.tif\n",
      "l6nr005.tif\n",
      "l7nr011.tif\n",
      "l7nr005.tif\n",
      "l6nr011.tif\n",
      "l7nr004.tif\n",
      "l6nr010.tif\n",
      "l6nr004.tif\n",
      "l7nr010.tif\n",
      "l14nr052.tif\n",
      "l7nr038.tif\n",
      "l15nr046.tif\n",
      "l15nr052.tif\n",
      "l6nr038.tif\n",
      "l14nr046.tif\n",
      "l5nr057.tif\n",
      "l4nr043.tif\n",
      "l4nr057.tif\n",
      "l5nr043.tif\n",
      "l13nr023.tif\n",
      "l12nr037.tif\n",
      "l1nr049.tif\n",
      "l12nr023.tif\n",
      "l13nr037.tif\n",
      "l1nr061.tif\n",
      "l1nr075.tif\n",
      "l2nr026.tif\n",
      "l3nr032.tif\n",
      "l10nr058.tif\n",
      "l3nr026.tif\n",
      "l2nr032.tif\n",
      "l11nr058.tif\n",
      "l11nr070.tif\n",
      "l10nr064.tif\n",
      "l10nr070.tif\n",
      "l11nr064.tif\n",
      "l8nr031.tif\n",
      "l9nr025.tif\n",
      "l9nr031.tif\n",
      "l8nr025.tif\n",
      "l9nr019.tif\n",
      "l8nr019.tif\n",
      "l9nr027.tif\n",
      "l8nr033.tif\n",
      "l8nr027.tif\n",
      "l9nr033.tif\n",
      "l10nr066.tif\n",
      "l11nr072.tif\n",
      "l2nr018.tif\n",
      "l11nr066.tif\n",
      "l10nr072.tif\n",
      "l3nr018.tif\n",
      "l3nr030.tif\n",
      "l2nr024.tif\n",
      "l2nr030.tif\n",
      "l3nr024.tif\n",
      "l12nr009.tif\n",
      "l1nr063.tif\n",
      "l13nr009.tif\n",
      "l12nr035.tif\n",
      "l13nr021.tif\n",
      "l13nr035.tif\n",
      "l12nr021.tif\n",
      "l4nr041.tif\n",
      "l5nr055.tif\n",
      "l5nr041.tif\n",
      "l4nr055.tif\n",
      "l5nr069.tif\n",
      "l4nr069.tif\n",
      "l15nr044.tif\n",
      "l14nr050.tif\n",
      "l14nr044.tif\n",
      "l15nr050.tif\n",
      "l6nr012.tif\n",
      "l7nr006.tif\n",
      "l7nr012.tif\n",
      "l6nr006.tif\n",
      "l7nr013.tif\n",
      "l6nr007.tif\n",
      "l6nr013.tif\n",
      "l7nr007.tif\n",
      "l14nr045.tif\n",
      "l15nr051.tif\n",
      "l15nr045.tif\n",
      "l14nr051.tif\n",
      "l4nr068.tif\n",
      "l5nr068.tif\n",
      "l5nr040.tif\n",
      "l4nr054.tif\n",
      "l4nr040.tif\n",
      "l5nr054.tif\n",
      "l13nr034.tif\n",
      "l12nr020.tif\n",
      "l12nr034.tif\n",
      "l13nr020.tif\n",
      "l13nr008.tif\n",
      "l1nr062.tif\n",
      "l12nr008.tif\n",
      "l2nr031.tif\n",
      "l3nr025.tif\n",
      "l3nr031.tif\n",
      "l2nr025.tif\n",
      "l11nr067.tif\n",
      "l3nr019.tif\n",
      "l10nr073.tif\n",
      "l10nr067.tif\n",
      "l2nr019.tif\n",
      "l11nr073.tif\n",
      "l8nr026.tif\n",
      "l9nr032.tif\n",
      "l9nr026.tif\n",
      "l8nr032.tif\n",
      "l8nr036.tif\n",
      "l9nr022.tif\n",
      "l9nr036.tif\n",
      "l8nr022.tif\n",
      "l2nr021.tif\n",
      "l3nr035.tif\n",
      "l3nr021.tif\n",
      "l2nr035.tif\n",
      "l10nr063.tif\n",
      "l3nr009.tif\n",
      "l11nr063.tif\n",
      "l2nr009.tif\n",
      "l13nr024.tif\n",
      "l12nr030.tif\n",
      "l12nr024.tif\n",
      "l13nr030.tif\n",
      "l13nr018.tif\n",
      "l1nr066.tif\n",
      "l12nr018.tif\n",
      "l1nr072.tif\n",
      "l5nr050.tif\n",
      "l4nr044.tif\n",
      "l4nr050.tif\n",
      "l5nr044.tif\n",
      "l7nr003.tif\n",
      "l14nr069.tif\n",
      "l6nr017.tif\n",
      "l6nr003.tif\n",
      "l15nr069.tif\n",
      "l7nr017.tif\n",
      "l14nr055.tif\n",
      "l15nr041.tif\n",
      "l15nr055.tif\n",
      "l14nr041.tif\n",
      "l15nr054.tif\n",
      "l14nr040.tif\n",
      "l14nr054.tif\n",
      "l15nr040.tif\n",
      "l15nr068.tif\n",
      "l6nr002.tif\n",
      "l7nr016.tif\n",
      "l14nr068.tif\n",
      "l7nr002.tif\n",
      "l6nr016.tif\n",
      "l4nr051.tif\n",
      "l5nr045.tif\n",
      "l5nr051.tif\n",
      "l4nr045.tif\n",
      "l1nr073.tif\n",
      "l12nr019.tif\n",
      "l13nr019.tif\n",
      "l1nr067.tif\n",
      "l12nr025.tif\n",
      "l13nr031.tif\n",
      "l13nr025.tif\n",
      "l12nr031.tif\n",
      "l2nr008.tif\n",
      "l11nr062.tif\n",
      "l3nr008.tif\n",
      "l10nr062.tif\n",
      "l3nr020.tif\n",
      "l2nr034.tif\n",
      "l2nr020.tif\n",
      "l3nr034.tif\n",
      "l9nr037.tif\n",
      "l8nr023.tif\n",
      "l8nr037.tif\n",
      "l9nr023.tif\n",
      "l8nr021.tif\n",
      "l9nr035.tif\n",
      "l9nr021.tif\n",
      "l8nr035.tif\n",
      "l9nr009.tif\n",
      "l8nr009.tif\n",
      "l2nr036.tif\n",
      "l10nr048.tif\n",
      "l3nr022.tif\n",
      "l3nr036.tif\n",
      "l11nr048.tif\n",
      "l2nr022.tif\n",
      "l11nr060.tif\n",
      "l10nr074.tif\n",
      "l10nr060.tif\n",
      "l11nr074.tif\n",
      "l13nr033.tif\n",
      "l12nr027.tif\n",
      "l12nr033.tif\n",
      "l1nr059.tif\n",
      "l13nr027.tif\n",
      "l1nr071.tif\n",
      "l1nr065.tif\n",
      "l5nr047.tif\n",
      "l4nr053.tif\n",
      "l4nr047.tif\n",
      "l5nr053.tif\n",
      "l7nr014.tif\n",
      "l6nr014.tif\n",
      "l7nr028.tif\n",
      "l14nr042.tif\n",
      "l15nr056.tif\n",
      "l6nr028.tif\n",
      "l15nr042.tif\n",
      "l14nr056.tif\n",
      "l15nr043.tif\n",
      "l6nr029.tif\n",
      "l14nr057.tif\n",
      "l14nr043.tif\n",
      "l7nr029.tif\n",
      "l15nr057.tif\n",
      "l6nr015.tif\n",
      "l7nr001.tif\n",
      "l7nr015.tif\n",
      "l6nr001.tif\n",
      "l4nr046.tif\n",
      "l5nr052.tif\n",
      "l5nr046.tif\n",
      "l4nr052.tif\n",
      "l1nr064.tif\n",
      "l1nr070.tif\n",
      "l1nr058.tif\n",
      "l12nr032.tif\n",
      "l13nr026.tif\n",
      "l13nr032.tif\n",
      "l12nr026.tif\n",
      "l10nr061.tif\n",
      "l11nr075.tif\n",
      "l11nr061.tif\n",
      "l10nr075.tif\n",
      "l3nr037.tif\n",
      "l2nr023.tif\n",
      "l11nr049.tif\n",
      "l2nr037.tif\n",
      "l3nr023.tif\n",
      "l10nr049.tif\n",
      "l8nr008.tif\n",
      "l9nr008.tif\n",
      "l9nr020.tif\n",
      "l8nr034.tif\n",
      "l8nr020.tif\n",
      "l9nr034.tif\n"
     ]
    },
    {
     "name": "stderr",
     "output_type": "stream",
     "text": [
      "/Users/stevenli/opt/anaconda3/lib/python3.9/site-packages/sklearn/preprocessing/_encoders.py:975: FutureWarning: `sparse` was renamed to `sparse_output` in version 1.2 and will be removed in 1.4. `sparse_output` is ignored unless you leave `sparse` to its default value.\n",
      "  warnings.warn(\n"
     ]
    }
   ],
   "source": [
    "#import data\n",
    "from PIL import Image\n",
    "import os\n",
    "from sklearn.preprocessing import OneHotEncoder\n",
    "data_dir = \"/Users/stevenli/SigAida/data/images/\" #change to data directory\n",
    "\n",
    "# gets the label based on the number\n",
    "def getLabel(s):\n",
    "    labels = {1 : 'Ulmus carpinifolia', \n",
    "                2 : 'Acer', \n",
    "                3 : 'Salix aurita', \n",
    "                4 : 'Quercus', \n",
    "                5 : 'Alnus incan', \n",
    "                6 : 'Betula pubescens', \n",
    "                7 : 'Salix alba \\'Sericea\\'', \n",
    "                8 : 'Populus tremula', \n",
    "                9 : 'Ulmus glabra', \n",
    "                10 : 'Sorbus aucuparia', \n",
    "                11 : 'Salix sinerea', \n",
    "                12 : 'Populus', \n",
    "                13 : 'Tilia', \n",
    "                14 : 'Sorbus intermedia', \n",
    "                15 : 'Fagus silvatica'}\n",
    "    return labels.get(int(s))\n",
    "\n",
    "im = [] # images\n",
    "la = [] # labels not in use, because you can't feed strings to gpu, need to feed tensors\n",
    "ohe = [] #s toring int values for one hot encodings\n",
    "joined = []\n",
    "\n",
    "for f in os.listdir(data_dir):\n",
    "    im.append(data_dir + f)\n",
    "    val = int(f[:-9].replace('l','')) # removes last 9 letters replaces l with blank then gets label\n",
    "    la.append(getLabel(val)) \n",
    "    ohe.append(val)\n",
    "\n",
    "#one hot encoding (changing 1-15 to tensors for gpu)\n",
    "encoded = OneHotEncoder(categories = [[x for x in range(1, 16)]], sparse = False).fit_transform(np.array(ohe).reshape((len(ohe),1)))\n",
    "# print(encoded)\n",
    "\n",
    "#joining image and label for organization and if we wanna shuffle\n",
    "for image, label in zip(im, encoded):\n",
    "    joined.append([image, label])\n",
    "\n",
    "# print(la)\n",
    "# print(im)\n",
    "# print(joined[1])"
   ]
  },
  {
   "cell_type": "code",
   "execution_count": 14,
   "id": "5e2c21ca",
   "metadata": {},
   "outputs": [
    {
     "name": "stdout",
     "output_type": "stream",
     "text": [
      "1125\n",
      "900\n",
      "112\n",
      "113\n"
     ]
    }
   ],
   "source": [
    "# some preprocessing, randomize data, split data, load into dataloaders\n",
    "import random\n",
    "\n",
    "# splits (train, val, test) test currently not in use\n",
    "split_ratio=(0.8, 0.1, 0.1)\n",
    "\n",
    "def create_splits(data, split_ratio):\n",
    "    random.shuffle(data)\n",
    "    train = [data[i] for i in range(0, round(.8 * len(data)))]\n",
    "    val = [data[i] for i in range(round(.8 * len(data)), round(.9 * len(data)))]\n",
    "    test = [data[i] for i in range(round(.9 * len(data)), len(data))]\n",
    "    return train, val, test\n",
    "\n",
    "train, val, test = create_splits(joined, split_ratio)\n",
    "\n",
    "print(len(joined))\n",
    "print(len(train))\n",
    "print(len(val))\n",
    "print(len(test))"
   ]
  },
  {
   "cell_type": "code",
   "execution_count": 21,
   "id": "0f5b89d5",
   "metadata": {},
   "outputs": [],
   "source": [
    "#making dataset\n",
    "from torch.utils.data import Dataset\n",
    "\n",
    "#prevents some truncated bs\n",
    "from PIL import ImageFile\n",
    "ImageFile.LOAD_TRUNCATED_IMAGES = True\n",
    "\n",
    "# makes a custom dataset based on pytorch dataset class\n",
    "class PlantDataset(Dataset):\n",
    "    def __init__(self, data_dir, arr, transform = None, augment = None):\n",
    "        # initialize some valuess\n",
    "        self.data_dir = data_dir\n",
    "        self.data = [x[0] for x in arr]\n",
    "        self.augments = augment\n",
    "\n",
    "        self.arr = self.augment(arr, self.augments, data_dir)\n",
    "\n",
    "        #transform to normalize/resize all images\n",
    "        self.transform = transform\n",
    "\n",
    "    # data augmentation helper function\n",
    "    def augment(self, arr, transforms, data_dir):\n",
    "        ims = [Image.open(i[0]) for i in arr]\n",
    "        # print(len(ims))\n",
    "        lbs = [i[1] for i in arr]\n",
    "\n",
    "        #transform and write out into data_dir then concatenate to arr with original label\n",
    "        n = 3 #how many x do you want to make the data\n",
    "        counter = 1\n",
    "        for im, lb in zip(ims, lbs):\n",
    "            for j in range(n):\n",
    "                temp = transforms(im)\n",
    "                filename = data_dir + str(counter) + \"image\" + str(j) + \"version\" + str(np.where(lb == 1)[0][0] + 1) + \"label.tif\"\n",
    "                temp.save(filename)\n",
    "                temp.close()\n",
    "\n",
    "                arr.append((filename, lb))\n",
    "            counter += 1\n",
    "        return arr\n",
    "    \n",
    "    def __len__(self):\n",
    "        return len(self.arr)\n",
    "    \n",
    "    def __getitem__(self, idx):\n",
    "        img = self.transform(Image.open(self.arr[idx][0]))\n",
    "        s = self.arr[idx][1]\n",
    "        #returns a tuple of the transformed image and the label (one-hot encoding)\n",
    "        return (img, s)"
   ]
  },
  {
   "cell_type": "code",
   "execution_count": 22,
   "id": "7556e920",
   "metadata": {},
   "outputs": [],
   "source": [
    "import torchvision.transforms as transforms\n",
    "\n",
    "#defining our transforms\n",
    "transform = transforms.Compose([\n",
    "    transforms.Resize((224, 224)), # change to what data should be\n",
    "    transforms.ToTensor(),\n",
    "    ])\n",
    "\n",
    "#list of augments, rotation, affine (translation)\n",
    "augments = transforms.Compose([transforms.Resize((224, 224)),\n",
    "                              transforms.RandomRotation(8,fill=0),\n",
    "                              transforms.RandomAffine(degrees=0, translate=(0.1, 0.1), fill=0)]) \n",
    "\n",
    "#making dataset and dataloader\n",
    "train_dataset = PlantDataset(data_dir, train, transform = transform, augment=augments) #probably need to make this bigger\n",
    "train_loader = torch.utils.data.DataLoader(train_dataset, batch_size=1, shuffle=True)"
   ]
  },
  {
   "cell_type": "code",
   "execution_count": 23,
   "id": "c131f6de",
   "metadata": {},
   "outputs": [
    {
     "name": "stdout",
     "output_type": "stream",
     "text": [
      "3600\n"
     ]
    }
   ],
   "source": [
    "print(len(train_dataset))"
   ]
  },
  {
   "cell_type": "code",
   "execution_count": null,
   "id": "fe8160eb",
   "metadata": {},
   "outputs": [
    {
     "name": "stdout",
     "output_type": "stream",
     "text": [
      "True\n",
      "True\n"
     ]
    }
   ],
   "source": [
    "#chcek devices change to whatever you're using\n",
    "\n",
    "#mps = (m1/m2 mac) gpu\n",
    "\n",
    "print(torch.backends.mps.is_available())\n",
    "print(torch.backends.mps.is_built())\n",
    "\n",
    "#set device\n",
    "device = torch.device('mps')\n",
    "\n",
    "from tqdm import tqdm # progress"
   ]
  },
  {
   "cell_type": "code",
   "execution_count": null,
   "id": "35efd478",
   "metadata": {},
   "outputs": [
    {
     "name": "stderr",
     "output_type": "stream",
     "text": [
      "100%|██████████| 900/900 [00:59<00:00, 15.24it/s]\n"
     ]
    },
    {
     "name": "stdout",
     "output_type": "stream",
     "text": [
      "basline before training\n",
      "0.072\n"
     ]
    }
   ],
   "source": [
    "#testing accuracy on test dataset\n",
    "total_correct = 0\n",
    "total_instances = 0\n",
    "\n",
    "pretrained_model.eval()\n",
    "# iterating through batches without updating gradients\n",
    "with torch.no_grad():\n",
    "    for images, labels in tqdm(train_loader):\n",
    "      pretrained_model.to(device)\n",
    "      images = images.to(device)\n",
    "      # labels = labels.float().to(device) # don't need this cuz we not training no more\n",
    "\n",
    "      # making classifications and deriving indices of maximum value via argmax (which gives the max value i the tensor)\n",
    "      solution_tensor = pretrained_model(images)\n",
    "      classifications = torch.argmax(solution_tensor, dim = 1).item()\n",
    "\n",
    "      #undoing one-hot encoding to get label value as a number\n",
    "      label = np.where(labels.numpy() == 1)[1]\n",
    "\n",
    "      correct_predictions = int(classifications==label)\n",
    "\n",
    "      #  incrementing counters\n",
    "      total_correct+=correct_predictions\n",
    "      total_instances+=len(images)\n",
    "\n",
    "#print accuracy\n",
    "print(\"basline before training\")\n",
    "print(round(total_correct/total_instances, 3))"
   ]
  },
  {
   "cell_type": "code",
   "execution_count": null,
   "id": "971f44ad",
   "metadata": {},
   "outputs": [
    {
     "name": "stderr",
     "output_type": "stream",
     "text": [
      "100%|██████████| 29/29 [00:44<00:00,  1.55s/it]\n"
     ]
    },
    {
     "name": "stdout",
     "output_type": "stream",
     "text": [
      "Epoch [1/200], Loss: 1.7673\n"
     ]
    },
    {
     "name": "stderr",
     "output_type": "stream",
     "text": [
      "100%|██████████| 29/29 [00:28<00:00,  1.01it/s]\n"
     ]
    },
    {
     "name": "stdout",
     "output_type": "stream",
     "text": [
      "Epoch [2/200], Loss: 1.2761\n"
     ]
    },
    {
     "name": "stderr",
     "output_type": "stream",
     "text": [
      "100%|██████████| 29/29 [00:28<00:00,  1.01it/s]\n"
     ]
    },
    {
     "name": "stdout",
     "output_type": "stream",
     "text": [
      "Epoch [3/200], Loss: 1.1740\n"
     ]
    },
    {
     "name": "stderr",
     "output_type": "stream",
     "text": [
      "100%|██████████| 29/29 [00:30<00:00,  1.04s/it]\n"
     ]
    },
    {
     "name": "stdout",
     "output_type": "stream",
     "text": [
      "Epoch [4/200], Loss: 0.4241\n"
     ]
    },
    {
     "name": "stderr",
     "output_type": "stream",
     "text": [
      "100%|██████████| 29/29 [00:31<00:00,  1.07s/it]\n"
     ]
    },
    {
     "name": "stdout",
     "output_type": "stream",
     "text": [
      "Epoch [5/200], Loss: 0.5423\n"
     ]
    },
    {
     "name": "stderr",
     "output_type": "stream",
     "text": [
      "100%|██████████| 29/29 [00:29<00:00,  1.00s/it]\n"
     ]
    },
    {
     "name": "stdout",
     "output_type": "stream",
     "text": [
      "Epoch [6/200], Loss: 0.2975\n"
     ]
    },
    {
     "name": "stderr",
     "output_type": "stream",
     "text": [
      "100%|██████████| 29/29 [00:31<00:00,  1.10s/it]\n"
     ]
    },
    {
     "name": "stdout",
     "output_type": "stream",
     "text": [
      "Epoch [7/200], Loss: 0.3875\n"
     ]
    },
    {
     "name": "stderr",
     "output_type": "stream",
     "text": [
      "100%|██████████| 29/29 [00:28<00:00,  1.01it/s]\n"
     ]
    },
    {
     "name": "stdout",
     "output_type": "stream",
     "text": [
      "Epoch [8/200], Loss: 0.3578\n"
     ]
    },
    {
     "name": "stderr",
     "output_type": "stream",
     "text": [
      "100%|██████████| 29/29 [00:30<00:00,  1.06s/it]\n"
     ]
    },
    {
     "name": "stdout",
     "output_type": "stream",
     "text": [
      "Epoch [9/200], Loss: 0.5751\n"
     ]
    },
    {
     "name": "stderr",
     "output_type": "stream",
     "text": [
      "100%|██████████| 29/29 [00:28<00:00,  1.03it/s]\n"
     ]
    },
    {
     "name": "stdout",
     "output_type": "stream",
     "text": [
      "Epoch [10/200], Loss: 0.2177\n"
     ]
    },
    {
     "name": "stderr",
     "output_type": "stream",
     "text": [
      "100%|██████████| 29/29 [00:27<00:00,  1.05it/s]\n"
     ]
    },
    {
     "name": "stdout",
     "output_type": "stream",
     "text": [
      "Epoch [11/200], Loss: 0.3588\n"
     ]
    },
    {
     "name": "stderr",
     "output_type": "stream",
     "text": [
      "100%|██████████| 29/29 [00:28<00:00,  1.01it/s]\n"
     ]
    },
    {
     "name": "stdout",
     "output_type": "stream",
     "text": [
      "Epoch [12/200], Loss: 0.9886\n"
     ]
    },
    {
     "name": "stderr",
     "output_type": "stream",
     "text": [
      "100%|██████████| 29/29 [00:31<00:00,  1.09s/it]\n"
     ]
    },
    {
     "name": "stdout",
     "output_type": "stream",
     "text": [
      "Epoch [13/200], Loss: 0.5829\n"
     ]
    },
    {
     "name": "stderr",
     "output_type": "stream",
     "text": [
      "100%|██████████| 29/29 [00:30<00:00,  1.05s/it]\n"
     ]
    },
    {
     "name": "stdout",
     "output_type": "stream",
     "text": [
      "Epoch [14/200], Loss: 1.1070\n"
     ]
    },
    {
     "name": "stderr",
     "output_type": "stream",
     "text": [
      "100%|██████████| 29/29 [00:36<00:00,  1.26s/it]\n"
     ]
    },
    {
     "name": "stdout",
     "output_type": "stream",
     "text": [
      "Epoch [15/200], Loss: 0.5514\n"
     ]
    },
    {
     "name": "stderr",
     "output_type": "stream",
     "text": [
      "100%|██████████| 29/29 [00:30<00:00,  1.06s/it]\n"
     ]
    },
    {
     "name": "stdout",
     "output_type": "stream",
     "text": [
      "Epoch [16/200], Loss: 0.1287\n"
     ]
    },
    {
     "name": "stderr",
     "output_type": "stream",
     "text": [
      "100%|██████████| 29/29 [00:29<00:00,  1.00s/it]\n"
     ]
    },
    {
     "name": "stdout",
     "output_type": "stream",
     "text": [
      "Epoch [17/200], Loss: 0.1698\n"
     ]
    },
    {
     "name": "stderr",
     "output_type": "stream",
     "text": [
      "100%|██████████| 29/29 [00:28<00:00,  1.03it/s]\n"
     ]
    },
    {
     "name": "stdout",
     "output_type": "stream",
     "text": [
      "Epoch [18/200], Loss: 0.2479\n"
     ]
    },
    {
     "name": "stderr",
     "output_type": "stream",
     "text": [
      "100%|██████████| 29/29 [00:29<00:00,  1.02s/it]\n"
     ]
    },
    {
     "name": "stdout",
     "output_type": "stream",
     "text": [
      "Epoch [19/200], Loss: 0.1061\n"
     ]
    },
    {
     "name": "stderr",
     "output_type": "stream",
     "text": [
      "100%|██████████| 29/29 [00:30<00:00,  1.05s/it]\n"
     ]
    },
    {
     "name": "stdout",
     "output_type": "stream",
     "text": [
      "Epoch [20/200], Loss: 0.1362\n"
     ]
    },
    {
     "name": "stderr",
     "output_type": "stream",
     "text": [
      "100%|██████████| 29/29 [00:28<00:00,  1.00it/s]\n"
     ]
    },
    {
     "name": "stdout",
     "output_type": "stream",
     "text": [
      "Epoch [21/200], Loss: 0.3723\n"
     ]
    },
    {
     "name": "stderr",
     "output_type": "stream",
     "text": [
      "100%|██████████| 29/29 [00:28<00:00,  1.03it/s]\n"
     ]
    },
    {
     "name": "stdout",
     "output_type": "stream",
     "text": [
      "Epoch [22/200], Loss: 0.1713\n"
     ]
    },
    {
     "name": "stderr",
     "output_type": "stream",
     "text": [
      "100%|██████████| 29/29 [00:27<00:00,  1.05it/s]\n"
     ]
    },
    {
     "name": "stdout",
     "output_type": "stream",
     "text": [
      "Epoch [23/200], Loss: 0.1681\n"
     ]
    },
    {
     "name": "stderr",
     "output_type": "stream",
     "text": [
      "100%|██████████| 29/29 [00:27<00:00,  1.06it/s]\n"
     ]
    },
    {
     "name": "stdout",
     "output_type": "stream",
     "text": [
      "Epoch [24/200], Loss: 0.2566\n"
     ]
    },
    {
     "name": "stderr",
     "output_type": "stream",
     "text": [
      "100%|██████████| 29/29 [00:31<00:00,  1.09s/it]\n"
     ]
    },
    {
     "name": "stdout",
     "output_type": "stream",
     "text": [
      "Epoch [25/200], Loss: 0.2296\n"
     ]
    },
    {
     "name": "stderr",
     "output_type": "stream",
     "text": [
      "100%|██████████| 29/29 [00:29<00:00,  1.00s/it]\n"
     ]
    },
    {
     "name": "stdout",
     "output_type": "stream",
     "text": [
      "Epoch [26/200], Loss: 0.0668\n"
     ]
    },
    {
     "name": "stderr",
     "output_type": "stream",
     "text": [
      "100%|██████████| 29/29 [00:28<00:00,  1.02it/s]\n"
     ]
    },
    {
     "name": "stdout",
     "output_type": "stream",
     "text": [
      "Epoch [27/200], Loss: 0.1301\n"
     ]
    },
    {
     "name": "stderr",
     "output_type": "stream",
     "text": [
      "100%|██████████| 29/29 [00:28<00:00,  1.03it/s]\n"
     ]
    },
    {
     "name": "stdout",
     "output_type": "stream",
     "text": [
      "Epoch [28/200], Loss: 0.5456\n"
     ]
    },
    {
     "name": "stderr",
     "output_type": "stream",
     "text": [
      "100%|██████████| 29/29 [00:27<00:00,  1.07it/s]\n"
     ]
    },
    {
     "name": "stdout",
     "output_type": "stream",
     "text": [
      "Epoch [29/200], Loss: 0.0867\n"
     ]
    },
    {
     "name": "stderr",
     "output_type": "stream",
     "text": [
      "100%|██████████| 29/29 [00:27<00:00,  1.04it/s]\n"
     ]
    },
    {
     "name": "stdout",
     "output_type": "stream",
     "text": [
      "Epoch [30/200], Loss: 0.0528\n"
     ]
    },
    {
     "name": "stderr",
     "output_type": "stream",
     "text": [
      "100%|██████████| 29/29 [00:29<00:00,  1.02s/it]\n"
     ]
    },
    {
     "name": "stdout",
     "output_type": "stream",
     "text": [
      "Epoch [31/200], Loss: 0.0782\n"
     ]
    },
    {
     "name": "stderr",
     "output_type": "stream",
     "text": [
      "100%|██████████| 29/29 [00:29<00:00,  1.01s/it]\n"
     ]
    },
    {
     "name": "stdout",
     "output_type": "stream",
     "text": [
      "Epoch [32/200], Loss: 0.5070\n"
     ]
    },
    {
     "name": "stderr",
     "output_type": "stream",
     "text": [
      "100%|██████████| 29/29 [00:26<00:00,  1.07it/s]\n"
     ]
    },
    {
     "name": "stdout",
     "output_type": "stream",
     "text": [
      "Epoch [33/200], Loss: 0.0779\n"
     ]
    },
    {
     "name": "stderr",
     "output_type": "stream",
     "text": [
      "100%|██████████| 29/29 [00:27<00:00,  1.06it/s]\n"
     ]
    },
    {
     "name": "stdout",
     "output_type": "stream",
     "text": [
      "Epoch [34/200], Loss: 2.8828\n"
     ]
    },
    {
     "name": "stderr",
     "output_type": "stream",
     "text": [
      "100%|██████████| 29/29 [00:27<00:00,  1.07it/s]\n"
     ]
    },
    {
     "name": "stdout",
     "output_type": "stream",
     "text": [
      "Epoch [35/200], Loss: 0.1259\n"
     ]
    },
    {
     "name": "stderr",
     "output_type": "stream",
     "text": [
      "100%|██████████| 29/29 [00:30<00:00,  1.05s/it]\n"
     ]
    },
    {
     "name": "stdout",
     "output_type": "stream",
     "text": [
      "Epoch [36/200], Loss: 0.1705\n"
     ]
    },
    {
     "name": "stderr",
     "output_type": "stream",
     "text": [
      "100%|██████████| 29/29 [00:30<00:00,  1.04s/it]\n"
     ]
    },
    {
     "name": "stdout",
     "output_type": "stream",
     "text": [
      "Epoch [37/200], Loss: 0.0286\n"
     ]
    },
    {
     "name": "stderr",
     "output_type": "stream",
     "text": [
      "100%|██████████| 29/29 [00:31<00:00,  1.07s/it]\n"
     ]
    },
    {
     "name": "stdout",
     "output_type": "stream",
     "text": [
      "Epoch [38/200], Loss: 0.1950\n"
     ]
    },
    {
     "name": "stderr",
     "output_type": "stream",
     "text": [
      "100%|██████████| 29/29 [00:29<00:00,  1.02s/it]\n"
     ]
    },
    {
     "name": "stdout",
     "output_type": "stream",
     "text": [
      "Epoch [39/200], Loss: 0.0420\n"
     ]
    },
    {
     "name": "stderr",
     "output_type": "stream",
     "text": [
      "100%|██████████| 29/29 [00:29<00:00,  1.03s/it]\n"
     ]
    },
    {
     "name": "stdout",
     "output_type": "stream",
     "text": [
      "Epoch [40/200], Loss: 0.3154\n"
     ]
    },
    {
     "name": "stderr",
     "output_type": "stream",
     "text": [
      "100%|██████████| 29/29 [00:28<00:00,  1.02it/s]\n"
     ]
    },
    {
     "name": "stdout",
     "output_type": "stream",
     "text": [
      "Epoch [41/200], Loss: 0.3673\n"
     ]
    },
    {
     "name": "stderr",
     "output_type": "stream",
     "text": [
      "100%|██████████| 29/29 [00:32<00:00,  1.11s/it]\n"
     ]
    },
    {
     "name": "stdout",
     "output_type": "stream",
     "text": [
      "Epoch [42/200], Loss: 0.0522\n"
     ]
    },
    {
     "name": "stderr",
     "output_type": "stream",
     "text": [
      "100%|██████████| 29/29 [00:29<00:00,  1.02s/it]\n"
     ]
    },
    {
     "name": "stdout",
     "output_type": "stream",
     "text": [
      "Epoch [43/200], Loss: 0.0314\n"
     ]
    },
    {
     "name": "stderr",
     "output_type": "stream",
     "text": [
      "100%|██████████| 29/29 [00:29<00:00,  1.02s/it]\n"
     ]
    },
    {
     "name": "stdout",
     "output_type": "stream",
     "text": [
      "Epoch [44/200], Loss: 0.3456\n"
     ]
    },
    {
     "name": "stderr",
     "output_type": "stream",
     "text": [
      "100%|██████████| 29/29 [00:33<00:00,  1.15s/it]\n"
     ]
    },
    {
     "name": "stdout",
     "output_type": "stream",
     "text": [
      "Epoch [45/200], Loss: 0.0472\n"
     ]
    },
    {
     "name": "stderr",
     "output_type": "stream",
     "text": [
      "100%|██████████| 29/29 [00:32<00:00,  1.12s/it]\n"
     ]
    },
    {
     "name": "stdout",
     "output_type": "stream",
     "text": [
      "Epoch [46/200], Loss: 0.0409\n"
     ]
    },
    {
     "name": "stderr",
     "output_type": "stream",
     "text": [
      "100%|██████████| 29/29 [00:31<00:00,  1.10s/it]\n"
     ]
    },
    {
     "name": "stdout",
     "output_type": "stream",
     "text": [
      "Epoch [47/200], Loss: 0.1604\n"
     ]
    },
    {
     "name": "stderr",
     "output_type": "stream",
     "text": [
      "100%|██████████| 29/29 [00:28<00:00,  1.02it/s]\n"
     ]
    },
    {
     "name": "stdout",
     "output_type": "stream",
     "text": [
      "Epoch [48/200], Loss: 0.0914\n"
     ]
    },
    {
     "name": "stderr",
     "output_type": "stream",
     "text": [
      "100%|██████████| 29/29 [00:35<00:00,  1.23s/it]\n"
     ]
    },
    {
     "name": "stdout",
     "output_type": "stream",
     "text": [
      "Epoch [49/200], Loss: 0.0236\n"
     ]
    },
    {
     "name": "stderr",
     "output_type": "stream",
     "text": [
      "100%|██████████| 29/29 [00:31<00:00,  1.09s/it]\n"
     ]
    },
    {
     "name": "stdout",
     "output_type": "stream",
     "text": [
      "Epoch [50/200], Loss: 0.3328\n"
     ]
    },
    {
     "name": "stderr",
     "output_type": "stream",
     "text": [
      "100%|██████████| 29/29 [00:27<00:00,  1.04it/s]\n"
     ]
    },
    {
     "name": "stdout",
     "output_type": "stream",
     "text": [
      "Epoch [51/200], Loss: 0.0929\n"
     ]
    },
    {
     "name": "stderr",
     "output_type": "stream",
     "text": [
      "100%|██████████| 29/29 [00:28<00:00,  1.03it/s]\n"
     ]
    },
    {
     "name": "stdout",
     "output_type": "stream",
     "text": [
      "Epoch [52/200], Loss: 0.2297\n"
     ]
    },
    {
     "name": "stderr",
     "output_type": "stream",
     "text": [
      "100%|██████████| 29/29 [00:26<00:00,  1.08it/s]\n"
     ]
    },
    {
     "name": "stdout",
     "output_type": "stream",
     "text": [
      "Epoch [53/200], Loss: 0.5582\n"
     ]
    },
    {
     "name": "stderr",
     "output_type": "stream",
     "text": [
      "100%|██████████| 29/29 [00:27<00:00,  1.06it/s]\n"
     ]
    },
    {
     "name": "stdout",
     "output_type": "stream",
     "text": [
      "Epoch [54/200], Loss: 0.0098\n"
     ]
    },
    {
     "name": "stderr",
     "output_type": "stream",
     "text": [
      "100%|██████████| 29/29 [00:26<00:00,  1.10it/s]\n"
     ]
    },
    {
     "name": "stdout",
     "output_type": "stream",
     "text": [
      "Epoch [55/200], Loss: 0.0730\n"
     ]
    },
    {
     "name": "stderr",
     "output_type": "stream",
     "text": [
      "100%|██████████| 29/29 [00:27<00:00,  1.04it/s]\n"
     ]
    },
    {
     "name": "stdout",
     "output_type": "stream",
     "text": [
      "Epoch [56/200], Loss: 0.0335\n"
     ]
    },
    {
     "name": "stderr",
     "output_type": "stream",
     "text": [
      "100%|██████████| 29/29 [00:26<00:00,  1.09it/s]\n"
     ]
    },
    {
     "name": "stdout",
     "output_type": "stream",
     "text": [
      "Epoch [57/200], Loss: 0.0609\n"
     ]
    },
    {
     "name": "stderr",
     "output_type": "stream",
     "text": [
      "100%|██████████| 29/29 [00:26<00:00,  1.11it/s]\n"
     ]
    },
    {
     "name": "stdout",
     "output_type": "stream",
     "text": [
      "Epoch [58/200], Loss: 0.0564\n"
     ]
    },
    {
     "name": "stderr",
     "output_type": "stream",
     "text": [
      "100%|██████████| 29/29 [00:26<00:00,  1.08it/s]\n"
     ]
    },
    {
     "name": "stdout",
     "output_type": "stream",
     "text": [
      "Epoch [59/200], Loss: 0.0350\n"
     ]
    },
    {
     "name": "stderr",
     "output_type": "stream",
     "text": [
      "100%|██████████| 29/29 [00:26<00:00,  1.11it/s]\n"
     ]
    },
    {
     "name": "stdout",
     "output_type": "stream",
     "text": [
      "Epoch [60/200], Loss: 0.0804\n"
     ]
    },
    {
     "name": "stderr",
     "output_type": "stream",
     "text": [
      "100%|██████████| 29/29 [00:26<00:00,  1.12it/s]\n"
     ]
    },
    {
     "name": "stdout",
     "output_type": "stream",
     "text": [
      "Epoch [61/200], Loss: 0.0481\n"
     ]
    },
    {
     "name": "stderr",
     "output_type": "stream",
     "text": [
      "100%|██████████| 29/29 [00:26<00:00,  1.11it/s]\n"
     ]
    },
    {
     "name": "stdout",
     "output_type": "stream",
     "text": [
      "Epoch [62/200], Loss: 0.1577\n"
     ]
    },
    {
     "name": "stderr",
     "output_type": "stream",
     "text": [
      "100%|██████████| 29/29 [00:26<00:00,  1.08it/s]\n"
     ]
    },
    {
     "name": "stdout",
     "output_type": "stream",
     "text": [
      "Epoch [63/200], Loss: 0.1890\n"
     ]
    },
    {
     "name": "stderr",
     "output_type": "stream",
     "text": [
      "100%|██████████| 29/29 [00:26<00:00,  1.09it/s]\n"
     ]
    },
    {
     "name": "stdout",
     "output_type": "stream",
     "text": [
      "Epoch [64/200], Loss: 0.1377\n"
     ]
    },
    {
     "name": "stderr",
     "output_type": "stream",
     "text": [
      "100%|██████████| 29/29 [00:32<00:00,  1.12s/it]\n"
     ]
    },
    {
     "name": "stdout",
     "output_type": "stream",
     "text": [
      "Epoch [65/200], Loss: 0.0315\n"
     ]
    },
    {
     "name": "stderr",
     "output_type": "stream",
     "text": [
      "100%|██████████| 29/29 [00:27<00:00,  1.06it/s]\n"
     ]
    },
    {
     "name": "stdout",
     "output_type": "stream",
     "text": [
      "Epoch [66/200], Loss: 0.0239\n"
     ]
    },
    {
     "name": "stderr",
     "output_type": "stream",
     "text": [
      "100%|██████████| 29/29 [00:29<00:00,  1.02s/it]\n"
     ]
    },
    {
     "name": "stdout",
     "output_type": "stream",
     "text": [
      "Epoch [67/200], Loss: 0.0178\n"
     ]
    },
    {
     "name": "stderr",
     "output_type": "stream",
     "text": [
      "100%|██████████| 29/29 [00:26<00:00,  1.08it/s]\n"
     ]
    },
    {
     "name": "stdout",
     "output_type": "stream",
     "text": [
      "Epoch [68/200], Loss: 0.0742\n"
     ]
    },
    {
     "name": "stderr",
     "output_type": "stream",
     "text": [
      "100%|██████████| 29/29 [00:27<00:00,  1.05it/s]\n"
     ]
    },
    {
     "name": "stdout",
     "output_type": "stream",
     "text": [
      "Epoch [69/200], Loss: 0.0235\n"
     ]
    },
    {
     "name": "stderr",
     "output_type": "stream",
     "text": [
      "100%|██████████| 29/29 [00:26<00:00,  1.08it/s]\n"
     ]
    },
    {
     "name": "stdout",
     "output_type": "stream",
     "text": [
      "Epoch [70/200], Loss: 0.0084\n"
     ]
    },
    {
     "name": "stderr",
     "output_type": "stream",
     "text": [
      "100%|██████████| 29/29 [00:27<00:00,  1.05it/s]\n"
     ]
    },
    {
     "name": "stdout",
     "output_type": "stream",
     "text": [
      "Epoch [71/200], Loss: 0.0516\n"
     ]
    },
    {
     "name": "stderr",
     "output_type": "stream",
     "text": [
      "100%|██████████| 29/29 [00:27<00:00,  1.07it/s]\n"
     ]
    },
    {
     "name": "stdout",
     "output_type": "stream",
     "text": [
      "Epoch [72/200], Loss: 0.0378\n"
     ]
    },
    {
     "name": "stderr",
     "output_type": "stream",
     "text": [
      "100%|██████████| 29/29 [00:26<00:00,  1.10it/s]\n"
     ]
    },
    {
     "name": "stdout",
     "output_type": "stream",
     "text": [
      "Epoch [73/200], Loss: 0.2408\n"
     ]
    },
    {
     "name": "stderr",
     "output_type": "stream",
     "text": [
      "100%|██████████| 29/29 [00:26<00:00,  1.11it/s]\n"
     ]
    },
    {
     "name": "stdout",
     "output_type": "stream",
     "text": [
      "Epoch [74/200], Loss: 0.0314\n"
     ]
    },
    {
     "name": "stderr",
     "output_type": "stream",
     "text": [
      "100%|██████████| 29/29 [00:27<00:00,  1.06it/s]\n"
     ]
    },
    {
     "name": "stdout",
     "output_type": "stream",
     "text": [
      "Epoch [75/200], Loss: 0.0660\n"
     ]
    },
    {
     "name": "stderr",
     "output_type": "stream",
     "text": [
      "100%|██████████| 29/29 [00:27<00:00,  1.05it/s]\n"
     ]
    },
    {
     "name": "stdout",
     "output_type": "stream",
     "text": [
      "Epoch [76/200], Loss: 0.0331\n"
     ]
    },
    {
     "name": "stderr",
     "output_type": "stream",
     "text": [
      "100%|██████████| 29/29 [00:26<00:00,  1.09it/s]\n"
     ]
    },
    {
     "name": "stdout",
     "output_type": "stream",
     "text": [
      "Epoch [77/200], Loss: 0.0114\n"
     ]
    },
    {
     "name": "stderr",
     "output_type": "stream",
     "text": [
      "100%|██████████| 29/29 [00:26<00:00,  1.09it/s]\n"
     ]
    },
    {
     "name": "stdout",
     "output_type": "stream",
     "text": [
      "Epoch [78/200], Loss: 0.1296\n"
     ]
    },
    {
     "name": "stderr",
     "output_type": "stream",
     "text": [
      "100%|██████████| 29/29 [00:28<00:00,  1.03it/s]\n"
     ]
    },
    {
     "name": "stdout",
     "output_type": "stream",
     "text": [
      "Epoch [79/200], Loss: 0.1471\n"
     ]
    },
    {
     "name": "stderr",
     "output_type": "stream",
     "text": [
      "100%|██████████| 29/29 [00:27<00:00,  1.04it/s]\n"
     ]
    },
    {
     "name": "stdout",
     "output_type": "stream",
     "text": [
      "Epoch [80/200], Loss: 0.1773\n"
     ]
    },
    {
     "name": "stderr",
     "output_type": "stream",
     "text": [
      "100%|██████████| 29/29 [00:30<00:00,  1.05s/it]\n"
     ]
    },
    {
     "name": "stdout",
     "output_type": "stream",
     "text": [
      "Epoch [81/200], Loss: 0.0504\n"
     ]
    },
    {
     "name": "stderr",
     "output_type": "stream",
     "text": [
      "100%|██████████| 29/29 [00:29<00:00,  1.01s/it]\n"
     ]
    },
    {
     "name": "stdout",
     "output_type": "stream",
     "text": [
      "Epoch [82/200], Loss: 0.0339\n"
     ]
    },
    {
     "name": "stderr",
     "output_type": "stream",
     "text": [
      "100%|██████████| 29/29 [00:32<00:00,  1.12s/it]\n"
     ]
    },
    {
     "name": "stdout",
     "output_type": "stream",
     "text": [
      "Epoch [83/200], Loss: 0.0173\n"
     ]
    },
    {
     "name": "stderr",
     "output_type": "stream",
     "text": [
      "100%|██████████| 29/29 [00:27<00:00,  1.05it/s]\n"
     ]
    },
    {
     "name": "stdout",
     "output_type": "stream",
     "text": [
      "Epoch [84/200], Loss: 0.0216\n"
     ]
    },
    {
     "name": "stderr",
     "output_type": "stream",
     "text": [
      "100%|██████████| 29/29 [00:31<00:00,  1.10s/it]\n"
     ]
    },
    {
     "name": "stdout",
     "output_type": "stream",
     "text": [
      "Epoch [85/200], Loss: 0.5571\n"
     ]
    },
    {
     "name": "stderr",
     "output_type": "stream",
     "text": [
      "100%|██████████| 29/29 [00:27<00:00,  1.04it/s]\n"
     ]
    },
    {
     "name": "stdout",
     "output_type": "stream",
     "text": [
      "Epoch [86/200], Loss: 0.3456\n"
     ]
    },
    {
     "name": "stderr",
     "output_type": "stream",
     "text": [
      "100%|██████████| 29/29 [00:30<00:00,  1.05s/it]\n"
     ]
    },
    {
     "name": "stdout",
     "output_type": "stream",
     "text": [
      "Epoch [87/200], Loss: 0.0284\n"
     ]
    },
    {
     "name": "stderr",
     "output_type": "stream",
     "text": [
      "100%|██████████| 29/29 [00:31<00:00,  1.08s/it]\n"
     ]
    },
    {
     "name": "stdout",
     "output_type": "stream",
     "text": [
      "Epoch [88/200], Loss: 0.0547\n"
     ]
    },
    {
     "name": "stderr",
     "output_type": "stream",
     "text": [
      "100%|██████████| 29/29 [00:31<00:00,  1.10s/it]\n"
     ]
    },
    {
     "name": "stdout",
     "output_type": "stream",
     "text": [
      "Epoch [89/200], Loss: 0.0214\n"
     ]
    },
    {
     "name": "stderr",
     "output_type": "stream",
     "text": [
      "100%|██████████| 29/29 [00:28<00:00,  1.03it/s]\n"
     ]
    },
    {
     "name": "stdout",
     "output_type": "stream",
     "text": [
      "Epoch [90/200], Loss: 0.0630\n"
     ]
    },
    {
     "name": "stderr",
     "output_type": "stream",
     "text": [
      "100%|██████████| 29/29 [00:34<00:00,  1.19s/it]\n"
     ]
    },
    {
     "name": "stdout",
     "output_type": "stream",
     "text": [
      "Epoch [91/200], Loss: 0.0212\n"
     ]
    },
    {
     "name": "stderr",
     "output_type": "stream",
     "text": [
      "100%|██████████| 29/29 [00:31<00:00,  1.09s/it]\n"
     ]
    },
    {
     "name": "stdout",
     "output_type": "stream",
     "text": [
      "Epoch [92/200], Loss: 0.0274\n"
     ]
    },
    {
     "name": "stderr",
     "output_type": "stream",
     "text": [
      "100%|██████████| 29/29 [00:29<00:00,  1.03s/it]\n"
     ]
    },
    {
     "name": "stdout",
     "output_type": "stream",
     "text": [
      "Epoch [93/200], Loss: 0.0283\n"
     ]
    },
    {
     "name": "stderr",
     "output_type": "stream",
     "text": [
      "100%|██████████| 29/29 [00:32<00:00,  1.11s/it]\n"
     ]
    },
    {
     "name": "stdout",
     "output_type": "stream",
     "text": [
      "Epoch [94/200], Loss: 0.0067\n"
     ]
    },
    {
     "name": "stderr",
     "output_type": "stream",
     "text": [
      "100%|██████████| 29/29 [00:26<00:00,  1.09it/s]\n"
     ]
    },
    {
     "name": "stdout",
     "output_type": "stream",
     "text": [
      "Epoch [95/200], Loss: 0.0226\n"
     ]
    },
    {
     "name": "stderr",
     "output_type": "stream",
     "text": [
      "100%|██████████| 29/29 [00:30<00:00,  1.04s/it]\n"
     ]
    },
    {
     "name": "stdout",
     "output_type": "stream",
     "text": [
      "Epoch [96/200], Loss: 0.0021\n"
     ]
    },
    {
     "name": "stderr",
     "output_type": "stream",
     "text": [
      "100%|██████████| 29/29 [00:28<00:00,  1.01it/s]\n"
     ]
    },
    {
     "name": "stdout",
     "output_type": "stream",
     "text": [
      "Epoch [97/200], Loss: 0.0467\n"
     ]
    },
    {
     "name": "stderr",
     "output_type": "stream",
     "text": [
      "100%|██████████| 29/29 [00:29<00:00,  1.01s/it]\n"
     ]
    },
    {
     "name": "stdout",
     "output_type": "stream",
     "text": [
      "Epoch [98/200], Loss: 0.0176\n"
     ]
    },
    {
     "name": "stderr",
     "output_type": "stream",
     "text": [
      "100%|██████████| 29/29 [00:30<00:00,  1.04s/it]\n"
     ]
    },
    {
     "name": "stdout",
     "output_type": "stream",
     "text": [
      "Epoch [99/200], Loss: 0.3410\n"
     ]
    },
    {
     "name": "stderr",
     "output_type": "stream",
     "text": [
      "100%|██████████| 29/29 [00:32<00:00,  1.14s/it]\n"
     ]
    },
    {
     "name": "stdout",
     "output_type": "stream",
     "text": [
      "Epoch [100/200], Loss: 0.0334\n"
     ]
    },
    {
     "name": "stderr",
     "output_type": "stream",
     "text": [
      "100%|██████████| 29/29 [00:33<00:00,  1.15s/it]\n"
     ]
    },
    {
     "name": "stdout",
     "output_type": "stream",
     "text": [
      "Epoch [101/200], Loss: 0.0430\n"
     ]
    },
    {
     "name": "stderr",
     "output_type": "stream",
     "text": [
      "100%|██████████| 29/29 [00:29<00:00,  1.01s/it]\n"
     ]
    },
    {
     "name": "stdout",
     "output_type": "stream",
     "text": [
      "Epoch [102/200], Loss: 0.0994\n"
     ]
    },
    {
     "name": "stderr",
     "output_type": "stream",
     "text": [
      "100%|██████████| 29/29 [00:26<00:00,  1.10it/s]\n"
     ]
    },
    {
     "name": "stdout",
     "output_type": "stream",
     "text": [
      "Epoch [103/200], Loss: 0.0390\n"
     ]
    },
    {
     "name": "stderr",
     "output_type": "stream",
     "text": [
      "100%|██████████| 29/29 [00:32<00:00,  1.13s/it]\n"
     ]
    },
    {
     "name": "stdout",
     "output_type": "stream",
     "text": [
      "Epoch [104/200], Loss: 0.0719\n"
     ]
    },
    {
     "name": "stderr",
     "output_type": "stream",
     "text": [
      "100%|██████████| 29/29 [00:26<00:00,  1.09it/s]\n"
     ]
    },
    {
     "name": "stdout",
     "output_type": "stream",
     "text": [
      "Epoch [105/200], Loss: 0.1492\n"
     ]
    },
    {
     "name": "stderr",
     "output_type": "stream",
     "text": [
      "100%|██████████| 29/29 [00:26<00:00,  1.08it/s]\n"
     ]
    },
    {
     "name": "stdout",
     "output_type": "stream",
     "text": [
      "Epoch [106/200], Loss: 0.0204\n"
     ]
    },
    {
     "name": "stderr",
     "output_type": "stream",
     "text": [
      "100%|██████████| 29/29 [00:26<00:00,  1.09it/s]\n"
     ]
    },
    {
     "name": "stdout",
     "output_type": "stream",
     "text": [
      "Epoch [107/200], Loss: 1.4283\n"
     ]
    },
    {
     "name": "stderr",
     "output_type": "stream",
     "text": [
      "100%|██████████| 29/29 [00:28<00:00,  1.00it/s]\n"
     ]
    },
    {
     "name": "stdout",
     "output_type": "stream",
     "text": [
      "Epoch [108/200], Loss: 0.2381\n"
     ]
    },
    {
     "name": "stderr",
     "output_type": "stream",
     "text": [
      "100%|██████████| 29/29 [00:26<00:00,  1.08it/s]\n"
     ]
    },
    {
     "name": "stdout",
     "output_type": "stream",
     "text": [
      "Epoch [109/200], Loss: 0.0594\n"
     ]
    },
    {
     "name": "stderr",
     "output_type": "stream",
     "text": [
      "100%|██████████| 29/29 [00:33<00:00,  1.15s/it]\n"
     ]
    },
    {
     "name": "stdout",
     "output_type": "stream",
     "text": [
      "Epoch [110/200], Loss: 0.0073\n"
     ]
    },
    {
     "name": "stderr",
     "output_type": "stream",
     "text": [
      "100%|██████████| 29/29 [00:37<00:00,  1.31s/it]\n"
     ]
    },
    {
     "name": "stdout",
     "output_type": "stream",
     "text": [
      "Epoch [111/200], Loss: 0.0217\n"
     ]
    },
    {
     "name": "stderr",
     "output_type": "stream",
     "text": [
      "100%|██████████| 29/29 [00:34<00:00,  1.19s/it]\n"
     ]
    },
    {
     "name": "stdout",
     "output_type": "stream",
     "text": [
      "Epoch [112/200], Loss: 0.0258\n"
     ]
    },
    {
     "name": "stderr",
     "output_type": "stream",
     "text": [
      "100%|██████████| 29/29 [00:26<00:00,  1.10it/s]\n"
     ]
    },
    {
     "name": "stdout",
     "output_type": "stream",
     "text": [
      "Epoch [113/200], Loss: 0.0054\n"
     ]
    },
    {
     "name": "stderr",
     "output_type": "stream",
     "text": [
      "100%|██████████| 29/29 [00:28<00:00,  1.03it/s]\n"
     ]
    },
    {
     "name": "stdout",
     "output_type": "stream",
     "text": [
      "Epoch [114/200], Loss: 0.0168\n"
     ]
    },
    {
     "name": "stderr",
     "output_type": "stream",
     "text": [
      "100%|██████████| 29/29 [00:26<00:00,  1.09it/s]\n"
     ]
    },
    {
     "name": "stdout",
     "output_type": "stream",
     "text": [
      "Epoch [115/200], Loss: 0.0126\n"
     ]
    },
    {
     "name": "stderr",
     "output_type": "stream",
     "text": [
      "100%|██████████| 29/29 [00:27<00:00,  1.05it/s]\n"
     ]
    },
    {
     "name": "stdout",
     "output_type": "stream",
     "text": [
      "Epoch [116/200], Loss: 0.0761\n"
     ]
    },
    {
     "name": "stderr",
     "output_type": "stream",
     "text": [
      "100%|██████████| 29/29 [00:26<00:00,  1.10it/s]\n"
     ]
    },
    {
     "name": "stdout",
     "output_type": "stream",
     "text": [
      "Epoch [117/200], Loss: 0.3055\n"
     ]
    },
    {
     "name": "stderr",
     "output_type": "stream",
     "text": [
      "100%|██████████| 29/29 [00:26<00:00,  1.09it/s]\n"
     ]
    },
    {
     "name": "stdout",
     "output_type": "stream",
     "text": [
      "Epoch [118/200], Loss: 0.1967\n"
     ]
    },
    {
     "name": "stderr",
     "output_type": "stream",
     "text": [
      "100%|██████████| 29/29 [00:30<00:00,  1.04s/it]\n"
     ]
    },
    {
     "name": "stdout",
     "output_type": "stream",
     "text": [
      "Epoch [119/200], Loss: 0.0210\n"
     ]
    },
    {
     "name": "stderr",
     "output_type": "stream",
     "text": [
      "100%|██████████| 29/29 [00:34<00:00,  1.20s/it]\n"
     ]
    },
    {
     "name": "stdout",
     "output_type": "stream",
     "text": [
      "Epoch [120/200], Loss: 0.0090\n"
     ]
    },
    {
     "name": "stderr",
     "output_type": "stream",
     "text": [
      "100%|██████████| 29/29 [00:31<00:00,  1.07s/it]\n"
     ]
    },
    {
     "name": "stdout",
     "output_type": "stream",
     "text": [
      "Epoch [121/200], Loss: 0.0262\n"
     ]
    },
    {
     "name": "stderr",
     "output_type": "stream",
     "text": [
      "100%|██████████| 29/29 [00:31<00:00,  1.10s/it]\n"
     ]
    },
    {
     "name": "stdout",
     "output_type": "stream",
     "text": [
      "Epoch [122/200], Loss: 0.0037\n"
     ]
    },
    {
     "name": "stderr",
     "output_type": "stream",
     "text": [
      "100%|██████████| 29/29 [00:29<00:00,  1.03s/it]\n"
     ]
    },
    {
     "name": "stdout",
     "output_type": "stream",
     "text": [
      "Epoch [123/200], Loss: 0.1077\n"
     ]
    },
    {
     "name": "stderr",
     "output_type": "stream",
     "text": [
      "100%|██████████| 29/29 [00:26<00:00,  1.10it/s]\n"
     ]
    },
    {
     "name": "stdout",
     "output_type": "stream",
     "text": [
      "Epoch [124/200], Loss: 0.0173\n"
     ]
    },
    {
     "name": "stderr",
     "output_type": "stream",
     "text": [
      "100%|██████████| 29/29 [00:27<00:00,  1.04it/s]\n"
     ]
    },
    {
     "name": "stdout",
     "output_type": "stream",
     "text": [
      "Epoch [125/200], Loss: 0.0610\n"
     ]
    },
    {
     "name": "stderr",
     "output_type": "stream",
     "text": [
      "100%|██████████| 29/29 [00:25<00:00,  1.15it/s]\n"
     ]
    },
    {
     "name": "stdout",
     "output_type": "stream",
     "text": [
      "Epoch [126/200], Loss: 0.0285\n"
     ]
    },
    {
     "name": "stderr",
     "output_type": "stream",
     "text": [
      "100%|██████████| 29/29 [00:25<00:00,  1.14it/s]\n"
     ]
    },
    {
     "name": "stdout",
     "output_type": "stream",
     "text": [
      "Epoch [127/200], Loss: 0.0281\n"
     ]
    },
    {
     "name": "stderr",
     "output_type": "stream",
     "text": [
      "100%|██████████| 29/29 [00:25<00:00,  1.16it/s]\n"
     ]
    },
    {
     "name": "stdout",
     "output_type": "stream",
     "text": [
      "Epoch [128/200], Loss: 0.0838\n"
     ]
    },
    {
     "name": "stderr",
     "output_type": "stream",
     "text": [
      "100%|██████████| 29/29 [00:26<00:00,  1.11it/s]\n"
     ]
    },
    {
     "name": "stdout",
     "output_type": "stream",
     "text": [
      "Epoch [129/200], Loss: 0.0462\n"
     ]
    },
    {
     "name": "stderr",
     "output_type": "stream",
     "text": [
      "100%|██████████| 29/29 [00:26<00:00,  1.10it/s]\n"
     ]
    },
    {
     "name": "stdout",
     "output_type": "stream",
     "text": [
      "Epoch [130/200], Loss: 0.0079\n"
     ]
    },
    {
     "name": "stderr",
     "output_type": "stream",
     "text": [
      "100%|██████████| 29/29 [00:27<00:00,  1.05it/s]\n"
     ]
    },
    {
     "name": "stdout",
     "output_type": "stream",
     "text": [
      "Epoch [131/200], Loss: 0.1091\n"
     ]
    },
    {
     "name": "stderr",
     "output_type": "stream",
     "text": [
      "100%|██████████| 29/29 [00:26<00:00,  1.09it/s]\n"
     ]
    },
    {
     "name": "stdout",
     "output_type": "stream",
     "text": [
      "Epoch [132/200], Loss: 0.1659\n"
     ]
    },
    {
     "name": "stderr",
     "output_type": "stream",
     "text": [
      "100%|██████████| 29/29 [00:26<00:00,  1.10it/s]\n"
     ]
    },
    {
     "name": "stdout",
     "output_type": "stream",
     "text": [
      "Epoch [133/200], Loss: 0.1511\n"
     ]
    },
    {
     "name": "stderr",
     "output_type": "stream",
     "text": [
      "100%|██████████| 29/29 [00:25<00:00,  1.13it/s]\n"
     ]
    },
    {
     "name": "stdout",
     "output_type": "stream",
     "text": [
      "Epoch [134/200], Loss: 0.0789\n"
     ]
    },
    {
     "name": "stderr",
     "output_type": "stream",
     "text": [
      "100%|██████████| 29/29 [00:25<00:00,  1.13it/s]\n"
     ]
    },
    {
     "name": "stdout",
     "output_type": "stream",
     "text": [
      "Epoch [135/200], Loss: 0.0378\n"
     ]
    },
    {
     "name": "stderr",
     "output_type": "stream",
     "text": [
      "100%|██████████| 29/29 [00:27<00:00,  1.04it/s]\n"
     ]
    },
    {
     "name": "stdout",
     "output_type": "stream",
     "text": [
      "Epoch [136/200], Loss: 0.0191\n"
     ]
    },
    {
     "name": "stderr",
     "output_type": "stream",
     "text": [
      "100%|██████████| 29/29 [00:26<00:00,  1.07it/s]\n"
     ]
    },
    {
     "name": "stdout",
     "output_type": "stream",
     "text": [
      "Epoch [137/200], Loss: 0.1079\n"
     ]
    },
    {
     "name": "stderr",
     "output_type": "stream",
     "text": [
      "100%|██████████| 29/29 [00:26<00:00,  1.11it/s]\n"
     ]
    },
    {
     "name": "stdout",
     "output_type": "stream",
     "text": [
      "Epoch [138/200], Loss: 0.0699\n"
     ]
    },
    {
     "name": "stderr",
     "output_type": "stream",
     "text": [
      "100%|██████████| 29/29 [00:25<00:00,  1.13it/s]\n"
     ]
    },
    {
     "name": "stdout",
     "output_type": "stream",
     "text": [
      "Epoch [139/200], Loss: 0.1088\n"
     ]
    },
    {
     "name": "stderr",
     "output_type": "stream",
     "text": [
      "100%|██████████| 29/29 [00:25<00:00,  1.15it/s]\n"
     ]
    },
    {
     "name": "stdout",
     "output_type": "stream",
     "text": [
      "Epoch [140/200], Loss: 0.0342\n"
     ]
    },
    {
     "name": "stderr",
     "output_type": "stream",
     "text": [
      "100%|██████████| 29/29 [00:25<00:00,  1.14it/s]\n"
     ]
    },
    {
     "name": "stdout",
     "output_type": "stream",
     "text": [
      "Epoch [141/200], Loss: 0.7119\n"
     ]
    },
    {
     "name": "stderr",
     "output_type": "stream",
     "text": [
      "100%|██████████| 29/29 [00:27<00:00,  1.06it/s]\n"
     ]
    },
    {
     "name": "stdout",
     "output_type": "stream",
     "text": [
      "Epoch [142/200], Loss: 0.0594\n"
     ]
    },
    {
     "name": "stderr",
     "output_type": "stream",
     "text": [
      "100%|██████████| 29/29 [00:26<00:00,  1.10it/s]\n"
     ]
    },
    {
     "name": "stdout",
     "output_type": "stream",
     "text": [
      "Epoch [143/200], Loss: 0.0133\n"
     ]
    },
    {
     "name": "stderr",
     "output_type": "stream",
     "text": [
      "100%|██████████| 29/29 [00:26<00:00,  1.08it/s]\n"
     ]
    },
    {
     "name": "stdout",
     "output_type": "stream",
     "text": [
      "Epoch [144/200], Loss: 0.0318\n"
     ]
    },
    {
     "name": "stderr",
     "output_type": "stream",
     "text": [
      "100%|██████████| 29/29 [00:29<00:00,  1.01s/it]\n"
     ]
    },
    {
     "name": "stdout",
     "output_type": "stream",
     "text": [
      "Epoch [145/200], Loss: 0.0024\n"
     ]
    },
    {
     "name": "stderr",
     "output_type": "stream",
     "text": [
      "100%|██████████| 29/29 [00:27<00:00,  1.05it/s]\n"
     ]
    },
    {
     "name": "stdout",
     "output_type": "stream",
     "text": [
      "Epoch [146/200], Loss: 0.0513\n"
     ]
    },
    {
     "name": "stderr",
     "output_type": "stream",
     "text": [
      "100%|██████████| 29/29 [00:28<00:00,  1.02it/s]\n"
     ]
    },
    {
     "name": "stdout",
     "output_type": "stream",
     "text": [
      "Epoch [147/200], Loss: 0.0087\n"
     ]
    },
    {
     "name": "stderr",
     "output_type": "stream",
     "text": [
      "100%|██████████| 29/29 [00:28<00:00,  1.02it/s]\n"
     ]
    },
    {
     "name": "stdout",
     "output_type": "stream",
     "text": [
      "Epoch [148/200], Loss: 0.0097\n"
     ]
    },
    {
     "name": "stderr",
     "output_type": "stream",
     "text": [
      "100%|██████████| 29/29 [00:27<00:00,  1.06it/s]\n"
     ]
    },
    {
     "name": "stdout",
     "output_type": "stream",
     "text": [
      "Epoch [149/200], Loss: 0.0059\n"
     ]
    },
    {
     "name": "stderr",
     "output_type": "stream",
     "text": [
      "100%|██████████| 29/29 [00:25<00:00,  1.12it/s]\n"
     ]
    },
    {
     "name": "stdout",
     "output_type": "stream",
     "text": [
      "Epoch [150/200], Loss: 0.0590\n"
     ]
    },
    {
     "name": "stderr",
     "output_type": "stream",
     "text": [
      "100%|██████████| 29/29 [00:26<00:00,  1.10it/s]\n"
     ]
    },
    {
     "name": "stdout",
     "output_type": "stream",
     "text": [
      "Epoch [151/200], Loss: 0.0251\n"
     ]
    },
    {
     "name": "stderr",
     "output_type": "stream",
     "text": [
      "100%|██████████| 29/29 [00:26<00:00,  1.10it/s]\n"
     ]
    },
    {
     "name": "stdout",
     "output_type": "stream",
     "text": [
      "Epoch [152/200], Loss: 0.0893\n"
     ]
    },
    {
     "name": "stderr",
     "output_type": "stream",
     "text": [
      "100%|██████████| 29/29 [00:26<00:00,  1.08it/s]\n"
     ]
    },
    {
     "name": "stdout",
     "output_type": "stream",
     "text": [
      "Epoch [153/200], Loss: 0.0249\n"
     ]
    },
    {
     "name": "stderr",
     "output_type": "stream",
     "text": [
      "100%|██████████| 29/29 [00:26<00:00,  1.11it/s]\n"
     ]
    },
    {
     "name": "stdout",
     "output_type": "stream",
     "text": [
      "Epoch [154/200], Loss: 0.0109\n"
     ]
    },
    {
     "name": "stderr",
     "output_type": "stream",
     "text": [
      "100%|██████████| 29/29 [00:28<00:00,  1.02it/s]\n"
     ]
    },
    {
     "name": "stdout",
     "output_type": "stream",
     "text": [
      "Epoch [155/200], Loss: 0.0090\n"
     ]
    },
    {
     "name": "stderr",
     "output_type": "stream",
     "text": [
      "100%|██████████| 29/29 [00:26<00:00,  1.08it/s]\n"
     ]
    },
    {
     "name": "stdout",
     "output_type": "stream",
     "text": [
      "Epoch [156/200], Loss: 0.0131\n"
     ]
    },
    {
     "name": "stderr",
     "output_type": "stream",
     "text": [
      "100%|██████████| 29/29 [00:26<00:00,  1.11it/s]\n"
     ]
    },
    {
     "name": "stdout",
     "output_type": "stream",
     "text": [
      "Epoch [157/200], Loss: 0.0720\n"
     ]
    },
    {
     "name": "stderr",
     "output_type": "stream",
     "text": [
      "100%|██████████| 29/29 [00:26<00:00,  1.10it/s]\n"
     ]
    },
    {
     "name": "stdout",
     "output_type": "stream",
     "text": [
      "Epoch [158/200], Loss: 0.0335\n"
     ]
    },
    {
     "name": "stderr",
     "output_type": "stream",
     "text": [
      "100%|██████████| 29/29 [00:25<00:00,  1.13it/s]\n"
     ]
    },
    {
     "name": "stdout",
     "output_type": "stream",
     "text": [
      "Epoch [159/200], Loss: 0.1032\n"
     ]
    },
    {
     "name": "stderr",
     "output_type": "stream",
     "text": [
      "100%|██████████| 29/29 [00:27<00:00,  1.04it/s]\n"
     ]
    },
    {
     "name": "stdout",
     "output_type": "stream",
     "text": [
      "Epoch [160/200], Loss: 0.0198\n"
     ]
    },
    {
     "name": "stderr",
     "output_type": "stream",
     "text": [
      "100%|██████████| 29/29 [00:25<00:00,  1.13it/s]\n"
     ]
    },
    {
     "name": "stdout",
     "output_type": "stream",
     "text": [
      "Epoch [161/200], Loss: 0.9571\n"
     ]
    },
    {
     "name": "stderr",
     "output_type": "stream",
     "text": [
      "100%|██████████| 29/29 [00:26<00:00,  1.10it/s]\n"
     ]
    },
    {
     "name": "stdout",
     "output_type": "stream",
     "text": [
      "Epoch [162/200], Loss: 0.0392\n"
     ]
    },
    {
     "name": "stderr",
     "output_type": "stream",
     "text": [
      "100%|██████████| 29/29 [00:27<00:00,  1.06it/s]\n"
     ]
    },
    {
     "name": "stdout",
     "output_type": "stream",
     "text": [
      "Epoch [163/200], Loss: 0.0958\n"
     ]
    },
    {
     "name": "stderr",
     "output_type": "stream",
     "text": [
      "100%|██████████| 29/29 [00:26<00:00,  1.11it/s]\n"
     ]
    },
    {
     "name": "stdout",
     "output_type": "stream",
     "text": [
      "Epoch [164/200], Loss: 0.0108\n"
     ]
    },
    {
     "name": "stderr",
     "output_type": "stream",
     "text": [
      "100%|██████████| 29/29 [00:26<00:00,  1.10it/s]\n"
     ]
    },
    {
     "name": "stdout",
     "output_type": "stream",
     "text": [
      "Epoch [165/200], Loss: 0.0133\n"
     ]
    },
    {
     "name": "stderr",
     "output_type": "stream",
     "text": [
      "100%|██████████| 29/29 [00:26<00:00,  1.10it/s]\n"
     ]
    },
    {
     "name": "stdout",
     "output_type": "stream",
     "text": [
      "Epoch [166/200], Loss: 0.0374\n"
     ]
    },
    {
     "name": "stderr",
     "output_type": "stream",
     "text": [
      "100%|██████████| 29/29 [00:27<00:00,  1.06it/s]\n"
     ]
    },
    {
     "name": "stdout",
     "output_type": "stream",
     "text": [
      "Epoch [167/200], Loss: 0.0129\n"
     ]
    },
    {
     "name": "stderr",
     "output_type": "stream",
     "text": [
      "100%|██████████| 29/29 [00:25<00:00,  1.14it/s]\n"
     ]
    },
    {
     "name": "stdout",
     "output_type": "stream",
     "text": [
      "Epoch [168/200], Loss: 0.0133\n"
     ]
    },
    {
     "name": "stderr",
     "output_type": "stream",
     "text": [
      "100%|██████████| 29/29 [00:25<00:00,  1.12it/s]\n"
     ]
    },
    {
     "name": "stdout",
     "output_type": "stream",
     "text": [
      "Epoch [169/200], Loss: 0.0259\n"
     ]
    },
    {
     "name": "stderr",
     "output_type": "stream",
     "text": [
      "100%|██████████| 29/29 [00:25<00:00,  1.15it/s]\n"
     ]
    },
    {
     "name": "stdout",
     "output_type": "stream",
     "text": [
      "Epoch [170/200], Loss: 0.0095\n"
     ]
    },
    {
     "name": "stderr",
     "output_type": "stream",
     "text": [
      "100%|██████████| 29/29 [00:25<00:00,  1.12it/s]\n"
     ]
    },
    {
     "name": "stdout",
     "output_type": "stream",
     "text": [
      "Epoch [171/200], Loss: 0.0457\n"
     ]
    },
    {
     "name": "stderr",
     "output_type": "stream",
     "text": [
      "100%|██████████| 29/29 [00:26<00:00,  1.09it/s]\n"
     ]
    },
    {
     "name": "stdout",
     "output_type": "stream",
     "text": [
      "Epoch [172/200], Loss: 0.0412\n"
     ]
    },
    {
     "name": "stderr",
     "output_type": "stream",
     "text": [
      "100%|██████████| 29/29 [00:25<00:00,  1.14it/s]\n"
     ]
    },
    {
     "name": "stdout",
     "output_type": "stream",
     "text": [
      "Epoch [173/200], Loss: 0.0111\n"
     ]
    },
    {
     "name": "stderr",
     "output_type": "stream",
     "text": [
      "100%|██████████| 29/29 [00:27<00:00,  1.05it/s]\n"
     ]
    },
    {
     "name": "stdout",
     "output_type": "stream",
     "text": [
      "Epoch [174/200], Loss: 0.0184\n"
     ]
    },
    {
     "name": "stderr",
     "output_type": "stream",
     "text": [
      "100%|██████████| 29/29 [00:26<00:00,  1.10it/s]\n"
     ]
    },
    {
     "name": "stdout",
     "output_type": "stream",
     "text": [
      "Epoch [175/200], Loss: 0.2556\n"
     ]
    },
    {
     "name": "stderr",
     "output_type": "stream",
     "text": [
      "100%|██████████| 29/29 [00:25<00:00,  1.13it/s]\n"
     ]
    },
    {
     "name": "stdout",
     "output_type": "stream",
     "text": [
      "Epoch [176/200], Loss: 0.0025\n"
     ]
    },
    {
     "name": "stderr",
     "output_type": "stream",
     "text": [
      "100%|██████████| 29/29 [00:25<00:00,  1.12it/s]\n"
     ]
    },
    {
     "name": "stdout",
     "output_type": "stream",
     "text": [
      "Epoch [177/200], Loss: 0.1006\n"
     ]
    },
    {
     "name": "stderr",
     "output_type": "stream",
     "text": [
      "100%|██████████| 29/29 [00:27<00:00,  1.06it/s]\n"
     ]
    },
    {
     "name": "stdout",
     "output_type": "stream",
     "text": [
      "Epoch [178/200], Loss: 0.0064\n"
     ]
    },
    {
     "name": "stderr",
     "output_type": "stream",
     "text": [
      "100%|██████████| 29/29 [00:32<00:00,  1.11s/it]\n"
     ]
    },
    {
     "name": "stdout",
     "output_type": "stream",
     "text": [
      "Epoch [179/200], Loss: 0.7811\n"
     ]
    },
    {
     "name": "stderr",
     "output_type": "stream",
     "text": [
      "100%|██████████| 29/29 [00:27<00:00,  1.07it/s]\n"
     ]
    },
    {
     "name": "stdout",
     "output_type": "stream",
     "text": [
      "Epoch [180/200], Loss: 0.0152\n"
     ]
    },
    {
     "name": "stderr",
     "output_type": "stream",
     "text": [
      "100%|██████████| 29/29 [00:25<00:00,  1.13it/s]\n"
     ]
    },
    {
     "name": "stdout",
     "output_type": "stream",
     "text": [
      "Epoch [181/200], Loss: 0.0031\n"
     ]
    },
    {
     "name": "stderr",
     "output_type": "stream",
     "text": [
      "100%|██████████| 29/29 [00:24<00:00,  1.18it/s]\n"
     ]
    },
    {
     "name": "stdout",
     "output_type": "stream",
     "text": [
      "Epoch [182/200], Loss: 0.0349\n"
     ]
    },
    {
     "name": "stderr",
     "output_type": "stream",
     "text": [
      "100%|██████████| 29/29 [00:30<00:00,  1.06s/it]\n"
     ]
    },
    {
     "name": "stdout",
     "output_type": "stream",
     "text": [
      "Epoch [183/200], Loss: 0.0223\n"
     ]
    },
    {
     "name": "stderr",
     "output_type": "stream",
     "text": [
      "100%|██████████| 29/29 [00:26<00:00,  1.09it/s]\n"
     ]
    },
    {
     "name": "stdout",
     "output_type": "stream",
     "text": [
      "Epoch [184/200], Loss: 0.0023\n"
     ]
    },
    {
     "name": "stderr",
     "output_type": "stream",
     "text": [
      "100%|██████████| 29/29 [00:26<00:00,  1.10it/s]\n"
     ]
    },
    {
     "name": "stdout",
     "output_type": "stream",
     "text": [
      "Epoch [185/200], Loss: 0.0047\n"
     ]
    },
    {
     "name": "stderr",
     "output_type": "stream",
     "text": [
      "100%|██████████| 29/29 [00:25<00:00,  1.12it/s]\n"
     ]
    },
    {
     "name": "stdout",
     "output_type": "stream",
     "text": [
      "Epoch [186/200], Loss: 0.0153\n"
     ]
    },
    {
     "name": "stderr",
     "output_type": "stream",
     "text": [
      "100%|██████████| 29/29 [00:25<00:00,  1.12it/s]\n"
     ]
    },
    {
     "name": "stdout",
     "output_type": "stream",
     "text": [
      "Epoch [187/200], Loss: 0.0089\n"
     ]
    },
    {
     "name": "stderr",
     "output_type": "stream",
     "text": [
      "100%|██████████| 29/29 [00:25<00:00,  1.12it/s]\n"
     ]
    },
    {
     "name": "stdout",
     "output_type": "stream",
     "text": [
      "Epoch [188/200], Loss: 0.0015\n"
     ]
    },
    {
     "name": "stderr",
     "output_type": "stream",
     "text": [
      "100%|██████████| 29/29 [00:27<00:00,  1.06it/s]\n"
     ]
    },
    {
     "name": "stdout",
     "output_type": "stream",
     "text": [
      "Epoch [189/200], Loss: 0.0012\n"
     ]
    },
    {
     "name": "stderr",
     "output_type": "stream",
     "text": [
      "100%|██████████| 29/29 [00:27<00:00,  1.06it/s]\n"
     ]
    },
    {
     "name": "stdout",
     "output_type": "stream",
     "text": [
      "Epoch [190/200], Loss: 0.2646\n"
     ]
    },
    {
     "name": "stderr",
     "output_type": "stream",
     "text": [
      "100%|██████████| 29/29 [00:25<00:00,  1.13it/s]\n"
     ]
    },
    {
     "name": "stdout",
     "output_type": "stream",
     "text": [
      "Epoch [191/200], Loss: 0.9100\n"
     ]
    },
    {
     "name": "stderr",
     "output_type": "stream",
     "text": [
      "100%|██████████| 29/29 [00:25<00:00,  1.12it/s]\n"
     ]
    },
    {
     "name": "stdout",
     "output_type": "stream",
     "text": [
      "Epoch [192/200], Loss: 0.2477\n"
     ]
    },
    {
     "name": "stderr",
     "output_type": "stream",
     "text": [
      "100%|██████████| 29/29 [00:25<00:00,  1.15it/s]\n"
     ]
    },
    {
     "name": "stdout",
     "output_type": "stream",
     "text": [
      "Epoch [193/200], Loss: 0.0196\n"
     ]
    },
    {
     "name": "stderr",
     "output_type": "stream",
     "text": [
      "100%|██████████| 29/29 [00:25<00:00,  1.15it/s]\n"
     ]
    },
    {
     "name": "stdout",
     "output_type": "stream",
     "text": [
      "Epoch [194/200], Loss: 0.0096\n"
     ]
    },
    {
     "name": "stderr",
     "output_type": "stream",
     "text": [
      "100%|██████████| 29/29 [00:25<00:00,  1.15it/s]\n"
     ]
    },
    {
     "name": "stdout",
     "output_type": "stream",
     "text": [
      "Epoch [195/200], Loss: 0.1932\n"
     ]
    },
    {
     "name": "stderr",
     "output_type": "stream",
     "text": [
      "100%|██████████| 29/29 [00:25<00:00,  1.13it/s]\n"
     ]
    },
    {
     "name": "stdout",
     "output_type": "stream",
     "text": [
      "Epoch [196/200], Loss: 0.0017\n"
     ]
    },
    {
     "name": "stderr",
     "output_type": "stream",
     "text": [
      "100%|██████████| 29/29 [00:26<00:00,  1.11it/s]\n"
     ]
    },
    {
     "name": "stdout",
     "output_type": "stream",
     "text": [
      "Epoch [197/200], Loss: 0.0107\n"
     ]
    },
    {
     "name": "stderr",
     "output_type": "stream",
     "text": [
      "100%|██████████| 29/29 [00:24<00:00,  1.17it/s]\n"
     ]
    },
    {
     "name": "stdout",
     "output_type": "stream",
     "text": [
      "Epoch [198/200], Loss: 0.0070\n"
     ]
    },
    {
     "name": "stderr",
     "output_type": "stream",
     "text": [
      "100%|██████████| 29/29 [00:27<00:00,  1.07it/s]\n"
     ]
    },
    {
     "name": "stdout",
     "output_type": "stream",
     "text": [
      "Epoch [199/200], Loss: 0.1513\n"
     ]
    },
    {
     "name": "stderr",
     "output_type": "stream",
     "text": [
      "100%|██████████| 29/29 [00:26<00:00,  1.12it/s]"
     ]
    },
    {
     "name": "stdout",
     "output_type": "stream",
     "text": [
      "Epoch [200/200], Loss: 1.0291\n"
     ]
    },
    {
     "name": "stderr",
     "output_type": "stream",
     "text": [
      "\n"
     ]
    }
   ],
   "source": [
    "# Train the model\n",
    "pretrained_model.train()\n",
    "num_epochs = 200\n",
    "\n",
    "#store loss\n",
    "loss_history = []\n",
    "\n",
    "#change batch size\n",
    "train_loader = torch.utils.data.DataLoader(train_dataset, batch_size=32, shuffle=True)\n",
    "\n",
    "for epoch in range(num_epochs):\n",
    "    for data, label in tqdm(train_loader):\n",
    "        # Move tensors to the configured device\n",
    "        pretrained_model.to(device)\n",
    "        images = data.to(device)\n",
    "        labels = label.float().to(device) #.float() for some float64, float32 conversion thing, don't completely understand\n",
    "\n",
    "        optimizer.zero_grad()\n",
    "        \n",
    "        # Forward pass\n",
    "        outputs = pretrained_model(images) #currently image tensor don't match fc layer if you use non pretrained model\n",
    "        loss = criterion(outputs, labels) #calculate loss\n",
    "\n",
    "        # Backward and optimize don't really understand this stuff\n",
    "        loss.backward()\n",
    "        optimizer.step()\n",
    "\n",
    "        # Print some statistics\n",
    "    print(f'Epoch [{epoch+1}/{num_epochs}], Loss: {loss.item():.4f}')\n",
    "    loss_history.append(loss.item())"
   ]
  },
  {
   "cell_type": "code",
   "execution_count": null,
   "id": "a00b5a6c",
   "metadata": {},
   "outputs": [
    {
     "data": {
      "image/png": "[encoded data removed]",
      "text/plain": [
       "<Figure size 432x288 with 1 Axes>"
      ]
     },
     "metadata": {
      "needs_background": "light"
     },
     "output_type": "display_data"
    }
   ],
   "source": [
    "import matplotlib.pyplot as plt\n",
    "\n",
    "x = [i for i in range(1, num_epochs + 1)]\n",
    "    \n",
    "# plotting the points   \n",
    "plt.plot(x, loss_history)  \n",
    "    \n",
    "# naming the x axis  \n",
    "plt.xlabel('epoch number')  \n",
    "# naming the y axis  \n",
    "plt.ylabel('loss')  \n",
    "    \n",
    "# giving a title to my graph  \n",
    "plt.title('loss in training')  \n",
    "    \n",
    "# function to show the plot  \n",
    "plt.show()  "
   ]
  },
  {
   "cell_type": "code",
   "execution_count": null,
   "id": "4270f96d",
   "metadata": {},
   "outputs": [
    {
     "name": "stderr",
     "output_type": "stream",
     "text": [
      "100%|██████████| 900/900 [00:49<00:00, 18.07it/s]"
     ]
    },
    {
     "name": "stdout",
     "output_type": "stream",
     "text": [
      "after training\n",
      "1.0\n"
     ]
    },
    {
     "name": "stderr",
     "output_type": "stream",
     "text": [
      "\n"
     ]
    }
   ],
   "source": [
    "#testing accuracy on test dataset\n",
    "total_correct = 0\n",
    "total_instances = 0\n",
    "\n",
    "#chang back batch size\n",
    "train_loader = torch.utils.data.DataLoader(train_dataset, batch_size=1, shuffle=True)\n",
    "\n",
    "pretrained_model.eval()\n",
    "# iterating through batches without updating gradients\n",
    "with torch.no_grad():\n",
    "    for images, labels in tqdm(train_loader):\n",
    "      images = images.to(device)\n",
    "      # labels = labels.float().to(device) # don't need this cuz we not training no more\n",
    "\n",
    "      # making classifications and deriving indices of maximum value via argmax (which gives the max value i the tensor)\n",
    "      solution_tensor = pretrained_model(images)\n",
    "      classifications = torch.argmax(solution_tensor, dim = 1).item()\n",
    "\n",
    "      #undoing one-hot encoding to get label value as a number\n",
    "      label = np.where(labels.numpy() == 1)[1]\n",
    "\n",
    "      correct_predictions = int(classifications==label)\n",
    "\n",
    "      #  incrementing counters\n",
    "      total_correct+=correct_predictions\n",
    "      total_instances+=len(images)\n",
    "\n",
    "#print accuracy\n",
    "print(\"after training\")\n",
    "print(round(total_correct/total_instances, 3))"
   ]
  },
  {
   "cell_type": "code",
   "execution_count": null,
   "id": "b99bea66",
   "metadata": {},
   "outputs": [],
   "source": [
    "#loading validation dataset\n",
    "val_dataset = PlantDataset(data_dir, val, transform = transform)\n",
    "val_loader = torch.utils.data.DataLoader(val_dataset, batch_size=1, shuffle=True)"
   ]
  },
  {
   "cell_type": "code",
   "execution_count": null,
   "id": "57f9f411",
   "metadata": {},
   "outputs": [
    {
     "name": "stderr",
     "output_type": "stream",
     "text": [
      "100%|██████████| 112/112 [00:06<00:00, 18.31it/s]"
     ]
    },
    {
     "name": "stdout",
     "output_type": "stream",
     "text": [
      "1.0\n"
     ]
    },
    {
     "name": "stderr",
     "output_type": "stream",
     "text": [
      "\n"
     ]
    }
   ],
   "source": [
    "total_correct = 0\n",
    "total_instances = 0\n",
    "\n",
    "pretrained_model.eval()\n",
    "# iterating through batches without updating gradients\n",
    "with torch.no_grad():\n",
    "    for images, labels in tqdm(val_loader):\n",
    "      images = images.to(device)\n",
    "      # labels = labels.float().to(device) # don't need this cuz we not training no more\n",
    "\n",
    "      # making classifications and deriving indices of maximum value via argmax (which gives the max value i the tensor)\n",
    "      solution_tensor = pretrained_model(images)\n",
    "      classifications = torch.argmax(solution_tensor, dim = 1).item()\n",
    "\n",
    "      #undoing one-hot encoding to get label value as a number\n",
    "      label = np.where(labels.numpy() == 1)[1]\n",
    "\n",
    "      correct_predictions = int(classifications==label)\n",
    "\n",
    "      #  incrementing counters\n",
    "      total_correct+=correct_predictions\n",
    "      total_instances+=len(images)\n",
    "\n",
    "#print accuracy\n",
    "print(round(total_correct/total_instances, 3))"
   ]
  },
  {
   "cell_type": "code",
   "execution_count": null,
   "id": "e2a7c2b5",
   "metadata": {},
   "outputs": [],
   "source": [
    "#loading test dataset\n",
    "test_dataset = PlantDataset(data_dir, test, transform = transform)\n",
    "test_loader = torch.utils.data.DataLoader(test_dataset, batch_size=1, shuffle=True)"
   ]
  },
  {
   "cell_type": "code",
   "execution_count": null,
   "id": "619d11ad",
   "metadata": {},
   "outputs": [
    {
     "name": "stderr",
     "output_type": "stream",
     "text": [
      "100%|██████████| 113/113 [00:05<00:00, 19.12it/s]"
     ]
    },
    {
     "name": "stdout",
     "output_type": "stream",
     "text": [
      "1.0\n"
     ]
    },
    {
     "name": "stderr",
     "output_type": "stream",
     "text": [
      "\n"
     ]
    }
   ],
   "source": [
    "total_correct = 0\n",
    "total_instances = 0\n",
    "\n",
    "pictures = []\n",
    "model_guesses = []\n",
    "correct_answers = []\n",
    "\n",
    "# iterating through batches without updating gradients\n",
    "with torch.no_grad():\n",
    "    for images, labels in tqdm(test_loader):\n",
    "      pictures.append(images)\n",
    "      images = images.to(device)\n",
    "\n",
    "      # making classifications and deriving indices of maximum value via argmax (which gives the max value i the tensor)\n",
    "      solution_tensor = pretrained_model(images)\n",
    "      classifications = torch.argmax(solution_tensor, dim = 1).item()\n",
    "      model_guesses.append(getLabel(classifications + 1)) # + 1 to convert from index to dict key\n",
    "\n",
    "      #undoing one-hot encoding to get label value as a number\n",
    "      label = np.where(labels.numpy() == 1)[1]\n",
    "      correct_answers.append(getLabel(label + 1)) # + 1 to convert from index to dict key\n",
    "\n",
    "      correct_predictions = int(classifications==label)\n",
    "\n",
    "      #  incrementing counters\n",
    "      total_correct+=correct_predictions\n",
    "      total_instances+=len(images)\n",
    "\n",
    "#print accuracy\n",
    "print(round(total_correct/total_instances, 3))"
   ]
  },
  {
   "cell_type": "code",
   "execution_count": null,
   "id": "e22a4013",
   "metadata": {},
   "outputs": [],
   "source": [
    "#dump to pickle\n",
    "import pickle\n",
    "pickle.dump(pretrained_model, open('model.pkl', 'wb'))"
   ]
  }
 ],
 "metadata": {
  "kernelspec": {
   "display_name": "Python 3 (ipykernel)",
   "language": "python",
   "name": "python3"
  },
  "language_info": {
   "codemirror_mode": {
    "name": "ipython",
    "version": 3
   },
   "file_extension": ".py",
   "mimetype": "text/x-python",
   "name": "python",
   "nbconvert_exporter": "python",
   "pygments_lexer": "ipython3",
   "version": "3.11.5"
  }
 },
 "nbformat": 4,
 "nbformat_minor": 5
}
