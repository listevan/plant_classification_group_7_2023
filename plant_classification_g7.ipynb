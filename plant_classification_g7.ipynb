{
 "cells": [
  {
   "cell_type": "code",
   "execution_count": 14,
   "id": "ecbe5652",
   "metadata": {},
   "outputs": [],
   "source": [
    "### import torch\n",
    "from torchvision import models\n",
    "import torch\n",
    "\n",
    "pretrained_model = models.resnet50(weights = 'DEFAULT', progress = True)"
   ]
  },
  {
   "cell_type": "code",
   "execution_count": 2,
   "id": "541cf0d5",
   "metadata": {},
   "outputs": [],
   "source": [
    "n = 100 #let n = the number of types of plants"
   ]
  },
  {
   "cell_type": "code",
   "execution_count": 3,
   "id": "262de170",
   "metadata": {},
   "outputs": [],
   "source": [
    "# changes fully connected/classifier layer to new layer for us to train\n",
    "pretrained_model.fc = torch.nn.Linear(2048, 2)"
   ]
  },
  {
   "cell_type": "code",
   "execution_count": 7,
   "id": "09a04fa0",
   "metadata": {},
   "outputs": [],
   "source": [
    "# Currently no in use\n",
    "import torch.nn as nn\n",
    "# build custom softmax module\n",
    "class Softmax(nn.Module):\n",
    "    def __init__(self, n_inputs, n_outputs):\n",
    "        super().__init__()\n",
    "        self.linear = nn.Linear(n_inputs, n_outputs)\n",
    " \n",
    "    def forward(self, x):\n",
    "        pred = self.linear(x)\n",
    "        return pred"
   ]
  },
  {
   "cell_type": "code",
   "execution_count": 8,
   "id": "a3d631a9",
   "metadata": {},
   "outputs": [],
   "source": [
    "# Currently no in use\n",
    "#add softmax to model\n",
    "class MyModel(nn.Module):\n",
    "    def __init__(self, pretrained_model):\n",
    "        super(MyModel, self).__init__()\n",
    "        self.pretrained_model = pretrained_model\n",
    "        self.last_layer = Softmax(1000, n) # add how many nodes as input and output\n",
    "\n",
    "    def forward(self, x):\n",
    "        return self.last_layer(self.pretrained_model(x))\n",
    "\n",
    "model = MyModel(pretrained_model)"
   ]
  },
  {
   "cell_type": "code",
   "execution_count": 11,
   "id": "3c430901",
   "metadata": {},
   "outputs": [],
   "source": [
    "#freeze model except fc layer\n",
    "for param in pretrained_model.parameters():\n",
    "    param.requires_grad = False\n",
    "\n",
    "for param in pretrained_model.fc.parameters():\n",
    "    param.requires_grad = True"
   ]
  },
  {
   "cell_type": "code",
   "execution_count": 12,
   "id": "a2e32582",
   "metadata": {},
   "outputs": [],
   "source": [
    "criterion = torch.nn.CrossEntropyLoss() #could write this out ourselves\n",
    "# need to find an optimizer or make onefor custom softmax function\n",
    "optimizer = torch.optim.SGD(pretrained_model.fc.parameters(), lr=0.001, momentum=0.9)"
   ]
  },
  {
   "cell_type": "code",
   "execution_count": 19,
   "id": "e3530c8a",
   "metadata": {},
   "outputs": [
    {
     "name": "stdout",
     "output_type": "stream",
     "text": [
      "['Populus tremula', 'Ulmus glabra', 'Ulmus glabra', 'Populus tremula', 'Populus tremula', 'Ulmus glabra', 'Sorbus aucuparia', 'Salix sinerea', 'Salix sinerea', 'Sorbus aucuparia', 'Salix aurita', 'Acer', 'Acer', 'Salix aurita', 'Ulmus carpinifolia', 'Ulmus carpinifolia', 'Populus', 'Ulmus carpinifolia', 'Tilia', 'Tilia', 'Populus', 'Alnus incan', 'Quercus', 'Betula pubescens', 'Fagus silvatica', 'Sorbus intermedia', \"Salix alba 'Sericea'\", 'Sorbus intermedia', 'Fagus silvatica', 'Betula pubescens', \"Salix alba 'Sericea'\", \"Salix alba 'Sericea'\", 'Betula pubescens', \"Salix alba 'Sericea'\", 'Betula pubescens', 'Betula pubescens', \"Salix alba 'Sericea'\", 'Sorbus intermedia', \"Salix alba 'Sericea'\", 'Fagus silvatica', 'Fagus silvatica', 'Betula pubescens', 'Sorbus intermedia', 'Quercus', 'Alnus incan', 'Tilia', 'Populus', 'Ulmus carpinifolia', 'Populus', 'Tilia', 'Ulmus carpinifolia', 'Ulmus carpinifolia', 'Acer', 'Salix aurita', 'Salix aurita', 'Acer', 'Salix sinerea', 'Sorbus aucuparia', 'Sorbus aucuparia', 'Salix sinerea', 'Populus tremula', 'Ulmus glabra', 'Ulmus glabra', 'Populus tremula', 'Ulmus glabra', 'Populus tremula', 'Ulmus glabra', 'Populus tremula', 'Populus tremula', 'Ulmus glabra', 'Sorbus aucuparia', 'Salix sinerea', 'Acer', 'Salix sinerea', 'Sorbus aucuparia', 'Salix aurita', 'Salix aurita', 'Acer', 'Acer', 'Salix aurita', 'Populus', 'Ulmus carpinifolia', 'Tilia', 'Ulmus carpinifolia', 'Populus', 'Tilia', 'Quercus', 'Alnus incan', 'Alnus incan', 'Quercus', 'Alnus incan', 'Quercus', 'Fagus silvatica', 'Sorbus intermedia', 'Sorbus intermedia', 'Fagus silvatica', 'Betula pubescens', 'Fagus silvatica', \"Salix alba 'Sericea'\", \"Salix alba 'Sericea'\", 'Sorbus intermedia', 'Betula pubescens', 'Sorbus intermedia', \"Salix alba 'Sericea'\", 'Betula pubescens', 'Fagus silvatica', 'Betula pubescens', \"Salix alba 'Sericea'\", 'Sorbus intermedia', 'Fagus silvatica', 'Fagus silvatica', 'Sorbus intermedia', 'Quercus', 'Alnus incan', 'Alnus incan', 'Quercus', 'Quercus', 'Alnus incan', 'Tilia', 'Populus', 'Populus', 'Tilia', 'Tilia', 'Ulmus carpinifolia', 'Ulmus carpinifolia', 'Populus', 'Acer', 'Salix aurita', 'Salix aurita', 'Acer', 'Salix sinerea', 'Salix aurita', 'Sorbus aucuparia', 'Sorbus aucuparia', 'Acer', 'Salix sinerea', 'Populus tremula', 'Ulmus glabra', 'Ulmus glabra', 'Populus tremula', 'Populus tremula', 'Ulmus glabra', 'Ulmus glabra', 'Populus tremula', 'Salix aurita', 'Acer', 'Salix sinerea', 'Sorbus aucuparia', 'Salix aurita', 'Sorbus aucuparia', 'Salix sinerea', 'Acer', 'Tilia', 'Populus', 'Populus', 'Tilia', 'Tilia', 'Ulmus carpinifolia', 'Populus', 'Ulmus carpinifolia', 'Quercus', 'Alnus incan', 'Alnus incan', 'Quercus', 'Quercus', 'Alnus incan', \"Salix alba 'Sericea'\", 'Sorbus intermedia', 'Betula pubescens', 'Betula pubescens', 'Fagus silvatica', \"Salix alba 'Sericea'\", 'Sorbus intermedia', 'Fagus silvatica', 'Fagus silvatica', 'Sorbus intermedia', 'Fagus silvatica', 'Sorbus intermedia', 'Sorbus intermedia', 'Fagus silvatica', 'Fagus silvatica', 'Betula pubescens', \"Salix alba 'Sericea'\", 'Sorbus intermedia', \"Salix alba 'Sericea'\", 'Betula pubescens', 'Quercus', 'Alnus incan', 'Alnus incan', 'Quercus', 'Alnus incan', 'Quercus', 'Ulmus carpinifolia', 'Populus', 'Tilia', 'Ulmus carpinifolia', 'Populus', 'Tilia', 'Tilia', 'Populus', 'Sorbus aucuparia', 'Acer', 'Salix sinerea', 'Salix sinerea', 'Salix aurita', 'Sorbus aucuparia', 'Salix aurita', 'Acer', 'Acer', 'Salix aurita', 'Ulmus glabra', 'Populus tremula', 'Populus tremula', 'Ulmus glabra', 'Ulmus glabra', 'Populus tremula', 'Ulmus glabra', 'Populus tremula', 'Acer', 'Sorbus aucuparia', 'Salix aurita', 'Salix aurita', 'Salix sinerea', 'Acer', 'Salix sinerea', 'Sorbus aucuparia', 'Sorbus aucuparia', 'Salix sinerea', 'Tilia', 'Populus', 'Populus', 'Tilia', 'Ulmus carpinifolia', 'Ulmus carpinifolia', 'Alnus incan', 'Quercus', 'Quercus', 'Alnus incan', \"Salix alba 'Sericea'\", 'Betula pubescens', 'Betula pubescens', \"Salix alba 'Sericea'\", \"Salix alba 'Sericea'\", 'Sorbus intermedia', 'Betula pubescens', 'Fagus silvatica', 'Fagus silvatica', 'Betula pubescens', 'Sorbus intermedia', \"Salix alba 'Sericea'\", 'Betula pubescens', \"Salix alba 'Sericea'\", \"Salix alba 'Sericea'\", 'Betula pubescens', 'Quercus', 'Alnus incan', 'Alnus incan', 'Quercus', 'Ulmus carpinifolia', 'Ulmus carpinifolia', 'Populus', 'Tilia', 'Tilia', 'Populus', 'Sorbus aucuparia', 'Salix sinerea', 'Salix sinerea', 'Sorbus aucuparia', 'Salix aurita', 'Acer', 'Salix sinerea', 'Acer', 'Salix aurita', 'Sorbus aucuparia', 'Populus tremula', 'Ulmus glabra', 'Ulmus glabra', 'Populus tremula', 'Populus tremula', 'Ulmus glabra', 'Populus tremula', 'Ulmus glabra', 'Ulmus glabra', 'Populus tremula', 'Salix sinerea', 'Sorbus aucuparia', 'Salix aurita', 'Sorbus aucuparia', 'Salix sinerea', 'Acer', 'Acer', 'Salix aurita', 'Salix aurita', 'Acer', 'Tilia', 'Ulmus carpinifolia', 'Populus', 'Ulmus carpinifolia', 'Tilia', 'Populus', 'Populus', 'Tilia', 'Quercus', 'Alnus incan', 'Quercus', 'Alnus incan', 'Sorbus intermedia', 'Fagus silvatica', 'Fagus silvatica', 'Sorbus intermedia', \"Salix alba 'Sericea'\", 'Sorbus intermedia', 'Betula pubescens', 'Betula pubescens', 'Fagus silvatica', \"Salix alba 'Sericea'\", 'Fagus silvatica', 'Betula pubescens', \"Salix alba 'Sericea'\", 'Sorbus intermedia', \"Salix alba 'Sericea'\", 'Betula pubescens', 'Fagus silvatica', 'Sorbus intermedia', 'Sorbus intermedia', 'Fagus silvatica', 'Alnus incan', 'Quercus', 'Quercus', 'Alnus incan', 'Alnus incan', 'Quercus', 'Populus', 'Tilia', 'Tilia', 'Populus', 'Ulmus carpinifolia', 'Populus', 'Tilia', 'Ulmus carpinifolia', 'Salix aurita', 'Acer', 'Acer', 'Salix aurita', 'Sorbus aucuparia', 'Acer', 'Salix sinerea', 'Salix sinerea', 'Salix aurita', 'Sorbus aucuparia', 'Ulmus glabra', 'Populus tremula', 'Populus tremula', 'Ulmus glabra', 'Ulmus glabra', 'Populus tremula', 'Populus tremula', 'Ulmus glabra', 'Ulmus glabra', 'Populus tremula', 'Salix sinerea', 'Sorbus aucuparia', 'Sorbus aucuparia', 'Salix sinerea', 'Acer', 'Sorbus aucuparia', 'Salix aurita', 'Salix aurita', 'Salix sinerea', 'Acer', 'Ulmus carpinifolia', 'Ulmus carpinifolia', 'Tilia', 'Populus', 'Ulmus carpinifolia', 'Alnus incan', 'Quercus', 'Quercus', 'Alnus incan', 'Sorbus intermedia', 'Fagus silvatica', 'Fagus silvatica', 'Sorbus intermedia', \"Salix alba 'Sericea'\", 'Betula pubescens', 'Betula pubescens', \"Salix alba 'Sericea'\", 'Betula pubescens', \"Salix alba 'Sericea'\", \"Salix alba 'Sericea'\", 'Betula pubescens', 'Fagus silvatica', 'Sorbus intermedia', 'Sorbus intermedia', 'Fagus silvatica', 'Quercus', 'Alnus incan', 'Alnus incan', 'Quercus', 'Ulmus carpinifolia', 'Populus', 'Tilia', 'Ulmus carpinifolia', 'Ulmus carpinifolia', 'Salix aurita', 'Acer', 'Salix sinerea', 'Acer', 'Salix aurita', 'Sorbus aucuparia', 'Sorbus aucuparia', 'Salix sinerea', 'Salix sinerea', 'Sorbus aucuparia', 'Ulmus glabra', 'Populus tremula', 'Populus tremula', 'Ulmus glabra', 'Populus tremula', 'Ulmus glabra', 'Ulmus glabra', 'Populus tremula', 'Populus tremula', 'Ulmus glabra', 'Populus tremula', 'Ulmus glabra', 'Salix sinerea', 'Acer', 'Sorbus aucuparia', 'Salix aurita', 'Sorbus aucuparia', 'Salix sinerea', 'Salix sinerea', 'Sorbus aucuparia', 'Populus', 'Ulmus carpinifolia', 'Tilia', 'Tilia', 'Populus', 'Ulmus carpinifolia', 'Ulmus carpinifolia', 'Quercus', 'Alnus incan', 'Alnus incan', 'Quercus', 'Betula pubescens', \"Salix alba 'Sericea'\", \"Salix alba 'Sericea'\", 'Betula pubescens', 'Betula pubescens', 'Fagus silvatica', 'Sorbus intermedia', \"Salix alba 'Sericea'\", 'Sorbus intermedia', 'Fagus silvatica', 'Sorbus intermedia', \"Salix alba 'Sericea'\", 'Fagus silvatica', 'Fagus silvatica', 'Betula pubescens', 'Sorbus intermedia', \"Salix alba 'Sericea'\", 'Betula pubescens', 'Betula pubescens', \"Salix alba 'Sericea'\", 'Alnus incan', 'Quercus', 'Quercus', 'Alnus incan', 'Ulmus carpinifolia', 'Ulmus carpinifolia', 'Tilia', 'Populus', 'Ulmus carpinifolia', 'Populus', 'Tilia', 'Salix sinerea', 'Sorbus aucuparia', 'Sorbus aucuparia', 'Salix sinerea', 'Salix aurita', 'Sorbus aucuparia', 'Acer', 'Salix sinerea', 'Ulmus glabra', 'Populus tremula', 'Populus tremula', 'Ulmus glabra', 'Ulmus glabra', 'Populus tremula', 'Populus tremula', 'Ulmus glabra', 'Salix aurita', 'Acer', 'Acer', 'Salix aurita', 'Sorbus aucuparia', 'Salix sinerea', 'Acer', 'Salix sinerea', 'Sorbus aucuparia', 'Salix aurita', 'Populus', 'Tilia', 'Tilia', 'Populus', 'Populus', 'Ulmus carpinifolia', 'Tilia', 'Ulmus carpinifolia', 'Alnus incan', 'Quercus', 'Quercus', 'Alnus incan', 'Alnus incan', 'Quercus', 'Betula pubescens', 'Fagus silvatica', \"Salix alba 'Sericea'\", \"Salix alba 'Sericea'\", 'Sorbus intermedia', 'Betula pubescens', 'Fagus silvatica', 'Sorbus intermedia', 'Sorbus intermedia', 'Fagus silvatica', 'Fagus silvatica', 'Sorbus intermedia', 'Sorbus intermedia', \"Salix alba 'Sericea'\", 'Betula pubescens', 'Fagus silvatica', 'Betula pubescens', \"Salix alba 'Sericea'\", 'Alnus incan', 'Quercus', 'Quercus', 'Alnus incan', 'Quercus', 'Alnus incan', 'Tilia', 'Ulmus carpinifolia', 'Ulmus carpinifolia', 'Populus', 'Tilia', 'Populus', 'Populus', 'Tilia', 'Salix sinerea', 'Salix aurita', 'Sorbus aucuparia', 'Sorbus aucuparia', 'Acer', 'Salix sinerea', 'Acer', 'Salix aurita', 'Salix aurita', 'Acer', 'Ulmus glabra', 'Populus tremula', 'Populus tremula', 'Ulmus glabra', 'Ulmus glabra', 'Populus tremula', 'Salix sinerea', 'Sorbus aucuparia', 'Sorbus aucuparia', 'Salix sinerea', 'Acer', 'Salix aurita', 'Salix aurita', 'Acer', 'Tilia', 'Ulmus carpinifolia', 'Populus', 'Ulmus carpinifolia', 'Tilia', 'Populus', 'Populus', 'Tilia', 'Alnus incan', 'Quercus', 'Quercus', 'Alnus incan', 'Quercus', 'Alnus incan', 'Sorbus intermedia', 'Fagus silvatica', 'Fagus silvatica', 'Sorbus intermedia', \"Salix alba 'Sericea'\", 'Sorbus intermedia', 'Betula pubescens', 'Betula pubescens', 'Fagus silvatica', \"Salix alba 'Sericea'\", 'Fagus silvatica', 'Betula pubescens', \"Salix alba 'Sericea'\", 'Sorbus intermedia', \"Salix alba 'Sericea'\", 'Betula pubescens', 'Fagus silvatica', 'Sorbus intermedia', 'Sorbus intermedia', 'Fagus silvatica', 'Alnus incan', 'Quercus', 'Quercus', 'Alnus incan', 'Alnus incan', 'Quercus', 'Populus', 'Tilia', 'Tilia', 'Populus', 'Ulmus carpinifolia', 'Populus', 'Tilia', 'Ulmus carpinifolia', 'Salix aurita', 'Acer', 'Acer', 'Salix aurita', 'Sorbus aucuparia', 'Salix sinerea', 'Salix sinerea', 'Sorbus aucuparia', 'Ulmus glabra', 'Populus tremula', 'Populus tremula', 'Ulmus glabra', 'Populus tremula', 'Ulmus glabra', 'Ulmus glabra', 'Populus tremula', 'Salix sinerea', 'Sorbus aucuparia', 'Sorbus aucuparia', 'Salix sinerea', 'Acer', 'Sorbus aucuparia', 'Salix aurita', 'Salix aurita', 'Salix sinerea', 'Acer', 'Ulmus carpinifolia', 'Tilia', 'Populus', 'Populus', 'Ulmus carpinifolia', 'Tilia', 'Alnus incan', 'Quercus', 'Quercus', 'Alnus incan', \"Salix alba 'Sericea'\", 'Sorbus intermedia', 'Fagus silvatica', 'Betula pubescens', 'Fagus silvatica', 'Sorbus intermedia', \"Salix alba 'Sericea'\", 'Betula pubescens', 'Betula pubescens', \"Salix alba 'Sericea'\", 'Betula pubescens', \"Salix alba 'Sericea'\", \"Salix alba 'Sericea'\", 'Betula pubescens', 'Fagus silvatica', 'Betula pubescens', 'Sorbus intermedia', 'Sorbus intermedia', \"Salix alba 'Sericea'\", 'Fagus silvatica', 'Quercus', 'Alnus incan', 'Alnus incan', 'Quercus', 'Ulmus carpinifolia', 'Populus', 'Tilia', 'Tilia', 'Populus', 'Ulmus carpinifolia', 'Ulmus carpinifolia', 'Salix aurita', 'Acer', 'Salix sinerea', 'Acer', 'Salix aurita', 'Sorbus aucuparia', 'Sorbus aucuparia', 'Salix sinerea', 'Salix sinerea', 'Sorbus aucuparia', 'Ulmus glabra', 'Populus tremula', 'Populus tremula', 'Ulmus glabra', 'Ulmus glabra', 'Populus tremula', 'Populus tremula', 'Ulmus glabra', 'Populus tremula', 'Ulmus glabra', 'Salix aurita', 'Salix sinerea', 'Acer', 'Acer', 'Sorbus aucuparia', 'Salix aurita', 'Salix sinerea', 'Sorbus aucuparia', 'Populus', 'Ulmus carpinifolia', 'Tilia', 'Tilia', 'Populus', 'Ulmus carpinifolia', 'Ulmus carpinifolia', 'Quercus', 'Alnus incan', 'Alnus incan', 'Quercus', 'Betula pubescens', \"Salix alba 'Sericea'\", \"Salix alba 'Sericea'\", 'Betula pubescens', 'Betula pubescens', 'Fagus silvatica', 'Sorbus intermedia', \"Salix alba 'Sericea'\", 'Sorbus intermedia', 'Fagus silvatica', 'Sorbus intermedia', \"Salix alba 'Sericea'\", 'Fagus silvatica', 'Fagus silvatica', 'Betula pubescens', 'Sorbus intermedia', \"Salix alba 'Sericea'\", 'Betula pubescens', 'Betula pubescens', \"Salix alba 'Sericea'\", 'Alnus incan', 'Quercus', 'Quercus', 'Alnus incan', 'Ulmus carpinifolia', 'Ulmus carpinifolia', 'Tilia', 'Populus', 'Ulmus carpinifolia', 'Populus', 'Tilia', 'Salix sinerea', 'Sorbus aucuparia', 'Sorbus aucuparia', 'Salix sinerea', 'Acer', 'Salix aurita', 'Sorbus aucuparia', 'Salix aurita', 'Acer', 'Salix sinerea', 'Ulmus glabra', 'Populus tremula', 'Populus tremula', 'Ulmus glabra', 'Ulmus glabra', 'Populus tremula', 'Ulmus glabra', 'Populus tremula', 'Populus tremula', 'Ulmus glabra', 'Salix aurita', 'Acer', 'Acer', 'Salix aurita', 'Sorbus aucuparia', 'Salix sinerea', 'Acer', 'Salix sinerea', 'Sorbus aucuparia', 'Salix aurita', 'Populus', 'Tilia', 'Tilia', 'Populus', 'Ulmus carpinifolia', 'Ulmus carpinifolia', 'Alnus incan', 'Quercus', 'Quercus', 'Alnus incan', 'Alnus incan', 'Quercus', 'Betula pubescens', 'Fagus silvatica', \"Salix alba 'Sericea'\", 'Sorbus intermedia', 'Fagus silvatica', 'Sorbus intermedia', 'Sorbus intermedia', 'Fagus silvatica', 'Sorbus intermedia', 'Fagus silvatica', 'Fagus silvatica', 'Sorbus intermedia', 'Sorbus intermedia', \"Salix alba 'Sericea'\", 'Fagus silvatica', 'Betula pubescens', 'Alnus incan', 'Quercus', 'Quercus', 'Alnus incan', 'Quercus', 'Alnus incan', 'Ulmus carpinifolia', 'Ulmus carpinifolia', 'Tilia', 'Populus', 'Populus', 'Tilia', 'Salix sinerea', 'Salix aurita', 'Sorbus aucuparia', 'Sorbus aucuparia', 'Acer', 'Salix sinerea', 'Acer', 'Salix aurita', 'Salix aurita', 'Acer', 'Populus tremula', 'Ulmus glabra', 'Ulmus glabra', 'Populus tremula', 'Populus tremula', 'Ulmus glabra', 'Ulmus glabra', 'Populus tremula', 'Populus tremula', 'Ulmus glabra', 'Sorbus aucuparia', 'Salix sinerea', 'Salix sinerea', 'Sorbus aucuparia', 'Salix aurita', 'Salix sinerea', 'Acer', 'Acer', 'Sorbus aucuparia', 'Salix aurita', 'Ulmus carpinifolia', 'Ulmus carpinifolia', 'Populus', 'Ulmus carpinifolia', 'Tilia', 'Tilia', 'Populus', 'Quercus', 'Alnus incan', 'Alnus incan', 'Quercus', 'Betula pubescens', 'Fagus silvatica', 'Sorbus intermedia', \"Salix alba 'Sericea'\", 'Sorbus intermedia', 'Fagus silvatica', 'Betula pubescens', \"Salix alba 'Sericea'\", \"Salix alba 'Sericea'\", 'Betula pubescens', \"Salix alba 'Sericea'\", 'Betula pubescens', 'Betula pubescens', \"Salix alba 'Sericea'\", 'Sorbus intermedia', \"Salix alba 'Sericea'\", 'Fagus silvatica', 'Fagus silvatica', 'Betula pubescens', 'Sorbus intermedia', 'Alnus incan', 'Quercus', 'Quercus', 'Alnus incan', 'Tilia', 'Populus', 'Ulmus carpinifolia', 'Populus', 'Tilia', 'Ulmus carpinifolia', 'Ulmus carpinifolia', 'Acer', 'Salix aurita', 'Sorbus aucuparia', 'Salix aurita', 'Acer', 'Salix sinerea', 'Salix sinerea', 'Sorbus aucuparia', 'Sorbus aucuparia', 'Salix sinerea', 'Populus tremula', 'Ulmus glabra', 'Ulmus glabra', 'Populus tremula', 'Ulmus glabra', 'Populus tremula', 'Ulmus glabra', 'Populus tremula', 'Populus tremula', 'Ulmus glabra', 'Sorbus aucuparia', 'Salix sinerea', 'Acer', 'Salix sinerea', 'Sorbus aucuparia', 'Salix aurita', 'Salix aurita', 'Acer', 'Acer', 'Salix aurita', 'Populus', 'Ulmus carpinifolia', 'Tilia', 'Populus', 'Tilia', 'Tilia', 'Populus', 'Quercus', 'Alnus incan', 'Alnus incan', 'Quercus', 'Alnus incan', 'Quercus', 'Fagus silvatica', 'Sorbus intermedia', 'Sorbus intermedia', 'Fagus silvatica', 'Betula pubescens', \"Salix alba 'Sericea'\", \"Salix alba 'Sericea'\", 'Betula pubescens', \"Salix alba 'Sericea'\", 'Betula pubescens', 'Betula pubescens', \"Salix alba 'Sericea'\", 'Sorbus intermedia', 'Fagus silvatica', 'Fagus silvatica', 'Sorbus intermedia', 'Quercus', 'Alnus incan', 'Alnus incan', 'Quercus', 'Quercus', 'Alnus incan', 'Tilia', 'Populus', 'Populus', 'Tilia', 'Tilia', 'Ulmus carpinifolia', 'Populus', 'Acer', 'Salix aurita', 'Salix aurita', 'Acer', 'Salix sinerea', 'Salix aurita', 'Sorbus aucuparia', 'Sorbus aucuparia', 'Acer', 'Salix sinerea', 'Populus tremula', 'Ulmus glabra', 'Ulmus glabra', 'Populus tremula', 'Populus tremula', 'Ulmus glabra', 'Ulmus glabra', 'Populus tremula', 'Acer', 'Salix aurita', 'Salix aurita', 'Acer', 'Sorbus aucuparia', 'Salix aurita', 'Salix sinerea', 'Acer', 'Tilia', 'Populus', 'Populus', 'Tilia', 'Tilia', 'Ulmus carpinifolia', 'Populus', 'Ulmus carpinifolia', 'Alnus incan', 'Quercus', 'Quercus', 'Alnus incan', \"Salix alba 'Sericea'\", 'Sorbus intermedia', 'Betula pubescens', 'Betula pubescens', 'Fagus silvatica', \"Salix alba 'Sericea'\", 'Sorbus intermedia', 'Fagus silvatica', 'Fagus silvatica', 'Sorbus intermedia', 'Fagus silvatica', 'Sorbus intermedia', 'Sorbus intermedia', 'Fagus silvatica', 'Fagus silvatica', 'Betula pubescens', \"Salix alba 'Sericea'\", 'Sorbus intermedia', \"Salix alba 'Sericea'\", 'Betula pubescens', 'Quercus', 'Alnus incan', 'Alnus incan', 'Quercus', 'Ulmus carpinifolia', 'Populus', 'Tilia', 'Ulmus carpinifolia', 'Populus', 'Tilia', 'Tilia', 'Populus', 'Acer', 'Salix sinerea', 'Salix aurita', 'Sorbus aucuparia', 'Salix aurita', 'Acer', 'Acer', 'Salix aurita', 'Ulmus glabra', 'Populus tremula', 'Populus tremula', 'Ulmus glabra', 'Populus tremula', 'Ulmus glabra', 'Ulmus glabra', 'Populus tremula', 'Ulmus glabra', 'Populus tremula', 'Acer', 'Sorbus aucuparia', 'Salix aurita', 'Salix aurita', 'Salix sinerea', 'Acer', 'Salix sinerea', 'Sorbus aucuparia', 'Sorbus aucuparia', 'Salix sinerea', 'Tilia', 'Populus', 'Populus', 'Ulmus carpinifolia', 'Tilia', 'Ulmus carpinifolia', 'Ulmus carpinifolia', 'Alnus incan', 'Quercus', 'Quercus', 'Alnus incan', \"Salix alba 'Sericea'\", 'Betula pubescens', \"Salix alba 'Sericea'\", 'Sorbus intermedia', 'Fagus silvatica', 'Betula pubescens', 'Fagus silvatica', 'Sorbus intermedia', 'Fagus silvatica', 'Betula pubescens', 'Sorbus intermedia', 'Sorbus intermedia', \"Salix alba 'Sericea'\", 'Fagus silvatica', 'Betula pubescens', \"Salix alba 'Sericea'\", \"Salix alba 'Sericea'\", 'Betula pubescens', 'Quercus', 'Alnus incan', 'Alnus incan', 'Quercus', 'Ulmus carpinifolia', 'Ulmus carpinifolia', 'Ulmus carpinifolia', 'Populus', 'Tilia', 'Tilia', 'Populus', 'Sorbus aucuparia', 'Salix sinerea', 'Salix sinerea', 'Sorbus aucuparia', 'Salix aurita', 'Acer', 'Salix sinerea', 'Acer', 'Salix aurita', 'Sorbus aucuparia', 'Populus tremula', 'Ulmus glabra', 'Ulmus glabra', 'Populus tremula', 'Populus tremula', 'Ulmus glabra']\n",
      "[<PIL.TiffImagePlugin.TiffImageFile image mode=RGB size=1194x2006 at 0x7F7D81177250>, 'Ulmus glabra']\n"
     ]
    }
   ],
   "source": [
    "#import data\n",
    "from PIL import Image\n",
    "import os\n",
    "\n",
    "def getLabel(s):\n",
    "    labels = {1 : 'Ulmus carpinifolia', \n",
    "                2 : 'Acer', \n",
    "                3 : 'Salix aurita', \n",
    "                4 : 'Quercus', \n",
    "                5 : 'Alnus incan', \n",
    "                6 : 'Betula pubescens', \n",
    "                7 : 'Salix alba \\'Sericea\\'', \n",
    "                8 : 'Populus tremula', \n",
    "                9 : 'Ulmus glabra', \n",
    "                10 : 'Sorbus aucuparia', \n",
    "                11 : 'Salix sinerea', \n",
    "                12 : 'Populus', \n",
    "                13 : 'Tilia', \n",
    "                14 : 'Sorbus intermedia', \n",
    "                15 : 'Fagus silvatica'}\n",
    "    return labels.get(int(s))\n",
    "\n",
    "im = [] #images\n",
    "la = [] #labels\n",
    "joined = []\n",
    "\n",
    "data_dir = \"/Users/stevenli/SigAida/data/images/\" #change to data directory\n",
    "for f in os.listdir(data_dir):\n",
    "    im.append(Image.open(data_dir + f))\n",
    "    la.append(getLabel(f[:-9].replace('l',''))) #removes last 9 letters replaces l with blank then gets label\n",
    "\n",
    "for image, label in zip(im, la):\n",
    "    joined.append([image, label])\n",
    "\n",
    "print(la)\n",
    "image1 = im[1]\n",
    "image1.show()\n",
    "print(joined[1])\n",
    "\n",
    "\n"
   ]
  },
  {
   "cell_type": "code",
   "execution_count": null,
   "id": "5e2c21ca",
   "metadata": {},
   "outputs": [],
   "source": [
    "#some preprocessing, randomize data, split data, load into dataloaders\n",
    "import random\n",
    "split_ratio=(0.8, 0.1, 0.1)\n",
    "\n",
    "def create_splits(data, split_ratio):\n",
    "    random.shuffle(data)\n",
    "    test = [data[i] for i in range(0, round(.8 * len(data)))]\n",
    "    train = [data[i] for i in range(0, round(.8 * len(data)))]\n",
    "    val = [data[i] for i in range(0, round(.8 * len(data)))]\n",
    "    return train, val, test\n",
    "\n",
    "train, val, test = create_splits(joined, split_ratio)\n",
    "\n",
    "print(len(test))\n",
    "print(len(val))\n",
    "print(len(test))"
   ]
  },
  {
   "cell_type": "code",
   "execution_count": 15,
   "id": "fe8160eb",
   "metadata": {},
   "outputs": [
    {
     "name": "stdout",
     "output_type": "stream",
     "text": [
      "True\n",
      "True\n"
     ]
    }
   ],
   "source": [
    "#chcek devices change to whatever you're using\n",
    "\n",
    "#mps (m1/m2 mac)\n",
    "\n",
    "print(torch.backends.mps.is_available())\n",
    "print(torch.backends.mps.is_built())"
   ]
  },
  {
   "cell_type": "code",
   "execution_count": 16,
   "id": "971f44ad",
   "metadata": {},
   "outputs": [
    {
     "name": "stdout",
     "output_type": "stream",
     "text": [
      "Downloading https://www.cs.toronto.edu/~kriz/cifar-10-python.tar.gz to ./data/cifar-10-python.tar.gz\n"
     ]
    },
    {
     "data": {
      "application/vnd.jupyter.widget-view+json": {
       "model_id": "52b640136c744378ba818030bf78f632",
       "version_major": 2,
       "version_minor": 0
      },
      "text/plain": [
       "  0%|          | 0/170498071 [00:00<?, ?it/s]"
      ]
     },
     "metadata": {},
     "output_type": "display_data"
    },
    {
     "ename": "KeyboardInterrupt",
     "evalue": "",
     "output_type": "error",
     "traceback": [
      "\u001b[0;31m---------------------------------------------------------------------------\u001b[0m",
      "\u001b[0;31mKeyboardInterrupt\u001b[0m                         Traceback (most recent call last)",
      "\u001b[1;32m/Users/stevenli/SigAida/plant_classification_group_7_2023/plant_classification_g7.ipynb Cell 11\u001b[0m line \u001b[0;36m<cell line: 16>\u001b[0;34m()\u001b[0m\n\u001b[1;32m      <a href='vscode-notebook-cell:/Users/stevenli/SigAida/plant_classification_group_7_2023/plant_classification_g7.ipynb#X10sZmlsZQ%3D%3D?line=6'>7</a>\u001b[0m device \u001b[39m=\u001b[39m torch\u001b[39m.\u001b[39mdevice(\u001b[39m'\u001b[39m\u001b[39mmps\u001b[39m\u001b[39m'\u001b[39m)\n\u001b[1;32m      <a href='vscode-notebook-cell:/Users/stevenli/SigAida/plant_classification_group_7_2023/plant_classification_g7.ipynb#X10sZmlsZQ%3D%3D?line=8'>9</a>\u001b[0m transform \u001b[39m=\u001b[39m transforms\u001b[39m.\u001b[39mCompose([\n\u001b[1;32m     <a href='vscode-notebook-cell:/Users/stevenli/SigAida/plant_classification_group_7_2023/plant_classification_g7.ipynb#X10sZmlsZQ%3D%3D?line=9'>10</a>\u001b[0m     transforms\u001b[39m.\u001b[39mResize(\u001b[39m224\u001b[39m), \u001b[39m# change to waht data should be\u001b[39;00m\n\u001b[1;32m     <a href='vscode-notebook-cell:/Users/stevenli/SigAida/plant_classification_group_7_2023/plant_classification_g7.ipynb#X10sZmlsZQ%3D%3D?line=10'>11</a>\u001b[0m     transforms\u001b[39m.\u001b[39mCenterCrop(\u001b[39m224\u001b[39m),\n\u001b[1;32m     <a href='vscode-notebook-cell:/Users/stevenli/SigAida/plant_classification_group_7_2023/plant_classification_g7.ipynb#X10sZmlsZQ%3D%3D?line=11'>12</a>\u001b[0m     transforms\u001b[39m.\u001b[39mToTensor(),\n\u001b[1;32m     <a href='vscode-notebook-cell:/Users/stevenli/SigAida/plant_classification_group_7_2023/plant_classification_g7.ipynb#X10sZmlsZQ%3D%3D?line=12'>13</a>\u001b[0m     transforms\u001b[39m.\u001b[39mNormalize(mean\u001b[39m=\u001b[39m[\u001b[39m0.485\u001b[39m, \u001b[39m0.456\u001b[39m, \u001b[39m0.406\u001b[39m], std\u001b[39m=\u001b[39m[\u001b[39m0.229\u001b[39m, \u001b[39m0.224\u001b[39m, \u001b[39m0.225\u001b[39m])\n\u001b[1;32m     <a href='vscode-notebook-cell:/Users/stevenli/SigAida/plant_classification_group_7_2023/plant_classification_g7.ipynb#X10sZmlsZQ%3D%3D?line=13'>14</a>\u001b[0m ])\n\u001b[0;32m---> <a href='vscode-notebook-cell:/Users/stevenli/SigAida/plant_classification_group_7_2023/plant_classification_g7.ipynb#X10sZmlsZQ%3D%3D?line=15'>16</a>\u001b[0m train_dataset \u001b[39m=\u001b[39m datasets\u001b[39m.\u001b[39;49mCIFAR10(root\u001b[39m=\u001b[39;49m\u001b[39m'\u001b[39;49m\u001b[39m./data\u001b[39;49m\u001b[39m'\u001b[39;49m, train\u001b[39m=\u001b[39;49m\u001b[39mTrue\u001b[39;49;00m, download\u001b[39m=\u001b[39;49m\u001b[39mTrue\u001b[39;49;00m, transform\u001b[39m=\u001b[39;49mtransform)\n\u001b[1;32m     <a href='vscode-notebook-cell:/Users/stevenli/SigAida/plant_classification_group_7_2023/plant_classification_g7.ipynb#X10sZmlsZQ%3D%3D?line=16'>17</a>\u001b[0m train_loader \u001b[39m=\u001b[39m torch\u001b[39m.\u001b[39mutils\u001b[39m.\u001b[39mdata\u001b[39m.\u001b[39mDataLoader(train_dataset, batch_size\u001b[39m=\u001b[39m\u001b[39m32\u001b[39m, shuffle\u001b[39m=\u001b[39m\u001b[39mTrue\u001b[39;00m)\n\u001b[1;32m     <a href='vscode-notebook-cell:/Users/stevenli/SigAida/plant_classification_group_7_2023/plant_classification_g7.ipynb#X10sZmlsZQ%3D%3D?line=18'>19</a>\u001b[0m \u001b[39m# Train the model\u001b[39;00m\n",
      "File \u001b[0;32m~/opt/anaconda3/lib/python3.9/site-packages/torchvision/datasets/cifar.py:65\u001b[0m, in \u001b[0;36mCIFAR10.__init__\u001b[0;34m(self, root, train, transform, target_transform, download)\u001b[0m\n\u001b[1;32m     62\u001b[0m \u001b[39mself\u001b[39m\u001b[39m.\u001b[39mtrain \u001b[39m=\u001b[39m train  \u001b[39m# training set or test set\u001b[39;00m\n\u001b[1;32m     64\u001b[0m \u001b[39mif\u001b[39;00m download:\n\u001b[0;32m---> 65\u001b[0m     \u001b[39mself\u001b[39;49m\u001b[39m.\u001b[39;49mdownload()\n\u001b[1;32m     67\u001b[0m \u001b[39mif\u001b[39;00m \u001b[39mnot\u001b[39;00m \u001b[39mself\u001b[39m\u001b[39m.\u001b[39m_check_integrity():\n\u001b[1;32m     68\u001b[0m     \u001b[39mraise\u001b[39;00m \u001b[39mRuntimeError\u001b[39;00m(\u001b[39m\"\u001b[39m\u001b[39mDataset not found or corrupted. You can use download=True to download it\u001b[39m\u001b[39m\"\u001b[39m)\n",
      "File \u001b[0;32m~/opt/anaconda3/lib/python3.9/site-packages/torchvision/datasets/cifar.py:141\u001b[0m, in \u001b[0;36mCIFAR10.download\u001b[0;34m(self)\u001b[0m\n\u001b[1;32m    139\u001b[0m     \u001b[39mprint\u001b[39m(\u001b[39m\"\u001b[39m\u001b[39mFiles already downloaded and verified\u001b[39m\u001b[39m\"\u001b[39m)\n\u001b[1;32m    140\u001b[0m     \u001b[39mreturn\u001b[39;00m\n\u001b[0;32m--> 141\u001b[0m download_and_extract_archive(\u001b[39mself\u001b[39;49m\u001b[39m.\u001b[39;49murl, \u001b[39mself\u001b[39;49m\u001b[39m.\u001b[39;49mroot, filename\u001b[39m=\u001b[39;49m\u001b[39mself\u001b[39;49m\u001b[39m.\u001b[39;49mfilename, md5\u001b[39m=\u001b[39;49m\u001b[39mself\u001b[39;49m\u001b[39m.\u001b[39;49mtgz_md5)\n",
      "File \u001b[0;32m~/opt/anaconda3/lib/python3.9/site-packages/torchvision/datasets/utils.py:446\u001b[0m, in \u001b[0;36mdownload_and_extract_archive\u001b[0;34m(url, download_root, extract_root, filename, md5, remove_finished)\u001b[0m\n\u001b[1;32m    443\u001b[0m \u001b[39mif\u001b[39;00m \u001b[39mnot\u001b[39;00m filename:\n\u001b[1;32m    444\u001b[0m     filename \u001b[39m=\u001b[39m os\u001b[39m.\u001b[39mpath\u001b[39m.\u001b[39mbasename(url)\n\u001b[0;32m--> 446\u001b[0m download_url(url, download_root, filename, md5)\n\u001b[1;32m    448\u001b[0m archive \u001b[39m=\u001b[39m os\u001b[39m.\u001b[39mpath\u001b[39m.\u001b[39mjoin(download_root, filename)\n\u001b[1;32m    449\u001b[0m \u001b[39mprint\u001b[39m(\u001b[39mf\u001b[39m\u001b[39m\"\u001b[39m\u001b[39mExtracting \u001b[39m\u001b[39m{\u001b[39;00marchive\u001b[39m}\u001b[39;00m\u001b[39m to \u001b[39m\u001b[39m{\u001b[39;00mextract_root\u001b[39m}\u001b[39;00m\u001b[39m\"\u001b[39m)\n",
      "File \u001b[0;32m~/opt/anaconda3/lib/python3.9/site-packages/torchvision/datasets/utils.py:156\u001b[0m, in \u001b[0;36mdownload_url\u001b[0;34m(url, root, filename, md5, max_redirect_hops)\u001b[0m\n\u001b[1;32m    154\u001b[0m \u001b[39mtry\u001b[39;00m:\n\u001b[1;32m    155\u001b[0m     \u001b[39mprint\u001b[39m(\u001b[39m\"\u001b[39m\u001b[39mDownloading \u001b[39m\u001b[39m\"\u001b[39m \u001b[39m+\u001b[39m url \u001b[39m+\u001b[39m \u001b[39m\"\u001b[39m\u001b[39m to \u001b[39m\u001b[39m\"\u001b[39m \u001b[39m+\u001b[39m fpath)\n\u001b[0;32m--> 156\u001b[0m     _urlretrieve(url, fpath)\n\u001b[1;32m    157\u001b[0m \u001b[39mexcept\u001b[39;00m (urllib\u001b[39m.\u001b[39merror\u001b[39m.\u001b[39mURLError, \u001b[39mOSError\u001b[39;00m) \u001b[39mas\u001b[39;00m e:  \u001b[39m# type: ignore[attr-defined]\u001b[39;00m\n\u001b[1;32m    158\u001b[0m     \u001b[39mif\u001b[39;00m url[:\u001b[39m5\u001b[39m] \u001b[39m==\u001b[39m \u001b[39m\"\u001b[39m\u001b[39mhttps\u001b[39m\u001b[39m\"\u001b[39m:\n",
      "File \u001b[0;32m~/opt/anaconda3/lib/python3.9/site-packages/torchvision/datasets/utils.py:50\u001b[0m, in \u001b[0;36m_urlretrieve\u001b[0;34m(url, filename, chunk_size)\u001b[0m\n\u001b[1;32m     48\u001b[0m \u001b[39mdef\u001b[39;00m \u001b[39m_urlretrieve\u001b[39m(url: \u001b[39mstr\u001b[39m, filename: \u001b[39mstr\u001b[39m, chunk_size: \u001b[39mint\u001b[39m \u001b[39m=\u001b[39m \u001b[39m1024\u001b[39m \u001b[39m*\u001b[39m \u001b[39m32\u001b[39m) \u001b[39m-\u001b[39m\u001b[39m>\u001b[39m \u001b[39mNone\u001b[39;00m:\n\u001b[1;32m     49\u001b[0m     \u001b[39mwith\u001b[39;00m urllib\u001b[39m.\u001b[39mrequest\u001b[39m.\u001b[39murlopen(urllib\u001b[39m.\u001b[39mrequest\u001b[39m.\u001b[39mRequest(url, headers\u001b[39m=\u001b[39m{\u001b[39m\"\u001b[39m\u001b[39mUser-Agent\u001b[39m\u001b[39m\"\u001b[39m: USER_AGENT})) \u001b[39mas\u001b[39;00m response:\n\u001b[0;32m---> 50\u001b[0m         _save_response_content(\u001b[39miter\u001b[39;49m(\u001b[39mlambda\u001b[39;49;00m: response\u001b[39m.\u001b[39;49mread(chunk_size), \u001b[39mb\u001b[39;49m\u001b[39m\"\u001b[39;49m\u001b[39m\"\u001b[39;49m), filename, length\u001b[39m=\u001b[39;49mresponse\u001b[39m.\u001b[39;49mlength)\n",
      "File \u001b[0;32m~/opt/anaconda3/lib/python3.9/site-packages/torchvision/datasets/utils.py:39\u001b[0m, in \u001b[0;36m_save_response_content\u001b[0;34m(content, destination, length)\u001b[0m\n\u001b[1;32m     33\u001b[0m \u001b[39mdef\u001b[39;00m \u001b[39m_save_response_content\u001b[39m(\n\u001b[1;32m     34\u001b[0m     content: Iterator[\u001b[39mbytes\u001b[39m],\n\u001b[1;32m     35\u001b[0m     destination: \u001b[39mstr\u001b[39m,\n\u001b[1;32m     36\u001b[0m     length: Optional[\u001b[39mint\u001b[39m] \u001b[39m=\u001b[39m \u001b[39mNone\u001b[39;00m,\n\u001b[1;32m     37\u001b[0m ) \u001b[39m-\u001b[39m\u001b[39m>\u001b[39m \u001b[39mNone\u001b[39;00m:\n\u001b[1;32m     38\u001b[0m     \u001b[39mwith\u001b[39;00m \u001b[39mopen\u001b[39m(destination, \u001b[39m\"\u001b[39m\u001b[39mwb\u001b[39m\u001b[39m\"\u001b[39m) \u001b[39mas\u001b[39;00m fh, tqdm(total\u001b[39m=\u001b[39mlength) \u001b[39mas\u001b[39;00m pbar:\n\u001b[0;32m---> 39\u001b[0m         \u001b[39mfor\u001b[39;00m chunk \u001b[39min\u001b[39;00m content:\n\u001b[1;32m     40\u001b[0m             \u001b[39m# filter out keep-alive new chunks\u001b[39;00m\n\u001b[1;32m     41\u001b[0m             \u001b[39mif\u001b[39;00m \u001b[39mnot\u001b[39;00m chunk:\n\u001b[1;32m     42\u001b[0m                 \u001b[39mcontinue\u001b[39;00m\n",
      "File \u001b[0;32m~/opt/anaconda3/lib/python3.9/site-packages/torchvision/datasets/utils.py:50\u001b[0m, in \u001b[0;36m_urlretrieve.<locals>.<lambda>\u001b[0;34m()\u001b[0m\n\u001b[1;32m     48\u001b[0m \u001b[39mdef\u001b[39;00m \u001b[39m_urlretrieve\u001b[39m(url: \u001b[39mstr\u001b[39m, filename: \u001b[39mstr\u001b[39m, chunk_size: \u001b[39mint\u001b[39m \u001b[39m=\u001b[39m \u001b[39m1024\u001b[39m \u001b[39m*\u001b[39m \u001b[39m32\u001b[39m) \u001b[39m-\u001b[39m\u001b[39m>\u001b[39m \u001b[39mNone\u001b[39;00m:\n\u001b[1;32m     49\u001b[0m     \u001b[39mwith\u001b[39;00m urllib\u001b[39m.\u001b[39mrequest\u001b[39m.\u001b[39murlopen(urllib\u001b[39m.\u001b[39mrequest\u001b[39m.\u001b[39mRequest(url, headers\u001b[39m=\u001b[39m{\u001b[39m\"\u001b[39m\u001b[39mUser-Agent\u001b[39m\u001b[39m\"\u001b[39m: USER_AGENT})) \u001b[39mas\u001b[39;00m response:\n\u001b[0;32m---> 50\u001b[0m         _save_response_content(\u001b[39miter\u001b[39m(\u001b[39mlambda\u001b[39;00m: response\u001b[39m.\u001b[39;49mread(chunk_size), \u001b[39mb\u001b[39m\u001b[39m\"\u001b[39m\u001b[39m\"\u001b[39m), filename, length\u001b[39m=\u001b[39mresponse\u001b[39m.\u001b[39mlength)\n",
      "File \u001b[0;32m~/opt/anaconda3/lib/python3.9/http/client.py:463\u001b[0m, in \u001b[0;36mHTTPResponse.read\u001b[0;34m(self, amt)\u001b[0m\n\u001b[1;32m    460\u001b[0m \u001b[39mif\u001b[39;00m amt \u001b[39mis\u001b[39;00m \u001b[39mnot\u001b[39;00m \u001b[39mNone\u001b[39;00m:\n\u001b[1;32m    461\u001b[0m     \u001b[39m# Amount is given, implement using readinto\u001b[39;00m\n\u001b[1;32m    462\u001b[0m     b \u001b[39m=\u001b[39m \u001b[39mbytearray\u001b[39m(amt)\n\u001b[0;32m--> 463\u001b[0m     n \u001b[39m=\u001b[39m \u001b[39mself\u001b[39;49m\u001b[39m.\u001b[39;49mreadinto(b)\n\u001b[1;32m    464\u001b[0m     \u001b[39mreturn\u001b[39;00m \u001b[39mmemoryview\u001b[39m(b)[:n]\u001b[39m.\u001b[39mtobytes()\n\u001b[1;32m    465\u001b[0m \u001b[39melse\u001b[39;00m:\n\u001b[1;32m    466\u001b[0m     \u001b[39m# Amount is not given (unbounded read) so we must check self.length\u001b[39;00m\n\u001b[1;32m    467\u001b[0m     \u001b[39m# and self.chunked\u001b[39;00m\n",
      "File \u001b[0;32m~/opt/anaconda3/lib/python3.9/http/client.py:507\u001b[0m, in \u001b[0;36mHTTPResponse.readinto\u001b[0;34m(self, b)\u001b[0m\n\u001b[1;32m    502\u001b[0m         b \u001b[39m=\u001b[39m \u001b[39mmemoryview\u001b[39m(b)[\u001b[39m0\u001b[39m:\u001b[39mself\u001b[39m\u001b[39m.\u001b[39mlength]\n\u001b[1;32m    504\u001b[0m \u001b[39m# we do not use _safe_read() here because this may be a .will_close\u001b[39;00m\n\u001b[1;32m    505\u001b[0m \u001b[39m# connection, and the user is reading more bytes than will be provided\u001b[39;00m\n\u001b[1;32m    506\u001b[0m \u001b[39m# (for example, reading in 1k chunks)\u001b[39;00m\n\u001b[0;32m--> 507\u001b[0m n \u001b[39m=\u001b[39m \u001b[39mself\u001b[39;49m\u001b[39m.\u001b[39;49mfp\u001b[39m.\u001b[39;49mreadinto(b)\n\u001b[1;32m    508\u001b[0m \u001b[39mif\u001b[39;00m \u001b[39mnot\u001b[39;00m n \u001b[39mand\u001b[39;00m b:\n\u001b[1;32m    509\u001b[0m     \u001b[39m# Ideally, we would raise IncompleteRead if the content-length\u001b[39;00m\n\u001b[1;32m    510\u001b[0m     \u001b[39m# wasn't satisfied, but it might break compatibility.\u001b[39;00m\n\u001b[1;32m    511\u001b[0m     \u001b[39mself\u001b[39m\u001b[39m.\u001b[39m_close_conn()\n",
      "File \u001b[0;32m~/opt/anaconda3/lib/python3.9/socket.py:704\u001b[0m, in \u001b[0;36mSocketIO.readinto\u001b[0;34m(self, b)\u001b[0m\n\u001b[1;32m    702\u001b[0m \u001b[39mwhile\u001b[39;00m \u001b[39mTrue\u001b[39;00m:\n\u001b[1;32m    703\u001b[0m     \u001b[39mtry\u001b[39;00m:\n\u001b[0;32m--> 704\u001b[0m         \u001b[39mreturn\u001b[39;00m \u001b[39mself\u001b[39;49m\u001b[39m.\u001b[39;49m_sock\u001b[39m.\u001b[39;49mrecv_into(b)\n\u001b[1;32m    705\u001b[0m     \u001b[39mexcept\u001b[39;00m timeout:\n\u001b[1;32m    706\u001b[0m         \u001b[39mself\u001b[39m\u001b[39m.\u001b[39m_timeout_occurred \u001b[39m=\u001b[39m \u001b[39mTrue\u001b[39;00m\n",
      "File \u001b[0;32m~/opt/anaconda3/lib/python3.9/ssl.py:1241\u001b[0m, in \u001b[0;36mSSLSocket.recv_into\u001b[0;34m(self, buffer, nbytes, flags)\u001b[0m\n\u001b[1;32m   1237\u001b[0m     \u001b[39mif\u001b[39;00m flags \u001b[39m!=\u001b[39m \u001b[39m0\u001b[39m:\n\u001b[1;32m   1238\u001b[0m         \u001b[39mraise\u001b[39;00m \u001b[39mValueError\u001b[39;00m(\n\u001b[1;32m   1239\u001b[0m           \u001b[39m\"\u001b[39m\u001b[39mnon-zero flags not allowed in calls to recv_into() on \u001b[39m\u001b[39m%s\u001b[39;00m\u001b[39m\"\u001b[39m \u001b[39m%\u001b[39m\n\u001b[1;32m   1240\u001b[0m           \u001b[39mself\u001b[39m\u001b[39m.\u001b[39m\u001b[39m__class__\u001b[39m)\n\u001b[0;32m-> 1241\u001b[0m     \u001b[39mreturn\u001b[39;00m \u001b[39mself\u001b[39;49m\u001b[39m.\u001b[39;49mread(nbytes, buffer)\n\u001b[1;32m   1242\u001b[0m \u001b[39melse\u001b[39;00m:\n\u001b[1;32m   1243\u001b[0m     \u001b[39mreturn\u001b[39;00m \u001b[39msuper\u001b[39m()\u001b[39m.\u001b[39mrecv_into(buffer, nbytes, flags)\n",
      "File \u001b[0;32m~/opt/anaconda3/lib/python3.9/ssl.py:1099\u001b[0m, in \u001b[0;36mSSLSocket.read\u001b[0;34m(self, len, buffer)\u001b[0m\n\u001b[1;32m   1097\u001b[0m \u001b[39mtry\u001b[39;00m:\n\u001b[1;32m   1098\u001b[0m     \u001b[39mif\u001b[39;00m buffer \u001b[39mis\u001b[39;00m \u001b[39mnot\u001b[39;00m \u001b[39mNone\u001b[39;00m:\n\u001b[0;32m-> 1099\u001b[0m         \u001b[39mreturn\u001b[39;00m \u001b[39mself\u001b[39;49m\u001b[39m.\u001b[39;49m_sslobj\u001b[39m.\u001b[39;49mread(\u001b[39mlen\u001b[39;49m, buffer)\n\u001b[1;32m   1100\u001b[0m     \u001b[39melse\u001b[39;00m:\n\u001b[1;32m   1101\u001b[0m         \u001b[39mreturn\u001b[39;00m \u001b[39mself\u001b[39m\u001b[39m.\u001b[39m_sslobj\u001b[39m.\u001b[39mread(\u001b[39mlen\u001b[39m)\n",
      "\u001b[0;31mKeyboardInterrupt\u001b[0m: "
     ]
    }
   ],
   "source": [
    "# should probably make some changes here to get what we want\n",
    "\n",
    "import torchvision.datasets as datasets\n",
    "import torchvision.transforms as transforms\n",
    "\n",
    "#set device\n",
    "device = torch.device('mps')\n",
    "\n",
    "transform = transforms.Compose([\n",
    "    transforms.Resize(224), # change to waht data should be\n",
    "    transforms.CenterCrop(224),\n",
    "    transforms.ToTensor(),\n",
    "    transforms.Normalize(mean=[0.485, 0.456, 0.406], std=[0.229, 0.224, 0.225])\n",
    "])\n",
    "\n",
    "train_dataset = datasets.CIFAR10(root='./data', train=True, download=True, transform=transform)\n",
    "train_loader = torch.utils.data.DataLoader(train_dataset, batch_size=32, shuffle=True)\n",
    "\n",
    "# Train the model\n",
    "num_epochs = 10\n",
    "\n",
    "for epoch in range(num_epochs):\n",
    "    for images, labels in train_loader:\n",
    "        # Move tensors to the configured device\n",
    "        images = images.to(device)\n",
    "        labels = labels.to(device)\n",
    "\n",
    "        # Forward pass\n",
    "        outputs = model(images)\n",
    "        loss = criterion(outputs, labels)\n",
    "\n",
    "        # Backward and optimize\n",
    "        optimizer.zero_grad()\n",
    "        loss.backward()\n",
    "        optimizer.step()\n",
    "\n",
    "        # Print some statistics\n",
    "        if (i+1) % 100 == 0:\n",
    "            print(f'Epoch [{epoch+1}/{num_epochs}], Step [{i+1}/{total_steps}], Loss: {loss.item():.4f}')"
   ]
  },
  {
   "cell_type": "code",
   "execution_count": null,
   "id": "b99bea66",
   "metadata": {},
   "outputs": [],
   "source": []
  }
 ],
 "metadata": {
  "kernelspec": {
   "display_name": "Python 3 (ipykernel)",
   "language": "python",
   "name": "python3"
  },
  "language_info": {
   "codemirror_mode": {
    "name": "ipython",
    "version": 3
   },
   "file_extension": ".py",
   "mimetype": "text/x-python",
   "name": "python",
   "nbconvert_exporter": "python",
   "pygments_lexer": "ipython3",
   "version": "3.9.12"
  }
 },
 "nbformat": 4,
 "nbformat_minor": 5
}
