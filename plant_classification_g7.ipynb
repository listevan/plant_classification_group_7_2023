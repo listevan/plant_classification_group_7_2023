{
 "cells": [
  {
   "cell_type": "code",
   "execution_count": 1,
   "id": "ecbe5652",
   "metadata": {},
   "outputs": [],
   "source": [
    "# import torch and numpy and pretrained model\n",
    "from torchvision import models\n",
    "import torch\n",
    "import numpy as np\n",
    "\n",
    "# load pretrained model\n",
    "pretrained_model = models.resnet50(weights = 'DEFAULT', progress = True)"
   ]
  },
  {
   "cell_type": "code",
   "execution_count": 2,
   "id": "262de170",
   "metadata": {},
   "outputs": [],
   "source": [
    "# changes fully connected/classifier layer to new layer for us to train, 15 is the number of solutions or types of leaves\n",
    "pretrained_model.fc = torch.nn.Linear(2048, 15)"
   ]
  },
  {
   "cell_type": "code",
   "execution_count": 3,
   "id": "09a04fa0",
   "metadata": {},
   "outputs": [],
   "source": [
    "# # Currently not in use, for if we wanna custom build a softmax but idk how to train it\n",
    "# import torch.nn as nn\n",
    "# # build custom softmax module\n",
    "# class Softmax(nn.Module):\n",
    "#     def __init__(self, n_inputs, n_outputs):\n",
    "#         super().__init__()\n",
    "#         self.linear = nn.Linear(n_inputs, n_outputs)\n",
    " \n",
    "#     def forward(self, x):\n",
    "#         pred = self.linear(x)\n",
    "#         return pred"
   ]
  },
  {
   "cell_type": "code",
   "execution_count": 4,
   "id": "a3d631a9",
   "metadata": {},
   "outputs": [],
   "source": [
    "# # Currently not in use\n",
    "# # adds softmax to model\n",
    "# class MyModel(nn.Module):\n",
    "#     def __init__(self, pretrained_model):\n",
    "#         super(MyModel, self).__init__()\n",
    "#         self.pretrained_model = pretrained_model\n",
    "#         self.last_layer = Softmax(1000, n) # add how many nodes as input and output\n",
    "\n",
    "#     def forward(self, x):\n",
    "#         return self.last_layer(self.pretrained_model(x))\n",
    "\n",
    "# model = MyModel(pretrained_model)"
   ]
  },
  {
   "cell_type": "code",
   "execution_count": 5,
   "id": "3c430901",
   "metadata": {},
   "outputs": [],
   "source": [
    "#freeze model except fc layer because we don't wanna retrain the pretrained model\n",
    "for param in pretrained_model.parameters():\n",
    "    param.requires_grad = False\n",
    "\n",
    "for param in pretrained_model.fc.parameters():\n",
    "    param.requires_grad = True"
   ]
  },
  {
   "cell_type": "code",
   "execution_count": 6,
   "id": "a2e32582",
   "metadata": {},
   "outputs": [],
   "source": [
    "criterion = torch.nn.CrossEntropyLoss() #could write this out ourselves\n",
    "# need to find an optimizer or make one for a custom softmax function\n",
    "optimizer = torch.optim.SGD(pretrained_model.fc.parameters(), lr=0.001, momentum=0.9)"
   ]
  },
  {
   "cell_type": "code",
   "execution_count": 7,
   "id": "e3530c8a",
   "metadata": {},
   "outputs": [
    {
     "name": "stdout",
     "output_type": "stream",
     "text": [
      "[[0. 0. 0. ... 0. 0. 0.]\n",
      " [0. 0. 0. ... 0. 0. 0.]\n",
      " [0. 0. 0. ... 0. 0. 0.]\n",
      " ...\n",
      " [0. 0. 0. ... 0. 0. 0.]\n",
      " [0. 0. 0. ... 0. 0. 0.]\n",
      " [0. 0. 0. ... 0. 0. 0.]]\n",
      "['Populus tremula', 'Ulmus glabra', 'Ulmus glabra', 'Populus tremula', 'Populus tremula', 'Ulmus glabra', 'Sorbus aucuparia', 'Salix sinerea', 'Salix sinerea', 'Sorbus aucuparia', 'Salix aurita', 'Acer', 'Acer', 'Salix aurita', 'Ulmus carpinifolia', 'Ulmus carpinifolia', 'Populus', 'Ulmus carpinifolia', 'Tilia', 'Tilia', 'Populus', 'Alnus incan', 'Quercus', 'Betula pubescens', 'Fagus silvatica', 'Sorbus intermedia', \"Salix alba 'Sericea'\", 'Sorbus intermedia', 'Fagus silvatica', 'Betula pubescens', \"Salix alba 'Sericea'\", \"Salix alba 'Sericea'\", 'Betula pubescens', \"Salix alba 'Sericea'\", 'Betula pubescens', 'Betula pubescens', \"Salix alba 'Sericea'\", 'Sorbus intermedia', \"Salix alba 'Sericea'\", 'Fagus silvatica', 'Fagus silvatica', 'Betula pubescens', 'Sorbus intermedia', 'Quercus', 'Alnus incan', 'Tilia', 'Populus', 'Ulmus carpinifolia', 'Populus', 'Tilia', 'Ulmus carpinifolia', 'Ulmus carpinifolia', 'Acer', 'Salix aurita', 'Salix aurita', 'Acer', 'Salix sinerea', 'Sorbus aucuparia', 'Sorbus aucuparia', 'Salix sinerea', 'Populus tremula', 'Ulmus glabra', 'Ulmus glabra', 'Populus tremula', 'Ulmus glabra', 'Populus tremula', 'Ulmus glabra', 'Populus tremula', 'Populus tremula', 'Ulmus glabra', 'Sorbus aucuparia', 'Salix sinerea', 'Acer', 'Salix sinerea', 'Sorbus aucuparia', 'Salix aurita', 'Salix aurita', 'Acer', 'Acer', 'Salix aurita', 'Populus', 'Ulmus carpinifolia', 'Tilia', 'Ulmus carpinifolia', 'Populus', 'Tilia', 'Quercus', 'Alnus incan', 'Alnus incan', 'Quercus', 'Alnus incan', 'Quercus', 'Fagus silvatica', 'Sorbus intermedia', 'Sorbus intermedia', 'Fagus silvatica', 'Betula pubescens', 'Fagus silvatica', \"Salix alba 'Sericea'\", \"Salix alba 'Sericea'\", 'Sorbus intermedia', 'Betula pubescens', 'Sorbus intermedia', \"Salix alba 'Sericea'\", 'Betula pubescens', 'Fagus silvatica', 'Betula pubescens', \"Salix alba 'Sericea'\", 'Sorbus intermedia', 'Fagus silvatica', 'Fagus silvatica', 'Sorbus intermedia', 'Quercus', 'Alnus incan', 'Alnus incan', 'Quercus', 'Quercus', 'Alnus incan', 'Tilia', 'Populus', 'Populus', 'Tilia', 'Tilia', 'Ulmus carpinifolia', 'Ulmus carpinifolia', 'Populus', 'Acer', 'Salix aurita', 'Salix aurita', 'Acer', 'Salix sinerea', 'Salix aurita', 'Sorbus aucuparia', 'Sorbus aucuparia', 'Acer', 'Salix sinerea', 'Populus tremula', 'Ulmus glabra', 'Ulmus glabra', 'Populus tremula', 'Populus tremula', 'Ulmus glabra', 'Ulmus glabra', 'Populus tremula', 'Salix aurita', 'Acer', 'Salix sinerea', 'Sorbus aucuparia', 'Salix aurita', 'Sorbus aucuparia', 'Salix sinerea', 'Acer', 'Tilia', 'Populus', 'Populus', 'Tilia', 'Tilia', 'Ulmus carpinifolia', 'Populus', 'Ulmus carpinifolia', 'Quercus', 'Alnus incan', 'Alnus incan', 'Quercus', 'Quercus', 'Alnus incan', \"Salix alba 'Sericea'\", 'Sorbus intermedia', 'Betula pubescens', 'Betula pubescens', 'Fagus silvatica', \"Salix alba 'Sericea'\", 'Sorbus intermedia', 'Fagus silvatica', 'Fagus silvatica', 'Sorbus intermedia', 'Fagus silvatica', 'Sorbus intermedia', 'Sorbus intermedia', 'Fagus silvatica', 'Fagus silvatica', 'Betula pubescens', \"Salix alba 'Sericea'\", 'Sorbus intermedia', \"Salix alba 'Sericea'\", 'Betula pubescens', 'Quercus', 'Alnus incan', 'Alnus incan', 'Quercus', 'Alnus incan', 'Quercus', 'Ulmus carpinifolia', 'Populus', 'Tilia', 'Ulmus carpinifolia', 'Populus', 'Tilia', 'Tilia', 'Populus', 'Sorbus aucuparia', 'Acer', 'Salix sinerea', 'Salix sinerea', 'Salix aurita', 'Sorbus aucuparia', 'Salix aurita', 'Acer', 'Acer', 'Salix aurita', 'Ulmus glabra', 'Populus tremula', 'Populus tremula', 'Ulmus glabra', 'Ulmus glabra', 'Populus tremula', 'Ulmus glabra', 'Populus tremula', 'Acer', 'Sorbus aucuparia', 'Salix aurita', 'Salix aurita', 'Salix sinerea', 'Acer', 'Salix sinerea', 'Sorbus aucuparia', 'Sorbus aucuparia', 'Salix sinerea', 'Tilia', 'Populus', 'Populus', 'Tilia', 'Ulmus carpinifolia', 'Ulmus carpinifolia', 'Alnus incan', 'Quercus', 'Quercus', 'Alnus incan', \"Salix alba 'Sericea'\", 'Betula pubescens', 'Betula pubescens', \"Salix alba 'Sericea'\", \"Salix alba 'Sericea'\", 'Sorbus intermedia', 'Betula pubescens', 'Fagus silvatica', 'Fagus silvatica', 'Betula pubescens', 'Sorbus intermedia', \"Salix alba 'Sericea'\", 'Betula pubescens', \"Salix alba 'Sericea'\", \"Salix alba 'Sericea'\", 'Betula pubescens', 'Quercus', 'Alnus incan', 'Alnus incan', 'Quercus', 'Ulmus carpinifolia', 'Ulmus carpinifolia', 'Populus', 'Tilia', 'Tilia', 'Populus', 'Sorbus aucuparia', 'Salix sinerea', 'Salix sinerea', 'Sorbus aucuparia', 'Salix aurita', 'Acer', 'Salix sinerea', 'Acer', 'Salix aurita', 'Sorbus aucuparia', 'Populus tremula', 'Ulmus glabra', 'Ulmus glabra', 'Populus tremula', 'Populus tremula', 'Ulmus glabra', 'Populus tremula', 'Ulmus glabra', 'Ulmus glabra', 'Populus tremula', 'Salix sinerea', 'Sorbus aucuparia', 'Salix aurita', 'Sorbus aucuparia', 'Salix sinerea', 'Acer', 'Acer', 'Salix aurita', 'Salix aurita', 'Acer', 'Tilia', 'Ulmus carpinifolia', 'Populus', 'Ulmus carpinifolia', 'Tilia', 'Populus', 'Populus', 'Tilia', 'Quercus', 'Alnus incan', 'Quercus', 'Alnus incan', 'Sorbus intermedia', 'Fagus silvatica', 'Fagus silvatica', 'Sorbus intermedia', \"Salix alba 'Sericea'\", 'Sorbus intermedia', 'Betula pubescens', 'Betula pubescens', 'Fagus silvatica', \"Salix alba 'Sericea'\", 'Fagus silvatica', 'Betula pubescens', \"Salix alba 'Sericea'\", 'Sorbus intermedia', \"Salix alba 'Sericea'\", 'Betula pubescens', 'Fagus silvatica', 'Sorbus intermedia', 'Sorbus intermedia', 'Fagus silvatica', 'Alnus incan', 'Quercus', 'Quercus', 'Alnus incan', 'Alnus incan', 'Quercus', 'Populus', 'Tilia', 'Tilia', 'Populus', 'Ulmus carpinifolia', 'Populus', 'Tilia', 'Ulmus carpinifolia', 'Salix aurita', 'Acer', 'Acer', 'Salix aurita', 'Sorbus aucuparia', 'Acer', 'Salix sinerea', 'Salix sinerea', 'Salix aurita', 'Sorbus aucuparia', 'Ulmus glabra', 'Populus tremula', 'Populus tremula', 'Ulmus glabra', 'Ulmus glabra', 'Populus tremula', 'Populus tremula', 'Ulmus glabra', 'Ulmus glabra', 'Populus tremula', 'Salix sinerea', 'Sorbus aucuparia', 'Sorbus aucuparia', 'Salix sinerea', 'Acer', 'Sorbus aucuparia', 'Salix aurita', 'Salix aurita', 'Salix sinerea', 'Acer', 'Ulmus carpinifolia', 'Ulmus carpinifolia', 'Tilia', 'Populus', 'Ulmus carpinifolia', 'Alnus incan', 'Quercus', 'Quercus', 'Alnus incan', 'Sorbus intermedia', 'Fagus silvatica', 'Fagus silvatica', 'Sorbus intermedia', \"Salix alba 'Sericea'\", 'Betula pubescens', 'Betula pubescens', \"Salix alba 'Sericea'\", 'Betula pubescens', \"Salix alba 'Sericea'\", \"Salix alba 'Sericea'\", 'Betula pubescens', 'Fagus silvatica', 'Sorbus intermedia', 'Sorbus intermedia', 'Fagus silvatica', 'Quercus', 'Alnus incan', 'Alnus incan', 'Quercus', 'Ulmus carpinifolia', 'Populus', 'Tilia', 'Ulmus carpinifolia', 'Ulmus carpinifolia', 'Salix aurita', 'Acer', 'Salix sinerea', 'Acer', 'Salix aurita', 'Sorbus aucuparia', 'Sorbus aucuparia', 'Salix sinerea', 'Salix sinerea', 'Sorbus aucuparia', 'Ulmus glabra', 'Populus tremula', 'Populus tremula', 'Ulmus glabra', 'Populus tremula', 'Ulmus glabra', 'Ulmus glabra', 'Populus tremula', 'Populus tremula', 'Ulmus glabra', 'Populus tremula', 'Ulmus glabra', 'Salix sinerea', 'Acer', 'Sorbus aucuparia', 'Salix aurita', 'Sorbus aucuparia', 'Salix sinerea', 'Salix sinerea', 'Sorbus aucuparia', 'Populus', 'Ulmus carpinifolia', 'Tilia', 'Tilia', 'Populus', 'Ulmus carpinifolia', 'Ulmus carpinifolia', 'Quercus', 'Alnus incan', 'Alnus incan', 'Quercus', 'Betula pubescens', \"Salix alba 'Sericea'\", \"Salix alba 'Sericea'\", 'Betula pubescens', 'Betula pubescens', 'Fagus silvatica', 'Sorbus intermedia', \"Salix alba 'Sericea'\", 'Sorbus intermedia', 'Fagus silvatica', 'Sorbus intermedia', \"Salix alba 'Sericea'\", 'Fagus silvatica', 'Fagus silvatica', 'Betula pubescens', 'Sorbus intermedia', \"Salix alba 'Sericea'\", 'Betula pubescens', 'Betula pubescens', \"Salix alba 'Sericea'\", 'Alnus incan', 'Quercus', 'Quercus', 'Alnus incan', 'Ulmus carpinifolia', 'Ulmus carpinifolia', 'Tilia', 'Populus', 'Ulmus carpinifolia', 'Populus', 'Tilia', 'Salix sinerea', 'Sorbus aucuparia', 'Sorbus aucuparia', 'Salix sinerea', 'Salix aurita', 'Sorbus aucuparia', 'Acer', 'Salix sinerea', 'Ulmus glabra', 'Populus tremula', 'Populus tremula', 'Ulmus glabra', 'Ulmus glabra', 'Populus tremula', 'Populus tremula', 'Ulmus glabra', 'Salix aurita', 'Acer', 'Acer', 'Salix aurita', 'Sorbus aucuparia', 'Salix sinerea', 'Acer', 'Salix sinerea', 'Sorbus aucuparia', 'Salix aurita', 'Populus', 'Tilia', 'Tilia', 'Populus', 'Populus', 'Ulmus carpinifolia', 'Tilia', 'Ulmus carpinifolia', 'Alnus incan', 'Quercus', 'Quercus', 'Alnus incan', 'Alnus incan', 'Quercus', 'Betula pubescens', 'Fagus silvatica', \"Salix alba 'Sericea'\", \"Salix alba 'Sericea'\", 'Sorbus intermedia', 'Betula pubescens', 'Fagus silvatica', 'Sorbus intermedia', 'Sorbus intermedia', 'Fagus silvatica', 'Fagus silvatica', 'Sorbus intermedia', 'Sorbus intermedia', \"Salix alba 'Sericea'\", 'Betula pubescens', 'Fagus silvatica', 'Betula pubescens', \"Salix alba 'Sericea'\", 'Alnus incan', 'Quercus', 'Quercus', 'Alnus incan', 'Quercus', 'Alnus incan', 'Tilia', 'Ulmus carpinifolia', 'Ulmus carpinifolia', 'Populus', 'Tilia', 'Populus', 'Populus', 'Tilia', 'Salix sinerea', 'Salix aurita', 'Sorbus aucuparia', 'Sorbus aucuparia', 'Acer', 'Salix sinerea', 'Acer', 'Salix aurita', 'Salix aurita', 'Acer', 'Ulmus glabra', 'Populus tremula', 'Populus tremula', 'Ulmus glabra', 'Ulmus glabra', 'Populus tremula', 'Salix sinerea', 'Sorbus aucuparia', 'Sorbus aucuparia', 'Salix sinerea', 'Acer', 'Salix aurita', 'Salix aurita', 'Acer', 'Tilia', 'Ulmus carpinifolia', 'Populus', 'Ulmus carpinifolia', 'Tilia', 'Populus', 'Populus', 'Tilia', 'Alnus incan', 'Quercus', 'Quercus', 'Alnus incan', 'Quercus', 'Alnus incan', 'Sorbus intermedia', 'Fagus silvatica', 'Fagus silvatica', 'Sorbus intermedia', \"Salix alba 'Sericea'\", 'Sorbus intermedia', 'Betula pubescens', 'Betula pubescens', 'Fagus silvatica', \"Salix alba 'Sericea'\", 'Fagus silvatica', 'Betula pubescens', \"Salix alba 'Sericea'\", 'Sorbus intermedia', \"Salix alba 'Sericea'\", 'Betula pubescens', 'Fagus silvatica', 'Sorbus intermedia', 'Sorbus intermedia', 'Fagus silvatica', 'Alnus incan', 'Quercus', 'Quercus', 'Alnus incan', 'Alnus incan', 'Quercus', 'Populus', 'Tilia', 'Tilia', 'Populus', 'Ulmus carpinifolia', 'Populus', 'Tilia', 'Ulmus carpinifolia', 'Salix aurita', 'Acer', 'Acer', 'Salix aurita', 'Sorbus aucuparia', 'Salix sinerea', 'Salix sinerea', 'Sorbus aucuparia', 'Ulmus glabra', 'Populus tremula', 'Populus tremula', 'Ulmus glabra', 'Populus tremula', 'Ulmus glabra', 'Ulmus glabra', 'Populus tremula', 'Salix sinerea', 'Sorbus aucuparia', 'Sorbus aucuparia', 'Salix sinerea', 'Acer', 'Sorbus aucuparia', 'Salix aurita', 'Salix aurita', 'Salix sinerea', 'Acer', 'Ulmus carpinifolia', 'Tilia', 'Populus', 'Populus', 'Ulmus carpinifolia', 'Tilia', 'Alnus incan', 'Quercus', 'Quercus', 'Alnus incan', \"Salix alba 'Sericea'\", 'Sorbus intermedia', 'Fagus silvatica', 'Betula pubescens', 'Fagus silvatica', 'Sorbus intermedia', \"Salix alba 'Sericea'\", 'Betula pubescens', 'Betula pubescens', \"Salix alba 'Sericea'\", 'Betula pubescens', \"Salix alba 'Sericea'\", \"Salix alba 'Sericea'\", 'Betula pubescens', 'Fagus silvatica', 'Betula pubescens', 'Sorbus intermedia', 'Sorbus intermedia', \"Salix alba 'Sericea'\", 'Fagus silvatica', 'Quercus', 'Alnus incan', 'Alnus incan', 'Quercus', 'Ulmus carpinifolia', 'Populus', 'Tilia', 'Tilia', 'Populus', 'Ulmus carpinifolia', 'Ulmus carpinifolia', 'Salix aurita', 'Acer', 'Salix sinerea', 'Acer', 'Salix aurita', 'Sorbus aucuparia', 'Sorbus aucuparia', 'Salix sinerea', 'Salix sinerea', 'Sorbus aucuparia', 'Ulmus glabra', 'Populus tremula', 'Populus tremula', 'Ulmus glabra', 'Ulmus glabra', 'Populus tremula', 'Populus tremula', 'Ulmus glabra', 'Populus tremula', 'Ulmus glabra', 'Salix aurita', 'Salix sinerea', 'Acer', 'Acer', 'Sorbus aucuparia', 'Salix aurita', 'Salix sinerea', 'Sorbus aucuparia', 'Populus', 'Ulmus carpinifolia', 'Tilia', 'Tilia', 'Populus', 'Ulmus carpinifolia', 'Ulmus carpinifolia', 'Quercus', 'Alnus incan', 'Alnus incan', 'Quercus', 'Betula pubescens', \"Salix alba 'Sericea'\", \"Salix alba 'Sericea'\", 'Betula pubescens', 'Betula pubescens', 'Fagus silvatica', 'Sorbus intermedia', \"Salix alba 'Sericea'\", 'Sorbus intermedia', 'Fagus silvatica', 'Sorbus intermedia', \"Salix alba 'Sericea'\", 'Fagus silvatica', 'Fagus silvatica', 'Betula pubescens', 'Sorbus intermedia', \"Salix alba 'Sericea'\", 'Betula pubescens', 'Betula pubescens', \"Salix alba 'Sericea'\", 'Alnus incan', 'Quercus', 'Quercus', 'Alnus incan', 'Ulmus carpinifolia', 'Ulmus carpinifolia', 'Tilia', 'Populus', 'Ulmus carpinifolia', 'Populus', 'Tilia', 'Salix sinerea', 'Sorbus aucuparia', 'Sorbus aucuparia', 'Salix sinerea', 'Acer', 'Salix aurita', 'Sorbus aucuparia', 'Salix aurita', 'Acer', 'Salix sinerea', 'Ulmus glabra', 'Populus tremula', 'Populus tremula', 'Ulmus glabra', 'Ulmus glabra', 'Populus tremula', 'Ulmus glabra', 'Populus tremula', 'Populus tremula', 'Ulmus glabra', 'Salix aurita', 'Acer', 'Acer', 'Salix aurita', 'Sorbus aucuparia', 'Salix sinerea', 'Acer', 'Salix sinerea', 'Sorbus aucuparia', 'Salix aurita', 'Populus', 'Tilia', 'Tilia', 'Populus', 'Ulmus carpinifolia', 'Ulmus carpinifolia', 'Alnus incan', 'Quercus', 'Quercus', 'Alnus incan', 'Alnus incan', 'Quercus', 'Betula pubescens', 'Fagus silvatica', \"Salix alba 'Sericea'\", 'Sorbus intermedia', 'Fagus silvatica', 'Sorbus intermedia', 'Sorbus intermedia', 'Fagus silvatica', 'Sorbus intermedia', 'Fagus silvatica', 'Fagus silvatica', 'Sorbus intermedia', 'Sorbus intermedia', \"Salix alba 'Sericea'\", 'Fagus silvatica', 'Betula pubescens', 'Alnus incan', 'Quercus', 'Quercus', 'Alnus incan', 'Quercus', 'Alnus incan', 'Ulmus carpinifolia', 'Ulmus carpinifolia', 'Tilia', 'Populus', 'Populus', 'Tilia', 'Salix sinerea', 'Salix aurita', 'Sorbus aucuparia', 'Sorbus aucuparia', 'Acer', 'Salix sinerea', 'Acer', 'Salix aurita', 'Salix aurita', 'Acer', 'Populus tremula', 'Ulmus glabra', 'Ulmus glabra', 'Populus tremula', 'Populus tremula', 'Ulmus glabra', 'Ulmus glabra', 'Populus tremula', 'Populus tremula', 'Ulmus glabra', 'Sorbus aucuparia', 'Salix sinerea', 'Salix sinerea', 'Sorbus aucuparia', 'Salix aurita', 'Salix sinerea', 'Acer', 'Acer', 'Sorbus aucuparia', 'Salix aurita', 'Ulmus carpinifolia', 'Ulmus carpinifolia', 'Populus', 'Ulmus carpinifolia', 'Tilia', 'Tilia', 'Populus', 'Quercus', 'Alnus incan', 'Alnus incan', 'Quercus', 'Betula pubescens', 'Fagus silvatica', 'Sorbus intermedia', \"Salix alba 'Sericea'\", 'Sorbus intermedia', 'Fagus silvatica', 'Betula pubescens', \"Salix alba 'Sericea'\", \"Salix alba 'Sericea'\", 'Betula pubescens', \"Salix alba 'Sericea'\", 'Betula pubescens', 'Betula pubescens', \"Salix alba 'Sericea'\", 'Sorbus intermedia', \"Salix alba 'Sericea'\", 'Fagus silvatica', 'Fagus silvatica', 'Betula pubescens', 'Sorbus intermedia', 'Alnus incan', 'Quercus', 'Quercus', 'Alnus incan', 'Tilia', 'Populus', 'Ulmus carpinifolia', 'Populus', 'Tilia', 'Ulmus carpinifolia', 'Ulmus carpinifolia', 'Acer', 'Salix aurita', 'Sorbus aucuparia', 'Salix aurita', 'Acer', 'Salix sinerea', 'Salix sinerea', 'Sorbus aucuparia', 'Sorbus aucuparia', 'Salix sinerea', 'Populus tremula', 'Ulmus glabra', 'Ulmus glabra', 'Populus tremula', 'Ulmus glabra', 'Populus tremula', 'Ulmus glabra', 'Populus tremula', 'Populus tremula', 'Ulmus glabra', 'Sorbus aucuparia', 'Salix sinerea', 'Acer', 'Salix sinerea', 'Sorbus aucuparia', 'Salix aurita', 'Salix aurita', 'Acer', 'Acer', 'Salix aurita', 'Populus', 'Ulmus carpinifolia', 'Tilia', 'Populus', 'Tilia', 'Tilia', 'Populus', 'Quercus', 'Alnus incan', 'Alnus incan', 'Quercus', 'Alnus incan', 'Quercus', 'Fagus silvatica', 'Sorbus intermedia', 'Sorbus intermedia', 'Fagus silvatica', 'Betula pubescens', \"Salix alba 'Sericea'\", \"Salix alba 'Sericea'\", 'Betula pubescens', \"Salix alba 'Sericea'\", 'Betula pubescens', 'Betula pubescens', \"Salix alba 'Sericea'\", 'Sorbus intermedia', 'Fagus silvatica', 'Fagus silvatica', 'Sorbus intermedia', 'Quercus', 'Alnus incan', 'Alnus incan', 'Quercus', 'Quercus', 'Alnus incan', 'Tilia', 'Populus', 'Populus', 'Tilia', 'Tilia', 'Ulmus carpinifolia', 'Populus', 'Acer', 'Salix aurita', 'Salix aurita', 'Acer', 'Salix sinerea', 'Salix aurita', 'Sorbus aucuparia', 'Sorbus aucuparia', 'Acer', 'Salix sinerea', 'Populus tremula', 'Ulmus glabra', 'Ulmus glabra', 'Populus tremula', 'Populus tremula', 'Ulmus glabra', 'Ulmus glabra', 'Populus tremula', 'Acer', 'Salix aurita', 'Salix aurita', 'Acer', 'Sorbus aucuparia', 'Salix aurita', 'Salix sinerea', 'Acer', 'Tilia', 'Populus', 'Populus', 'Tilia', 'Tilia', 'Ulmus carpinifolia', 'Populus', 'Ulmus carpinifolia', 'Alnus incan', 'Quercus', 'Quercus', 'Alnus incan', \"Salix alba 'Sericea'\", 'Sorbus intermedia', 'Betula pubescens', 'Betula pubescens', 'Fagus silvatica', \"Salix alba 'Sericea'\", 'Sorbus intermedia', 'Fagus silvatica', 'Fagus silvatica', 'Sorbus intermedia', 'Fagus silvatica', 'Sorbus intermedia', 'Sorbus intermedia', 'Fagus silvatica', 'Fagus silvatica', 'Betula pubescens', \"Salix alba 'Sericea'\", 'Sorbus intermedia', \"Salix alba 'Sericea'\", 'Betula pubescens', 'Quercus', 'Alnus incan', 'Alnus incan', 'Quercus', 'Ulmus carpinifolia', 'Populus', 'Tilia', 'Ulmus carpinifolia', 'Populus', 'Tilia', 'Tilia', 'Populus', 'Acer', 'Salix sinerea', 'Salix aurita', 'Sorbus aucuparia', 'Salix aurita', 'Acer', 'Acer', 'Salix aurita', 'Ulmus glabra', 'Populus tremula', 'Populus tremula', 'Ulmus glabra', 'Populus tremula', 'Ulmus glabra', 'Ulmus glabra', 'Populus tremula', 'Ulmus glabra', 'Populus tremula', 'Acer', 'Sorbus aucuparia', 'Salix aurita', 'Salix aurita', 'Salix sinerea', 'Acer', 'Salix sinerea', 'Sorbus aucuparia', 'Sorbus aucuparia', 'Salix sinerea', 'Tilia', 'Populus', 'Populus', 'Ulmus carpinifolia', 'Tilia', 'Ulmus carpinifolia', 'Ulmus carpinifolia', 'Alnus incan', 'Quercus', 'Quercus', 'Alnus incan', \"Salix alba 'Sericea'\", 'Betula pubescens', \"Salix alba 'Sericea'\", 'Sorbus intermedia', 'Fagus silvatica', 'Betula pubescens', 'Fagus silvatica', 'Sorbus intermedia', 'Fagus silvatica', 'Betula pubescens', 'Sorbus intermedia', 'Sorbus intermedia', \"Salix alba 'Sericea'\", 'Fagus silvatica', 'Betula pubescens', \"Salix alba 'Sericea'\", \"Salix alba 'Sericea'\", 'Betula pubescens', 'Quercus', 'Alnus incan', 'Alnus incan', 'Quercus', 'Ulmus carpinifolia', 'Ulmus carpinifolia', 'Ulmus carpinifolia', 'Populus', 'Tilia', 'Tilia', 'Populus', 'Sorbus aucuparia', 'Salix sinerea', 'Salix sinerea', 'Sorbus aucuparia', 'Salix aurita', 'Acer', 'Salix sinerea', 'Acer', 'Salix aurita', 'Sorbus aucuparia', 'Populus tremula', 'Ulmus glabra', 'Ulmus glabra', 'Populus tremula', 'Populus tremula', 'Ulmus glabra']\n",
      "['/Users/stevenli/SigAida/data/images/l8nr039.tif', '/Users/stevenli/SigAida/data/images/l9nr039.tif', '/Users/stevenli/SigAida/data/images/l9nr011.tif', '/Users/stevenli/SigAida/data/images/l8nr005.tif', '/Users/stevenli/SigAida/data/images/l8nr011.tif', '/Users/stevenli/SigAida/data/images/l9nr005.tif', '/Users/stevenli/SigAida/data/images/l10nr050.tif', '/Users/stevenli/SigAida/data/images/l11nr044.tif', '/Users/stevenli/SigAida/data/images/l11nr050.tif', '/Users/stevenli/SigAida/data/images/l10nr044.tif', '/Users/stevenli/SigAida/data/images/l3nr006.tif', '/Users/stevenli/SigAida/data/images/l2nr012.tif', '/Users/stevenli/SigAida/data/images/l2nr006.tif', '/Users/stevenli/SigAida/data/images/l3nr012.tif', '/Users/stevenli/SigAida/data/images/l1nr055.tif', '/Users/stevenli/SigAida/data/images/l1nr041.tif', '/Users/stevenli/SigAida/data/images/l12nr003.tif', '/Users/stevenli/SigAida/data/images/l1nr069.tif', '/Users/stevenli/SigAida/data/images/l13nr017.tif', '/Users/stevenli/SigAida/data/images/l13nr003.tif', '/Users/stevenli/SigAida/data/images/l12nr017.tif', '/Users/stevenli/SigAida/data/images/l5nr063.tif', '/Users/stevenli/SigAida/data/images/l4nr063.tif', '/Users/stevenli/SigAida/data/images/l6nr018.tif', '/Users/stevenli/SigAida/data/images/l15nr072.tif', '/Users/stevenli/SigAida/data/images/l14nr066.tif', '/Users/stevenli/SigAida/data/images/l7nr018.tif', '/Users/stevenli/SigAida/data/images/l14nr072.tif', '/Users/stevenli/SigAida/data/images/l15nr066.tif', '/Users/stevenli/SigAida/data/images/l6nr024.tif', '/Users/stevenli/SigAida/data/images/l7nr030.tif', '/Users/stevenli/SigAida/data/images/l7nr024.tif', '/Users/stevenli/SigAida/data/images/l6nr030.tif', '/Users/stevenli/SigAida/data/images/l7nr025.tif', '/Users/stevenli/SigAida/data/images/l6nr031.tif', '/Users/stevenli/SigAida/data/images/l6nr025.tif', '/Users/stevenli/SigAida/data/images/l7nr031.tif', '/Users/stevenli/SigAida/data/images/l14nr073.tif', '/Users/stevenli/SigAida/data/images/l7nr019.tif', '/Users/stevenli/SigAida/data/images/l15nr067.tif', '/Users/stevenli/SigAida/data/images/l15nr073.tif', '/Users/stevenli/SigAida/data/images/l6nr019.tif', '/Users/stevenli/SigAida/data/images/l14nr067.tif', '/Users/stevenli/SigAida/data/images/l4nr062.tif', '/Users/stevenli/SigAida/data/images/l5nr062.tif', '/Users/stevenli/SigAida/data/images/l13nr002.tif', '/Users/stevenli/SigAida/data/images/l12nr016.tif', '/Users/stevenli/SigAida/data/images/l1nr068.tif', '/Users/stevenli/SigAida/data/images/l12nr002.tif', '/Users/stevenli/SigAida/data/images/l13nr016.tif', '/Users/stevenli/SigAida/data/images/l1nr040.tif', '/Users/stevenli/SigAida/data/images/l1nr054.tif', '/Users/stevenli/SigAida/data/images/l2nr007.tif', '/Users/stevenli/SigAida/data/images/l3nr013.tif', '/Users/stevenli/SigAida/data/images/l3nr007.tif', '/Users/stevenli/SigAida/data/images/l2nr013.tif', '/Users/stevenli/SigAida/data/images/l11nr051.tif', '/Users/stevenli/SigAida/data/images/l10nr045.tif', '/Users/stevenli/SigAida/data/images/l10nr051.tif', '/Users/stevenli/SigAida/data/images/l11nr045.tif', '/Users/stevenli/SigAida/data/images/l8nr010.tif', '/Users/stevenli/SigAida/data/images/l9nr004.tif', '/Users/stevenli/SigAida/data/images/l9nr010.tif', '/Users/stevenli/SigAida/data/images/l8nr004.tif', '/Users/stevenli/SigAida/data/images/l9nr038.tif', '/Users/stevenli/SigAida/data/images/l8nr038.tif', '/Users/stevenli/SigAida/data/images/l9nr006.tif', '/Users/stevenli/SigAida/data/images/l8nr012.tif', '/Users/stevenli/SigAida/data/images/l8nr006.tif', '/Users/stevenli/SigAida/data/images/l9nr012.tif', '/Users/stevenli/SigAida/data/images/l10nr047.tif', '/Users/stevenli/SigAida/data/images/l11nr053.tif', '/Users/stevenli/SigAida/data/images/l2nr039.tif', '/Users/stevenli/SigAida/data/images/l11nr047.tif', '/Users/stevenli/SigAida/data/images/l10nr053.tif', '/Users/stevenli/SigAida/data/images/l3nr039.tif', '/Users/stevenli/SigAida/data/images/l3nr011.tif', '/Users/stevenli/SigAida/data/images/l2nr005.tif', '/Users/stevenli/SigAida/data/images/l2nr011.tif', '/Users/stevenli/SigAida/data/images/l3nr005.tif', '/Users/stevenli/SigAida/data/images/l12nr028.tif', '/Users/stevenli/SigAida/data/images/l1nr042.tif', '/Users/stevenli/SigAida/data/images/l13nr028.tif', '/Users/stevenli/SigAida/data/images/l1nr056.tif', '/Users/stevenli/SigAida/data/images/l12nr014.tif', '/Users/stevenli/SigAida/data/images/l13nr014.tif', '/Users/stevenli/SigAida/data/images/l4nr060.tif', '/Users/stevenli/SigAida/data/images/l5nr074.tif', '/Users/stevenli/SigAida/data/images/l5nr060.tif', '/Users/stevenli/SigAida/data/images/l4nr074.tif', '/Users/stevenli/SigAida/data/images/l5nr048.tif', '/Users/stevenli/SigAida/data/images/l4nr048.tif', '/Users/stevenli/SigAida/data/images/l15nr065.tif', '/Users/stevenli/SigAida/data/images/l14nr071.tif', '/Users/stevenli/SigAida/data/images/l14nr065.tif', '/Users/stevenli/SigAida/data/images/l15nr071.tif', '/Users/stevenli/SigAida/data/images/l6nr033.tif', '/Users/stevenli/SigAida/data/images/l15nr059.tif', '/Users/stevenli/SigAida/data/images/l7nr027.tif', '/Users/stevenli/SigAida/data/images/l7nr033.tif', '/Users/stevenli/SigAida/data/images/l14nr059.tif', '/Users/stevenli/SigAida/data/images/l6nr027.tif', '/Users/stevenli/SigAida/data/images/l14nr058.tif', '/Users/stevenli/SigAida/data/images/l7nr032.tif', '/Users/stevenli/SigAida/data/images/l6nr026.tif', '/Users/stevenli/SigAida/data/images/l15nr058.tif', '/Users/stevenli/SigAida/data/images/l6nr032.tif', '/Users/stevenli/SigAida/data/images/l7nr026.tif', '/Users/stevenli/SigAida/data/images/l14nr064.tif', '/Users/stevenli/SigAida/data/images/l15nr070.tif', '/Users/stevenli/SigAida/data/images/l15nr064.tif', '/Users/stevenli/SigAida/data/images/l14nr070.tif', '/Users/stevenli/SigAida/data/images/l4nr049.tif', '/Users/stevenli/SigAida/data/images/l5nr049.tif', '/Users/stevenli/SigAida/data/images/l5nr061.tif', '/Users/stevenli/SigAida/data/images/l4nr075.tif', '/Users/stevenli/SigAida/data/images/l4nr061.tif', '/Users/stevenli/SigAida/data/images/l5nr075.tif', '/Users/stevenli/SigAida/data/images/l13nr015.tif', '/Users/stevenli/SigAida/data/images/l12nr001.tif', '/Users/stevenli/SigAida/data/images/l12nr015.tif', '/Users/stevenli/SigAida/data/images/l13nr001.tif', '/Users/stevenli/SigAida/data/images/l13nr029.tif', '/Users/stevenli/SigAida/data/images/l1nr057.tif', '/Users/stevenli/SigAida/data/images/l1nr043.tif', '/Users/stevenli/SigAida/data/images/l12nr029.tif', '/Users/stevenli/SigAida/data/images/l2nr010.tif', '/Users/stevenli/SigAida/data/images/l3nr004.tif', '/Users/stevenli/SigAida/data/images/l3nr010.tif', '/Users/stevenli/SigAida/data/images/l2nr004.tif', '/Users/stevenli/SigAida/data/images/l11nr046.tif', '/Users/stevenli/SigAida/data/images/l3nr038.tif', '/Users/stevenli/SigAida/data/images/l10nr052.tif', '/Users/stevenli/SigAida/data/images/l10nr046.tif', '/Users/stevenli/SigAida/data/images/l2nr038.tif', '/Users/stevenli/SigAida/data/images/l11nr052.tif', '/Users/stevenli/SigAida/data/images/l8nr007.tif', '/Users/stevenli/SigAida/data/images/l9nr013.tif', '/Users/stevenli/SigAida/data/images/l9nr007.tif', '/Users/stevenli/SigAida/data/images/l8nr013.tif', '/Users/stevenli/SigAida/data/images/l8nr017.tif', '/Users/stevenli/SigAida/data/images/l9nr003.tif', '/Users/stevenli/SigAida/data/images/l9nr017.tif', '/Users/stevenli/SigAida/data/images/l8nr003.tif', '/Users/stevenli/SigAida/data/images/l3nr014.tif', '/Users/stevenli/SigAida/data/images/l2nr014.tif', '/Users/stevenli/SigAida/data/images/l11nr056.tif', '/Users/stevenli/SigAida/data/images/l10nr042.tif', '/Users/stevenli/SigAida/data/images/l3nr028.tif', '/Users/stevenli/SigAida/data/images/l10nr056.tif', '/Users/stevenli/SigAida/data/images/l11nr042.tif', '/Users/stevenli/SigAida/data/images/l2nr028.tif', '/Users/stevenli/SigAida/data/images/l13nr005.tif', '/Users/stevenli/SigAida/data/images/l12nr011.tif', '/Users/stevenli/SigAida/data/images/l12nr005.tif', '/Users/stevenli/SigAida/data/images/l13nr011.tif', '/Users/stevenli/SigAida/data/images/l13nr039.tif', '/Users/stevenli/SigAida/data/images/l1nr047.tif', '/Users/stevenli/SigAida/data/images/l12nr039.tif', '/Users/stevenli/SigAida/data/images/l1nr053.tif', '/Users/stevenli/SigAida/data/images/l4nr059.tif', '/Users/stevenli/SigAida/data/images/l5nr059.tif', '/Users/stevenli/SigAida/data/images/l5nr071.tif', '/Users/stevenli/SigAida/data/images/l4nr065.tif', '/Users/stevenli/SigAida/data/images/l4nr071.tif', '/Users/stevenli/SigAida/data/images/l5nr065.tif', '/Users/stevenli/SigAida/data/images/l7nr022.tif', '/Users/stevenli/SigAida/data/images/l14nr048.tif', '/Users/stevenli/SigAida/data/images/l6nr036.tif', '/Users/stevenli/SigAida/data/images/l6nr022.tif', '/Users/stevenli/SigAida/data/images/l15nr048.tif', '/Users/stevenli/SigAida/data/images/l7nr036.tif', '/Users/stevenli/SigAida/data/images/l14nr074.tif', '/Users/stevenli/SigAida/data/images/l15nr060.tif', '/Users/stevenli/SigAida/data/images/l15nr074.tif', '/Users/stevenli/SigAida/data/images/l14nr060.tif', '/Users/stevenli/SigAida/data/images/l15nr075.tif', '/Users/stevenli/SigAida/data/images/l14nr061.tif', '/Users/stevenli/SigAida/data/images/l14nr075.tif', '/Users/stevenli/SigAida/data/images/l15nr061.tif', '/Users/stevenli/SigAida/data/images/l15nr049.tif', '/Users/stevenli/SigAida/data/images/l6nr023.tif', '/Users/stevenli/SigAida/data/images/l7nr037.tif', '/Users/stevenli/SigAida/data/images/l14nr049.tif', '/Users/stevenli/SigAida/data/images/l7nr023.tif', '/Users/stevenli/SigAida/data/images/l6nr037.tif', '/Users/stevenli/SigAida/data/images/l4nr070.tif', '/Users/stevenli/SigAida/data/images/l5nr064.tif', '/Users/stevenli/SigAida/data/images/l5nr070.tif', '/Users/stevenli/SigAida/data/images/l4nr064.tif', '/Users/stevenli/SigAida/data/images/l5nr058.tif', '/Users/stevenli/SigAida/data/images/l4nr058.tif', '/Users/stevenli/SigAida/data/images/l1nr052.tif', '/Users/stevenli/SigAida/data/images/l12nr038.tif', '/Users/stevenli/SigAida/data/images/l13nr038.tif', '/Users/stevenli/SigAida/data/images/l1nr046.tif', '/Users/stevenli/SigAida/data/images/l12nr004.tif', '/Users/stevenli/SigAida/data/images/l13nr010.tif', '/Users/stevenli/SigAida/data/images/l13nr004.tif', '/Users/stevenli/SigAida/data/images/l12nr010.tif', '/Users/stevenli/SigAida/data/images/l10nr057.tif', '/Users/stevenli/SigAida/data/images/l2nr029.tif', '/Users/stevenli/SigAida/data/images/l11nr043.tif', '/Users/stevenli/SigAida/data/images/l11nr057.tif', '/Users/stevenli/SigAida/data/images/l3nr029.tif', '/Users/stevenli/SigAida/data/images/l10nr043.tif', '/Users/stevenli/SigAida/data/images/l3nr001.tif', '/Users/stevenli/SigAida/data/images/l2nr015.tif', '/Users/stevenli/SigAida/data/images/l2nr001.tif', '/Users/stevenli/SigAida/data/images/l3nr015.tif', '/Users/stevenli/SigAida/data/images/l9nr016.tif', '/Users/stevenli/SigAida/data/images/l8nr002.tif', '/Users/stevenli/SigAida/data/images/l8nr016.tif', '/Users/stevenli/SigAida/data/images/l9nr002.tif', '/Users/stevenli/SigAida/data/images/l9nr014.tif', '/Users/stevenli/SigAida/data/images/l8nr014.tif', '/Users/stevenli/SigAida/data/images/l9nr028.tif', '/Users/stevenli/SigAida/data/images/l8nr028.tif', '/Users/stevenli/SigAida/data/images/l2nr017.tif', '/Users/stevenli/SigAida/data/images/l10nr069.tif', '/Users/stevenli/SigAida/data/images/l3nr003.tif', '/Users/stevenli/SigAida/data/images/l3nr017.tif', '/Users/stevenli/SigAida/data/images/l11nr069.tif', '/Users/stevenli/SigAida/data/images/l2nr003.tif', '/Users/stevenli/SigAida/data/images/l11nr041.tif', '/Users/stevenli/SigAida/data/images/l10nr055.tif', '/Users/stevenli/SigAida/data/images/l10nr041.tif', '/Users/stevenli/SigAida/data/images/l11nr055.tif', '/Users/stevenli/SigAida/data/images/l13nr012.tif', '/Users/stevenli/SigAida/data/images/l12nr006.tif', '/Users/stevenli/SigAida/data/images/l12nr012.tif', '/Users/stevenli/SigAida/data/images/l13nr006.tif', '/Users/stevenli/SigAida/data/images/l1nr050.tif', '/Users/stevenli/SigAida/data/images/l1nr044.tif', '/Users/stevenli/SigAida/data/images/l5nr066.tif', '/Users/stevenli/SigAida/data/images/l4nr072.tif', '/Users/stevenli/SigAida/data/images/l4nr066.tif', '/Users/stevenli/SigAida/data/images/l5nr072.tif', '/Users/stevenli/SigAida/data/images/l7nr035.tif', '/Users/stevenli/SigAida/data/images/l6nr021.tif', '/Users/stevenli/SigAida/data/images/l6nr035.tif', '/Users/stevenli/SigAida/data/images/l7nr021.tif', '/Users/stevenli/SigAida/data/images/l7nr009.tif', '/Users/stevenli/SigAida/data/images/l14nr063.tif', '/Users/stevenli/SigAida/data/images/l6nr009.tif', '/Users/stevenli/SigAida/data/images/l15nr063.tif', '/Users/stevenli/SigAida/data/images/l15nr062.tif', '/Users/stevenli/SigAida/data/images/l6nr008.tif', '/Users/stevenli/SigAida/data/images/l14nr062.tif', '/Users/stevenli/SigAida/data/images/l7nr008.tif', '/Users/stevenli/SigAida/data/images/l6nr034.tif', '/Users/stevenli/SigAida/data/images/l7nr020.tif', '/Users/stevenli/SigAida/data/images/l7nr034.tif', '/Users/stevenli/SigAida/data/images/l6nr020.tif', '/Users/stevenli/SigAida/data/images/l4nr067.tif', '/Users/stevenli/SigAida/data/images/l5nr073.tif', '/Users/stevenli/SigAida/data/images/l5nr067.tif', '/Users/stevenli/SigAida/data/images/l4nr073.tif', '/Users/stevenli/SigAida/data/images/l1nr045.tif', '/Users/stevenli/SigAida/data/images/l1nr051.tif', '/Users/stevenli/SigAida/data/images/l12nr013.tif', '/Users/stevenli/SigAida/data/images/l13nr007.tif', '/Users/stevenli/SigAida/data/images/l13nr013.tif', '/Users/stevenli/SigAida/data/images/l12nr007.tif', '/Users/stevenli/SigAida/data/images/l10nr040.tif', '/Users/stevenli/SigAida/data/images/l11nr054.tif', '/Users/stevenli/SigAida/data/images/l11nr040.tif', '/Users/stevenli/SigAida/data/images/l10nr054.tif', '/Users/stevenli/SigAida/data/images/l3nr016.tif', '/Users/stevenli/SigAida/data/images/l2nr002.tif', '/Users/stevenli/SigAida/data/images/l11nr068.tif', '/Users/stevenli/SigAida/data/images/l2nr016.tif', '/Users/stevenli/SigAida/data/images/l3nr002.tif', '/Users/stevenli/SigAida/data/images/l10nr068.tif', '/Users/stevenli/SigAida/data/images/l8nr029.tif', '/Users/stevenli/SigAida/data/images/l9nr029.tif', '/Users/stevenli/SigAida/data/images/l9nr001.tif', '/Users/stevenli/SigAida/data/images/l8nr015.tif', '/Users/stevenli/SigAida/data/images/l8nr001.tif', '/Users/stevenli/SigAida/data/images/l9nr015.tif', '/Users/stevenli/SigAida/data/images/l8nr066.tif', '/Users/stevenli/SigAida/data/images/l9nr072.tif', '/Users/stevenli/SigAida/data/images/l9nr066.tif', '/Users/stevenli/SigAida/data/images/l8nr072.tif', '/Users/stevenli/SigAida/data/images/l11nr027.tif', '/Users/stevenli/SigAida/data/images/l10nr033.tif', '/Users/stevenli/SigAida/data/images/l3nr059.tif', '/Users/stevenli/SigAida/data/images/l10nr027.tif', '/Users/stevenli/SigAida/data/images/l11nr033.tif', '/Users/stevenli/SigAida/data/images/l2nr059.tif', '/Users/stevenli/SigAida/data/images/l2nr071.tif', '/Users/stevenli/SigAida/data/images/l3nr065.tif', '/Users/stevenli/SigAida/data/images/l3nr071.tif', '/Users/stevenli/SigAida/data/images/l2nr065.tif', '/Users/stevenli/SigAida/data/images/l13nr048.tif', '/Users/stevenli/SigAida/data/images/l1nr036.tif', '/Users/stevenli/SigAida/data/images/l12nr048.tif', '/Users/stevenli/SigAida/data/images/l1nr022.tif', '/Users/stevenli/SigAida/data/images/l13nr074.tif', '/Users/stevenli/SigAida/data/images/l12nr060.tif', '/Users/stevenli/SigAida/data/images/l12nr074.tif', '/Users/stevenli/SigAida/data/images/l13nr060.tif', '/Users/stevenli/SigAida/data/images/l4nr014.tif', '/Users/stevenli/SigAida/data/images/l5nr014.tif', '/Users/stevenli/SigAida/data/images/l4nr028.tif', '/Users/stevenli/SigAida/data/images/l5nr028.tif', '/Users/stevenli/SigAida/data/images/l14nr005.tif', '/Users/stevenli/SigAida/data/images/l15nr011.tif', '/Users/stevenli/SigAida/data/images/l15nr005.tif', '/Users/stevenli/SigAida/data/images/l14nr011.tif', '/Users/stevenli/SigAida/data/images/l7nr053.tif', '/Users/stevenli/SigAida/data/images/l14nr039.tif', '/Users/stevenli/SigAida/data/images/l6nr047.tif', '/Users/stevenli/SigAida/data/images/l6nr053.tif', '/Users/stevenli/SigAida/data/images/l15nr039.tif', '/Users/stevenli/SigAida/data/images/l7nr047.tif', '/Users/stevenli/SigAida/data/images/l15nr038.tif', '/Users/stevenli/SigAida/data/images/l6nr052.tif', '/Users/stevenli/SigAida/data/images/l7nr046.tif', '/Users/stevenli/SigAida/data/images/l14nr038.tif', '/Users/stevenli/SigAida/data/images/l7nr052.tif', '/Users/stevenli/SigAida/data/images/l6nr046.tif', '/Users/stevenli/SigAida/data/images/l15nr004.tif', '/Users/stevenli/SigAida/data/images/l14nr010.tif', '/Users/stevenli/SigAida/data/images/l14nr004.tif', '/Users/stevenli/SigAida/data/images/l15nr010.tif', '/Users/stevenli/SigAida/data/images/l5nr029.tif', '/Users/stevenli/SigAida/data/images/l4nr029.tif', '/Users/stevenli/SigAida/data/images/l4nr001.tif', '/Users/stevenli/SigAida/data/images/l5nr015.tif', '/Users/stevenli/SigAida/data/images/l5nr001.tif', '/Users/stevenli/SigAida/data/images/l4nr015.tif', '/Users/stevenli/SigAida/data/images/l12nr075.tif', '/Users/stevenli/SigAida/data/images/l13nr061.tif', '/Users/stevenli/SigAida/data/images/l13nr075.tif', '/Users/stevenli/SigAida/data/images/l12nr061.tif', '/Users/stevenli/SigAida/data/images/l1nr023.tif', '/Users/stevenli/SigAida/data/images/l12nr049.tif', '/Users/stevenli/SigAida/data/images/l13nr049.tif', '/Users/stevenli/SigAida/data/images/l1nr037.tif', '/Users/stevenli/SigAida/data/images/l3nr070.tif', '/Users/stevenli/SigAida/data/images/l2nr064.tif', '/Users/stevenli/SigAida/data/images/l2nr070.tif', '/Users/stevenli/SigAida/data/images/l3nr064.tif', '/Users/stevenli/SigAida/data/images/l10nr026.tif', '/Users/stevenli/SigAida/data/images/l2nr058.tif', '/Users/stevenli/SigAida/data/images/l11nr032.tif', '/Users/stevenli/SigAida/data/images/l11nr026.tif', '/Users/stevenli/SigAida/data/images/l3nr058.tif', '/Users/stevenli/SigAida/data/images/l10nr032.tif', '/Users/stevenli/SigAida/data/images/l9nr067.tif', '/Users/stevenli/SigAida/data/images/l8nr073.tif', '/Users/stevenli/SigAida/data/images/l8nr067.tif', '/Users/stevenli/SigAida/data/images/l9nr073.tif', '/Users/stevenli/SigAida/data/images/l9nr059.tif', '/Users/stevenli/SigAida/data/images/l8nr059.tif', '/Users/stevenli/SigAida/data/images/l8nr071.tif', '/Users/stevenli/SigAida/data/images/l9nr065.tif', '/Users/stevenli/SigAida/data/images/l9nr071.tif', '/Users/stevenli/SigAida/data/images/l8nr065.tif', '/Users/stevenli/SigAida/data/images/l11nr030.tif', '/Users/stevenli/SigAida/data/images/l10nr024.tif', '/Users/stevenli/SigAida/data/images/l10nr030.tif', '/Users/stevenli/SigAida/data/images/l11nr024.tif', '/Users/stevenli/SigAida/data/images/l2nr066.tif', '/Users/stevenli/SigAida/data/images/l10nr018.tif', '/Users/stevenli/SigAida/data/images/l3nr072.tif', '/Users/stevenli/SigAida/data/images/l3nr066.tif', '/Users/stevenli/SigAida/data/images/l11nr018.tif', '/Users/stevenli/SigAida/data/images/l2nr072.tif', '/Users/stevenli/SigAida/data/images/l1nr021.tif', '/Users/stevenli/SigAida/data/images/l1nr035.tif', '/Users/stevenli/SigAida/data/images/l13nr063.tif', '/Users/stevenli/SigAida/data/images/l12nr063.tif', '/Users/stevenli/SigAida/data/images/l1nr009.tif', '/Users/stevenli/SigAida/data/images/l5nr017.tif', '/Users/stevenli/SigAida/data/images/l4nr003.tif', '/Users/stevenli/SigAida/data/images/l4nr017.tif', '/Users/stevenli/SigAida/data/images/l5nr003.tif', '/Users/stevenli/SigAida/data/images/l14nr012.tif', '/Users/stevenli/SigAida/data/images/l15nr006.tif', '/Users/stevenli/SigAida/data/images/l15nr012.tif', '/Users/stevenli/SigAida/data/images/l14nr006.tif', '/Users/stevenli/SigAida/data/images/l7nr044.tif', '/Users/stevenli/SigAida/data/images/l6nr050.tif', '/Users/stevenli/SigAida/data/images/l6nr044.tif', '/Users/stevenli/SigAida/data/images/l7nr050.tif', '/Users/stevenli/SigAida/data/images/l6nr045.tif', '/Users/stevenli/SigAida/data/images/l7nr051.tif', '/Users/stevenli/SigAida/data/images/l7nr045.tif', '/Users/stevenli/SigAida/data/images/l6nr051.tif', '/Users/stevenli/SigAida/data/images/l15nr013.tif', '/Users/stevenli/SigAida/data/images/l14nr007.tif', '/Users/stevenli/SigAida/data/images/l14nr013.tif', '/Users/stevenli/SigAida/data/images/l15nr007.tif', '/Users/stevenli/SigAida/data/images/l4nr016.tif', '/Users/stevenli/SigAida/data/images/l5nr002.tif', '/Users/stevenli/SigAida/data/images/l5nr016.tif', '/Users/stevenli/SigAida/data/images/l4nr002.tif', '/Users/stevenli/SigAida/data/images/l1nr008.tif', '/Users/stevenli/SigAida/data/images/l12nr062.tif', '/Users/stevenli/SigAida/data/images/l13nr062.tif', '/Users/stevenli/SigAida/data/images/l1nr034.tif', '/Users/stevenli/SigAida/data/images/l1nr020.tif', '/Users/stevenli/SigAida/data/images/l3nr067.tif', '/Users/stevenli/SigAida/data/images/l2nr073.tif', '/Users/stevenli/SigAida/data/images/l11nr019.tif', '/Users/stevenli/SigAida/data/images/l2nr067.tif', '/Users/stevenli/SigAida/data/images/l3nr073.tif', '/Users/stevenli/SigAida/data/images/l10nr019.tif', '/Users/stevenli/SigAida/data/images/l10nr031.tif', '/Users/stevenli/SigAida/data/images/l11nr025.tif', '/Users/stevenli/SigAida/data/images/l11nr031.tif', '/Users/stevenli/SigAida/data/images/l10nr025.tif', '/Users/stevenli/SigAida/data/images/l9nr070.tif', '/Users/stevenli/SigAida/data/images/l8nr064.tif', '/Users/stevenli/SigAida/data/images/l8nr070.tif', '/Users/stevenli/SigAida/data/images/l9nr064.tif', '/Users/stevenli/SigAida/data/images/l8nr058.tif', '/Users/stevenli/SigAida/data/images/l9nr058.tif', '/Users/stevenli/SigAida/data/images/l9nr060.tif', '/Users/stevenli/SigAida/data/images/l8nr074.tif', '/Users/stevenli/SigAida/data/images/l8nr060.tif', '/Users/stevenli/SigAida/data/images/l9nr074.tif', '/Users/stevenli/SigAida/data/images/l8nr048.tif', '/Users/stevenli/SigAida/data/images/l9nr048.tif', '/Users/stevenli/SigAida/data/images/l11nr009.tif', '/Users/stevenli/SigAida/data/images/l2nr063.tif', '/Users/stevenli/SigAida/data/images/l10nr009.tif', '/Users/stevenli/SigAida/data/images/l3nr063.tif', '/Users/stevenli/SigAida/data/images/l10nr021.tif', '/Users/stevenli/SigAida/data/images/l11nr035.tif', '/Users/stevenli/SigAida/data/images/l11nr021.tif', '/Users/stevenli/SigAida/data/images/l10nr035.tif', '/Users/stevenli/SigAida/data/images/l12nr072.tif', '/Users/stevenli/SigAida/data/images/l1nr018.tif', '/Users/stevenli/SigAida/data/images/l13nr066.tif', '/Users/stevenli/SigAida/data/images/l13nr072.tif', '/Users/stevenli/SigAida/data/images/l12nr066.tif', '/Users/stevenli/SigAida/data/images/l1nr024.tif', '/Users/stevenli/SigAida/data/images/l1nr030.tif', '/Users/stevenli/SigAida/data/images/l4nr006.tif', '/Users/stevenli/SigAida/data/images/l5nr012.tif', '/Users/stevenli/SigAida/data/images/l5nr006.tif', '/Users/stevenli/SigAida/data/images/l4nr012.tif', '/Users/stevenli/SigAida/data/images/l6nr055.tif', '/Users/stevenli/SigAida/data/images/l7nr041.tif', '/Users/stevenli/SigAida/data/images/l7nr055.tif', '/Users/stevenli/SigAida/data/images/l6nr041.tif', '/Users/stevenli/SigAida/data/images/l6nr069.tif', '/Users/stevenli/SigAida/data/images/l15nr003.tif', '/Users/stevenli/SigAida/data/images/l14nr017.tif', '/Users/stevenli/SigAida/data/images/l7nr069.tif', '/Users/stevenli/SigAida/data/images/l14nr003.tif', '/Users/stevenli/SigAida/data/images/l15nr017.tif', '/Users/stevenli/SigAida/data/images/l14nr002.tif', '/Users/stevenli/SigAida/data/images/l7nr068.tif', '/Users/stevenli/SigAida/data/images/l15nr016.tif', '/Users/stevenli/SigAida/data/images/l15nr002.tif', '/Users/stevenli/SigAida/data/images/l6nr068.tif', '/Users/stevenli/SigAida/data/images/l14nr016.tif', '/Users/stevenli/SigAida/data/images/l7nr054.tif', '/Users/stevenli/SigAida/data/images/l6nr040.tif', '/Users/stevenli/SigAida/data/images/l6nr054.tif', '/Users/stevenli/SigAida/data/images/l7nr040.tif', '/Users/stevenli/SigAida/data/images/l5nr007.tif', '/Users/stevenli/SigAida/data/images/l4nr013.tif', '/Users/stevenli/SigAida/data/images/l4nr007.tif', '/Users/stevenli/SigAida/data/images/l5nr013.tif', '/Users/stevenli/SigAida/data/images/l1nr031.tif', '/Users/stevenli/SigAida/data/images/l1nr025.tif', '/Users/stevenli/SigAida/data/images/l13nr073.tif', '/Users/stevenli/SigAida/data/images/l12nr067.tif', '/Users/stevenli/SigAida/data/images/l1nr019.tif', '/Users/stevenli/SigAida/data/images/l12nr073.tif', '/Users/stevenli/SigAida/data/images/l13nr067.tif', '/Users/stevenli/SigAida/data/images/l11nr020.tif', '/Users/stevenli/SigAida/data/images/l10nr034.tif', '/Users/stevenli/SigAida/data/images/l10nr020.tif', '/Users/stevenli/SigAida/data/images/l11nr034.tif', '/Users/stevenli/SigAida/data/images/l3nr062.tif', '/Users/stevenli/SigAida/data/images/l10nr008.tif', '/Users/stevenli/SigAida/data/images/l2nr062.tif', '/Users/stevenli/SigAida/data/images/l11nr008.tif', '/Users/stevenli/SigAida/data/images/l9nr049.tif', '/Users/stevenli/SigAida/data/images/l8nr049.tif', '/Users/stevenli/SigAida/data/images/l8nr061.tif', '/Users/stevenli/SigAida/data/images/l9nr075.tif', '/Users/stevenli/SigAida/data/images/l9nr061.tif', '/Users/stevenli/SigAida/data/images/l8nr075.tif', '/Users/stevenli/SigAida/data/images/l8nr063.tif', '/Users/stevenli/SigAida/data/images/l9nr063.tif', '/Users/stevenli/SigAida/data/images/l3nr060.tif', '/Users/stevenli/SigAida/data/images/l2nr074.tif', '/Users/stevenli/SigAida/data/images/l2nr060.tif', '/Users/stevenli/SigAida/data/images/l3nr074.tif', '/Users/stevenli/SigAida/data/images/l10nr036.tif', '/Users/stevenli/SigAida/data/images/l11nr022.tif', '/Users/stevenli/SigAida/data/images/l2nr048.tif', '/Users/stevenli/SigAida/data/images/l11nr036.tif', '/Users/stevenli/SigAida/data/images/l10nr022.tif', '/Users/stevenli/SigAida/data/images/l3nr048.tif', '/Users/stevenli/SigAida/data/images/l12nr065.tif', '/Users/stevenli/SigAida/data/images/l13nr071.tif', '/Users/stevenli/SigAida/data/images/l13nr065.tif', '/Users/stevenli/SigAida/data/images/l12nr071.tif', '/Users/stevenli/SigAida/data/images/l12nr059.tif', '/Users/stevenli/SigAida/data/images/l1nr033.tif', '/Users/stevenli/SigAida/data/images/l13nr059.tif', '/Users/stevenli/SigAida/data/images/l1nr027.tif', '/Users/stevenli/SigAida/data/images/l5nr039.tif', '/Users/stevenli/SigAida/data/images/l4nr039.tif', '/Users/stevenli/SigAida/data/images/l4nr011.tif', '/Users/stevenli/SigAida/data/images/l5nr005.tif', '/Users/stevenli/SigAida/data/images/l5nr011.tif', '/Users/stevenli/SigAida/data/images/l4nr005.tif', '/Users/stevenli/SigAida/data/images/l6nr042.tif', '/Users/stevenli/SigAida/data/images/l15nr028.tif', '/Users/stevenli/SigAida/data/images/l7nr056.tif', '/Users/stevenli/SigAida/data/images/l7nr042.tif', '/Users/stevenli/SigAida/data/images/l14nr028.tif', '/Users/stevenli/SigAida/data/images/l6nr056.tif', '/Users/stevenli/SigAida/data/images/l15nr014.tif', '/Users/stevenli/SigAida/data/images/l14nr014.tif', '/Users/stevenli/SigAida/data/images/l14nr015.tif', '/Users/stevenli/SigAida/data/images/l15nr001.tif', '/Users/stevenli/SigAida/data/images/l15nr015.tif', '/Users/stevenli/SigAida/data/images/l14nr001.tif', '/Users/stevenli/SigAida/data/images/l14nr029.tif', '/Users/stevenli/SigAida/data/images/l7nr043.tif', '/Users/stevenli/SigAida/data/images/l6nr057.tif', '/Users/stevenli/SigAida/data/images/l15nr029.tif', '/Users/stevenli/SigAida/data/images/l6nr043.tif', '/Users/stevenli/SigAida/data/images/l7nr057.tif', '/Users/stevenli/SigAida/data/images/l5nr010.tif', '/Users/stevenli/SigAida/data/images/l4nr004.tif', '/Users/stevenli/SigAida/data/images/l4nr010.tif', '/Users/stevenli/SigAida/data/images/l5nr004.tif', '/Users/stevenli/SigAida/data/images/l4nr038.tif', '/Users/stevenli/SigAida/data/images/l5nr038.tif', '/Users/stevenli/SigAida/data/images/l13nr058.tif', '/Users/stevenli/SigAida/data/images/l1nr026.tif', '/Users/stevenli/SigAida/data/images/l1nr032.tif', '/Users/stevenli/SigAida/data/images/l12nr058.tif', '/Users/stevenli/SigAida/data/images/l13nr064.tif', '/Users/stevenli/SigAida/data/images/l12nr070.tif', '/Users/stevenli/SigAida/data/images/l12nr064.tif', '/Users/stevenli/SigAida/data/images/l13nr070.tif', '/Users/stevenli/SigAida/data/images/l11nr037.tif', '/Users/stevenli/SigAida/data/images/l3nr049.tif', '/Users/stevenli/SigAida/data/images/l10nr023.tif', '/Users/stevenli/SigAida/data/images/l10nr037.tif', '/Users/stevenli/SigAida/data/images/l2nr049.tif', '/Users/stevenli/SigAida/data/images/l11nr023.tif', '/Users/stevenli/SigAida/data/images/l2nr061.tif', '/Users/stevenli/SigAida/data/images/l3nr075.tif', '/Users/stevenli/SigAida/data/images/l3nr061.tif', '/Users/stevenli/SigAida/data/images/l2nr075.tif', '/Users/stevenli/SigAida/data/images/l9nr062.tif', '/Users/stevenli/SigAida/data/images/l8nr062.tif', '/Users/stevenli/SigAida/data/images/l8nr047.tif', '/Users/stevenli/SigAida/data/images/l9nr053.tif', '/Users/stevenli/SigAida/data/images/l9nr047.tif', '/Users/stevenli/SigAida/data/images/l8nr053.tif', '/Users/stevenli/SigAida/data/images/l11nr006.tif', '/Users/stevenli/SigAida/data/images/l10nr012.tif', '/Users/stevenli/SigAida/data/images/l10nr006.tif', '/Users/stevenli/SigAida/data/images/l11nr012.tif', '/Users/stevenli/SigAida/data/images/l2nr050.tif', '/Users/stevenli/SigAida/data/images/l3nr044.tif', '/Users/stevenli/SigAida/data/images/l3nr050.tif', '/Users/stevenli/SigAida/data/images/l2nr044.tif', '/Users/stevenli/SigAida/data/images/l13nr069.tif', '/Users/stevenli/SigAida/data/images/l1nr017.tif', '/Users/stevenli/SigAida/data/images/l12nr069.tif', '/Users/stevenli/SigAida/data/images/l1nr003.tif', '/Users/stevenli/SigAida/data/images/l13nr055.tif', '/Users/stevenli/SigAida/data/images/l12nr041.tif', '/Users/stevenli/SigAida/data/images/l12nr055.tif', '/Users/stevenli/SigAida/data/images/l13nr041.tif', '/Users/stevenli/SigAida/data/images/l5nr021.tif', '/Users/stevenli/SigAida/data/images/l4nr035.tif', '/Users/stevenli/SigAida/data/images/l4nr021.tif', '/Users/stevenli/SigAida/data/images/l5nr035.tif', '/Users/stevenli/SigAida/data/images/l4nr009.tif', '/Users/stevenli/SigAida/data/images/l5nr009.tif', '/Users/stevenli/SigAida/data/images/l14nr024.tif', '/Users/stevenli/SigAida/data/images/l15nr030.tif', '/Users/stevenli/SigAida/data/images/l15nr024.tif', '/Users/stevenli/SigAida/data/images/l14nr030.tif', '/Users/stevenli/SigAida/data/images/l7nr072.tif', '/Users/stevenli/SigAida/data/images/l14nr018.tif', '/Users/stevenli/SigAida/data/images/l6nr066.tif', '/Users/stevenli/SigAida/data/images/l6nr072.tif', '/Users/stevenli/SigAida/data/images/l15nr018.tif', '/Users/stevenli/SigAida/data/images/l7nr066.tif', '/Users/stevenli/SigAida/data/images/l15nr019.tif', '/Users/stevenli/SigAida/data/images/l6nr073.tif', '/Users/stevenli/SigAida/data/images/l7nr067.tif', '/Users/stevenli/SigAida/data/images/l14nr019.tif', '/Users/stevenli/SigAida/data/images/l7nr073.tif', '/Users/stevenli/SigAida/data/images/l6nr067.tif', '/Users/stevenli/SigAida/data/images/l15nr025.tif', '/Users/stevenli/SigAida/data/images/l14nr031.tif', '/Users/stevenli/SigAida/data/images/l14nr025.tif', '/Users/stevenli/SigAida/data/images/l15nr031.tif', '/Users/stevenli/SigAida/data/images/l5nr008.tif', '/Users/stevenli/SigAida/data/images/l4nr008.tif', '/Users/stevenli/SigAida/data/images/l4nr020.tif', '/Users/stevenli/SigAida/data/images/l5nr034.tif', '/Users/stevenli/SigAida/data/images/l5nr020.tif', '/Users/stevenli/SigAida/data/images/l4nr034.tif', '/Users/stevenli/SigAida/data/images/l12nr054.tif', '/Users/stevenli/SigAida/data/images/l13nr040.tif', '/Users/stevenli/SigAida/data/images/l13nr054.tif', '/Users/stevenli/SigAida/data/images/l12nr040.tif', '/Users/stevenli/SigAida/data/images/l1nr002.tif', '/Users/stevenli/SigAida/data/images/l12nr068.tif', '/Users/stevenli/SigAida/data/images/l13nr068.tif', '/Users/stevenli/SigAida/data/images/l1nr016.tif', '/Users/stevenli/SigAida/data/images/l3nr051.tif', '/Users/stevenli/SigAida/data/images/l2nr045.tif', '/Users/stevenli/SigAida/data/images/l2nr051.tif', '/Users/stevenli/SigAida/data/images/l3nr045.tif', '/Users/stevenli/SigAida/data/images/l10nr007.tif', '/Users/stevenli/SigAida/data/images/l11nr013.tif', '/Users/stevenli/SigAida/data/images/l11nr007.tif', '/Users/stevenli/SigAida/data/images/l10nr013.tif', '/Users/stevenli/SigAida/data/images/l9nr046.tif', '/Users/stevenli/SigAida/data/images/l8nr052.tif', '/Users/stevenli/SigAida/data/images/l8nr046.tif', '/Users/stevenli/SigAida/data/images/l9nr052.tif', '/Users/stevenli/SigAida/data/images/l8nr050.tif', '/Users/stevenli/SigAida/data/images/l9nr044.tif', '/Users/stevenli/SigAida/data/images/l9nr050.tif', '/Users/stevenli/SigAida/data/images/l8nr044.tif', '/Users/stevenli/SigAida/data/images/l11nr011.tif', '/Users/stevenli/SigAida/data/images/l10nr005.tif', '/Users/stevenli/SigAida/data/images/l10nr011.tif', '/Users/stevenli/SigAida/data/images/l11nr005.tif', '/Users/stevenli/SigAida/data/images/l2nr047.tif', '/Users/stevenli/SigAida/data/images/l10nr039.tif', '/Users/stevenli/SigAida/data/images/l3nr053.tif', '/Users/stevenli/SigAida/data/images/l3nr047.tif', '/Users/stevenli/SigAida/data/images/l11nr039.tif', '/Users/stevenli/SigAida/data/images/l2nr053.tif', '/Users/stevenli/SigAida/data/images/l1nr014.tif', '/Users/stevenli/SigAida/data/images/l13nr042.tif', '/Users/stevenli/SigAida/data/images/l12nr056.tif', '/Users/stevenli/SigAida/data/images/l12nr042.tif', '/Users/stevenli/SigAida/data/images/l1nr028.tif', '/Users/stevenli/SigAida/data/images/l13nr056.tif', '/Users/stevenli/SigAida/data/images/l5nr036.tif', '/Users/stevenli/SigAida/data/images/l4nr022.tif', '/Users/stevenli/SigAida/data/images/l4nr036.tif', '/Users/stevenli/SigAida/data/images/l5nr022.tif', '/Users/stevenli/SigAida/data/images/l7nr059.tif', '/Users/stevenli/SigAida/data/images/l14nr033.tif', '/Users/stevenli/SigAida/data/images/l15nr027.tif', '/Users/stevenli/SigAida/data/images/l6nr059.tif', '/Users/stevenli/SigAida/data/images/l15nr033.tif', '/Users/stevenli/SigAida/data/images/l14nr027.tif', '/Users/stevenli/SigAida/data/images/l7nr065.tif', '/Users/stevenli/SigAida/data/images/l6nr071.tif', '/Users/stevenli/SigAida/data/images/l6nr065.tif', '/Users/stevenli/SigAida/data/images/l7nr071.tif', '/Users/stevenli/SigAida/data/images/l6nr064.tif', '/Users/stevenli/SigAida/data/images/l7nr070.tif', '/Users/stevenli/SigAida/data/images/l7nr064.tif', '/Users/stevenli/SigAida/data/images/l6nr070.tif', '/Users/stevenli/SigAida/data/images/l15nr032.tif', '/Users/stevenli/SigAida/data/images/l6nr058.tif', '/Users/stevenli/SigAida/data/images/l14nr026.tif', '/Users/stevenli/SigAida/data/images/l14nr032.tif', '/Users/stevenli/SigAida/data/images/l7nr058.tif', '/Users/stevenli/SigAida/data/images/l15nr026.tif', '/Users/stevenli/SigAida/data/images/l4nr037.tif', '/Users/stevenli/SigAida/data/images/l5nr023.tif', '/Users/stevenli/SigAida/data/images/l5nr037.tif', '/Users/stevenli/SigAida/data/images/l4nr023.tif', '/Users/stevenli/SigAida/data/images/l1nr029.tif', '/Users/stevenli/SigAida/data/images/l12nr043.tif', '/Users/stevenli/SigAida/data/images/l13nr057.tif', '/Users/stevenli/SigAida/data/images/l13nr043.tif', '/Users/stevenli/SigAida/data/images/l12nr057.tif', '/Users/stevenli/SigAida/data/images/l1nr015.tif', '/Users/stevenli/SigAida/data/images/l1nr001.tif', '/Users/stevenli/SigAida/data/images/l3nr046.tif', '/Users/stevenli/SigAida/data/images/l2nr052.tif', '/Users/stevenli/SigAida/data/images/l11nr038.tif', '/Users/stevenli/SigAida/data/images/l2nr046.tif', '/Users/stevenli/SigAida/data/images/l3nr052.tif', '/Users/stevenli/SigAida/data/images/l10nr038.tif', '/Users/stevenli/SigAida/data/images/l10nr010.tif', '/Users/stevenli/SigAida/data/images/l11nr004.tif', '/Users/stevenli/SigAida/data/images/l11nr010.tif', '/Users/stevenli/SigAida/data/images/l10nr004.tif', '/Users/stevenli/SigAida/data/images/l9nr051.tif', '/Users/stevenli/SigAida/data/images/l8nr045.tif', '/Users/stevenli/SigAida/data/images/l8nr051.tif', '/Users/stevenli/SigAida/data/images/l9nr045.tif', '/Users/stevenli/SigAida/data/images/l9nr041.tif', '/Users/stevenli/SigAida/data/images/l8nr055.tif', '/Users/stevenli/SigAida/data/images/l8nr041.tif', '/Users/stevenli/SigAida/data/images/l9nr055.tif', '/Users/stevenli/SigAida/data/images/l8nr069.tif', '/Users/stevenli/SigAida/data/images/l9nr069.tif', '/Users/stevenli/SigAida/data/images/l3nr056.tif', '/Users/stevenli/SigAida/data/images/l11nr028.tif', '/Users/stevenli/SigAida/data/images/l2nr042.tif', '/Users/stevenli/SigAida/data/images/l2nr056.tif', '/Users/stevenli/SigAida/data/images/l10nr028.tif', '/Users/stevenli/SigAida/data/images/l3nr042.tif', '/Users/stevenli/SigAida/data/images/l11nr014.tif', '/Users/stevenli/SigAida/data/images/l10nr014.tif', '/Users/stevenli/SigAida/data/images/l12nr053.tif', '/Users/stevenli/SigAida/data/images/l1nr039.tif', '/Users/stevenli/SigAida/data/images/l13nr047.tif', '/Users/stevenli/SigAida/data/images/l13nr053.tif', '/Users/stevenli/SigAida/data/images/l12nr047.tif', '/Users/stevenli/SigAida/data/images/l1nr005.tif', '/Users/stevenli/SigAida/data/images/l1nr011.tif', '/Users/stevenli/SigAida/data/images/l4nr027.tif', '/Users/stevenli/SigAida/data/images/l5nr033.tif', '/Users/stevenli/SigAida/data/images/l5nr027.tif', '/Users/stevenli/SigAida/data/images/l4nr033.tif', '/Users/stevenli/SigAida/data/images/l6nr074.tif', '/Users/stevenli/SigAida/data/images/l7nr060.tif', '/Users/stevenli/SigAida/data/images/l7nr074.tif', '/Users/stevenli/SigAida/data/images/l6nr060.tif', '/Users/stevenli/SigAida/data/images/l6nr048.tif', '/Users/stevenli/SigAida/data/images/l15nr022.tif', '/Users/stevenli/SigAida/data/images/l14nr036.tif', '/Users/stevenli/SigAida/data/images/l7nr048.tif', '/Users/stevenli/SigAida/data/images/l14nr022.tif', '/Users/stevenli/SigAida/data/images/l15nr036.tif', '/Users/stevenli/SigAida/data/images/l14nr023.tif', '/Users/stevenli/SigAida/data/images/l7nr049.tif', '/Users/stevenli/SigAida/data/images/l15nr037.tif', '/Users/stevenli/SigAida/data/images/l15nr023.tif', '/Users/stevenli/SigAida/data/images/l6nr049.tif', '/Users/stevenli/SigAida/data/images/l14nr037.tif', '/Users/stevenli/SigAida/data/images/l7nr075.tif', '/Users/stevenli/SigAida/data/images/l6nr061.tif', '/Users/stevenli/SigAida/data/images/l6nr075.tif', '/Users/stevenli/SigAida/data/images/l7nr061.tif', '/Users/stevenli/SigAida/data/images/l5nr026.tif', '/Users/stevenli/SigAida/data/images/l4nr032.tif', '/Users/stevenli/SigAida/data/images/l4nr026.tif', '/Users/stevenli/SigAida/data/images/l5nr032.tif', '/Users/stevenli/SigAida/data/images/l1nr010.tif', '/Users/stevenli/SigAida/data/images/l1nr004.tif', '/Users/stevenli/SigAida/data/images/l13nr052.tif', '/Users/stevenli/SigAida/data/images/l12nr046.tif', '/Users/stevenli/SigAida/data/images/l1nr038.tif', '/Users/stevenli/SigAida/data/images/l12nr052.tif', '/Users/stevenli/SigAida/data/images/l13nr046.tif', '/Users/stevenli/SigAida/data/images/l11nr001.tif', '/Users/stevenli/SigAida/data/images/l10nr015.tif', '/Users/stevenli/SigAida/data/images/l10nr001.tif', '/Users/stevenli/SigAida/data/images/l11nr015.tif', '/Users/stevenli/SigAida/data/images/l2nr057.tif', '/Users/stevenli/SigAida/data/images/l3nr043.tif', '/Users/stevenli/SigAida/data/images/l10nr029.tif', '/Users/stevenli/SigAida/data/images/l3nr057.tif', '/Users/stevenli/SigAida/data/images/l2nr043.tif', '/Users/stevenli/SigAida/data/images/l11nr029.tif', '/Users/stevenli/SigAida/data/images/l9nr068.tif', '/Users/stevenli/SigAida/data/images/l8nr068.tif', '/Users/stevenli/SigAida/data/images/l8nr040.tif', '/Users/stevenli/SigAida/data/images/l9nr054.tif', '/Users/stevenli/SigAida/data/images/l9nr040.tif', '/Users/stevenli/SigAida/data/images/l8nr054.tif', '/Users/stevenli/SigAida/data/images/l9nr056.tif', '/Users/stevenli/SigAida/data/images/l8nr042.tif', '/Users/stevenli/SigAida/data/images/l8nr056.tif', '/Users/stevenli/SigAida/data/images/l9nr042.tif', '/Users/stevenli/SigAida/data/images/l3nr041.tif', '/Users/stevenli/SigAida/data/images/l2nr055.tif', '/Users/stevenli/SigAida/data/images/l2nr041.tif', '/Users/stevenli/SigAida/data/images/l3nr055.tif', '/Users/stevenli/SigAida/data/images/l10nr017.tif', '/Users/stevenli/SigAida/data/images/l11nr003.tif', '/Users/stevenli/SigAida/data/images/l2nr069.tif', '/Users/stevenli/SigAida/data/images/l11nr017.tif', '/Users/stevenli/SigAida/data/images/l10nr003.tif', '/Users/stevenli/SigAida/data/images/l3nr069.tif', '/Users/stevenli/SigAida/data/images/l12nr044.tif', '/Users/stevenli/SigAida/data/images/l13nr050.tif', '/Users/stevenli/SigAida/data/images/l13nr044.tif', '/Users/stevenli/SigAida/data/images/l12nr050.tif', '/Users/stevenli/SigAida/data/images/l1nr012.tif', '/Users/stevenli/SigAida/data/images/l1nr006.tif', '/Users/stevenli/SigAida/data/images/l5nr018.tif', '/Users/stevenli/SigAida/data/images/l4nr018.tif', '/Users/stevenli/SigAida/data/images/l4nr030.tif', '/Users/stevenli/SigAida/data/images/l5nr024.tif', '/Users/stevenli/SigAida/data/images/l5nr030.tif', '/Users/stevenli/SigAida/data/images/l4nr024.tif', '/Users/stevenli/SigAida/data/images/l6nr063.tif', '/Users/stevenli/SigAida/data/images/l15nr009.tif', '/Users/stevenli/SigAida/data/images/l7nr063.tif', '/Users/stevenli/SigAida/data/images/l14nr009.tif', '/Users/stevenli/SigAida/data/images/l15nr035.tif', '/Users/stevenli/SigAida/data/images/l14nr021.tif', '/Users/stevenli/SigAida/data/images/l14nr035.tif', '/Users/stevenli/SigAida/data/images/l15nr021.tif', '/Users/stevenli/SigAida/data/images/l14nr034.tif', '/Users/stevenli/SigAida/data/images/l15nr020.tif', '/Users/stevenli/SigAida/data/images/l15nr034.tif', '/Users/stevenli/SigAida/data/images/l14nr020.tif', '/Users/stevenli/SigAida/data/images/l14nr008.tif', '/Users/stevenli/SigAida/data/images/l7nr062.tif', '/Users/stevenli/SigAida/data/images/l15nr008.tif', '/Users/stevenli/SigAida/data/images/l6nr062.tif', '/Users/stevenli/SigAida/data/images/l5nr031.tif', '/Users/stevenli/SigAida/data/images/l4nr025.tif', '/Users/stevenli/SigAida/data/images/l4nr031.tif', '/Users/stevenli/SigAida/data/images/l5nr025.tif', '/Users/stevenli/SigAida/data/images/l4nr019.tif', '/Users/stevenli/SigAida/data/images/l5nr019.tif', '/Users/stevenli/SigAida/data/images/l1nr007.tif', '/Users/stevenli/SigAida/data/images/l1nr013.tif', '/Users/stevenli/SigAida/data/images/l13nr045.tif', '/Users/stevenli/SigAida/data/images/l12nr051.tif', '/Users/stevenli/SigAida/data/images/l12nr045.tif', '/Users/stevenli/SigAida/data/images/l13nr051.tif', '/Users/stevenli/SigAida/data/images/l11nr016.tif', '/Users/stevenli/SigAida/data/images/l3nr068.tif', '/Users/stevenli/SigAida/data/images/l10nr002.tif', '/Users/stevenli/SigAida/data/images/l10nr016.tif', '/Users/stevenli/SigAida/data/images/l2nr068.tif', '/Users/stevenli/SigAida/data/images/l11nr002.tif', '/Users/stevenli/SigAida/data/images/l2nr040.tif', '/Users/stevenli/SigAida/data/images/l3nr054.tif', '/Users/stevenli/SigAida/data/images/l3nr040.tif', '/Users/stevenli/SigAida/data/images/l2nr054.tif', '/Users/stevenli/SigAida/data/images/l8nr057.tif', '/Users/stevenli/SigAida/data/images/l9nr043.tif', '/Users/stevenli/SigAida/data/images/l9nr057.tif', '/Users/stevenli/SigAida/data/images/l8nr043.tif', '/Users/stevenli/SigAida/data/images/l8nr018.tif', '/Users/stevenli/SigAida/data/images/l9nr018.tif', '/Users/stevenli/SigAida/data/images/l9nr030.tif', '/Users/stevenli/SigAida/data/images/l8nr024.tif', '/Users/stevenli/SigAida/data/images/l8nr030.tif', '/Users/stevenli/SigAida/data/images/l9nr024.tif', '/Users/stevenli/SigAida/data/images/l10nr071.tif', '/Users/stevenli/SigAida/data/images/l11nr065.tif', '/Users/stevenli/SigAida/data/images/l11nr071.tif', '/Users/stevenli/SigAida/data/images/l10nr065.tif', '/Users/stevenli/SigAida/data/images/l3nr027.tif', '/Users/stevenli/SigAida/data/images/l11nr059.tif', '/Users/stevenli/SigAida/data/images/l2nr033.tif', '/Users/stevenli/SigAida/data/images/l2nr027.tif', '/Users/stevenli/SigAida/data/images/l10nr059.tif', '/Users/stevenli/SigAida/data/images/l3nr033.tif', '/Users/stevenli/SigAida/data/images/l1nr074.tif', '/Users/stevenli/SigAida/data/images/l1nr060.tif', '/Users/stevenli/SigAida/data/images/l12nr022.tif', '/Users/stevenli/SigAida/data/images/l1nr048.tif', '/Users/stevenli/SigAida/data/images/l13nr036.tif', '/Users/stevenli/SigAida/data/images/l13nr022.tif', '/Users/stevenli/SigAida/data/images/l12nr036.tif', '/Users/stevenli/SigAida/data/images/l4nr056.tif', '/Users/stevenli/SigAida/data/images/l5nr042.tif', '/Users/stevenli/SigAida/data/images/l5nr056.tif', '/Users/stevenli/SigAida/data/images/l4nr042.tif', '/Users/stevenli/SigAida/data/images/l6nr039.tif', '/Users/stevenli/SigAida/data/images/l15nr053.tif', '/Users/stevenli/SigAida/data/images/l14nr047.tif', '/Users/stevenli/SigAida/data/images/l7nr039.tif', '/Users/stevenli/SigAida/data/images/l14nr053.tif', '/Users/stevenli/SigAida/data/images/l15nr047.tif', '/Users/stevenli/SigAida/data/images/l6nr005.tif', '/Users/stevenli/SigAida/data/images/l7nr011.tif', '/Users/stevenli/SigAida/data/images/l7nr005.tif', '/Users/stevenli/SigAida/data/images/l6nr011.tif', '/Users/stevenli/SigAida/data/images/l7nr004.tif', '/Users/stevenli/SigAida/data/images/l6nr010.tif', '/Users/stevenli/SigAida/data/images/l6nr004.tif', '/Users/stevenli/SigAida/data/images/l7nr010.tif', '/Users/stevenli/SigAida/data/images/l14nr052.tif', '/Users/stevenli/SigAida/data/images/l7nr038.tif', '/Users/stevenli/SigAida/data/images/l15nr046.tif', '/Users/stevenli/SigAida/data/images/l15nr052.tif', '/Users/stevenli/SigAida/data/images/l6nr038.tif', '/Users/stevenli/SigAida/data/images/l14nr046.tif', '/Users/stevenli/SigAida/data/images/l5nr057.tif', '/Users/stevenli/SigAida/data/images/l4nr043.tif', '/Users/stevenli/SigAida/data/images/l4nr057.tif', '/Users/stevenli/SigAida/data/images/l5nr043.tif', '/Users/stevenli/SigAida/data/images/l13nr023.tif', '/Users/stevenli/SigAida/data/images/l12nr037.tif', '/Users/stevenli/SigAida/data/images/l1nr049.tif', '/Users/stevenli/SigAida/data/images/l12nr023.tif', '/Users/stevenli/SigAida/data/images/l13nr037.tif', '/Users/stevenli/SigAida/data/images/l1nr061.tif', '/Users/stevenli/SigAida/data/images/l1nr075.tif', '/Users/stevenli/SigAida/data/images/l2nr026.tif', '/Users/stevenli/SigAida/data/images/l3nr032.tif', '/Users/stevenli/SigAida/data/images/l10nr058.tif', '/Users/stevenli/SigAida/data/images/l3nr026.tif', '/Users/stevenli/SigAida/data/images/l2nr032.tif', '/Users/stevenli/SigAida/data/images/l11nr058.tif', '/Users/stevenli/SigAida/data/images/l11nr070.tif', '/Users/stevenli/SigAida/data/images/l10nr064.tif', '/Users/stevenli/SigAida/data/images/l10nr070.tif', '/Users/stevenli/SigAida/data/images/l11nr064.tif', '/Users/stevenli/SigAida/data/images/l8nr031.tif', '/Users/stevenli/SigAida/data/images/l9nr025.tif', '/Users/stevenli/SigAida/data/images/l9nr031.tif', '/Users/stevenli/SigAida/data/images/l8nr025.tif', '/Users/stevenli/SigAida/data/images/l9nr019.tif', '/Users/stevenli/SigAida/data/images/l8nr019.tif', '/Users/stevenli/SigAida/data/images/l9nr027.tif', '/Users/stevenli/SigAida/data/images/l8nr033.tif', '/Users/stevenli/SigAida/data/images/l8nr027.tif', '/Users/stevenli/SigAida/data/images/l9nr033.tif', '/Users/stevenli/SigAida/data/images/l10nr066.tif', '/Users/stevenli/SigAida/data/images/l11nr072.tif', '/Users/stevenli/SigAida/data/images/l2nr018.tif', '/Users/stevenli/SigAida/data/images/l11nr066.tif', '/Users/stevenli/SigAida/data/images/l10nr072.tif', '/Users/stevenli/SigAida/data/images/l3nr018.tif', '/Users/stevenli/SigAida/data/images/l3nr030.tif', '/Users/stevenli/SigAida/data/images/l2nr024.tif', '/Users/stevenli/SigAida/data/images/l2nr030.tif', '/Users/stevenli/SigAida/data/images/l3nr024.tif', '/Users/stevenli/SigAida/data/images/l12nr009.tif', '/Users/stevenli/SigAida/data/images/l1nr063.tif', '/Users/stevenli/SigAida/data/images/l13nr009.tif', '/Users/stevenli/SigAida/data/images/l12nr035.tif', '/Users/stevenli/SigAida/data/images/l13nr021.tif', '/Users/stevenli/SigAida/data/images/l13nr035.tif', '/Users/stevenli/SigAida/data/images/l12nr021.tif', '/Users/stevenli/SigAida/data/images/l4nr041.tif', '/Users/stevenli/SigAida/data/images/l5nr055.tif', '/Users/stevenli/SigAida/data/images/l5nr041.tif', '/Users/stevenli/SigAida/data/images/l4nr055.tif', '/Users/stevenli/SigAida/data/images/l5nr069.tif', '/Users/stevenli/SigAida/data/images/l4nr069.tif', '/Users/stevenli/SigAida/data/images/l15nr044.tif', '/Users/stevenli/SigAida/data/images/l14nr050.tif', '/Users/stevenli/SigAida/data/images/l14nr044.tif', '/Users/stevenli/SigAida/data/images/l15nr050.tif', '/Users/stevenli/SigAida/data/images/l6nr012.tif', '/Users/stevenli/SigAida/data/images/l7nr006.tif', '/Users/stevenli/SigAida/data/images/l7nr012.tif', '/Users/stevenli/SigAida/data/images/l6nr006.tif', '/Users/stevenli/SigAida/data/images/l7nr013.tif', '/Users/stevenli/SigAida/data/images/l6nr007.tif', '/Users/stevenli/SigAida/data/images/l6nr013.tif', '/Users/stevenli/SigAida/data/images/l7nr007.tif', '/Users/stevenli/SigAida/data/images/l14nr045.tif', '/Users/stevenli/SigAida/data/images/l15nr051.tif', '/Users/stevenli/SigAida/data/images/l15nr045.tif', '/Users/stevenli/SigAida/data/images/l14nr051.tif', '/Users/stevenli/SigAida/data/images/l4nr068.tif', '/Users/stevenli/SigAida/data/images/l5nr068.tif', '/Users/stevenli/SigAida/data/images/l5nr040.tif', '/Users/stevenli/SigAida/data/images/l4nr054.tif', '/Users/stevenli/SigAida/data/images/l4nr040.tif', '/Users/stevenli/SigAida/data/images/l5nr054.tif', '/Users/stevenli/SigAida/data/images/l13nr034.tif', '/Users/stevenli/SigAida/data/images/l12nr020.tif', '/Users/stevenli/SigAida/data/images/l12nr034.tif', '/Users/stevenli/SigAida/data/images/l13nr020.tif', '/Users/stevenli/SigAida/data/images/l13nr008.tif', '/Users/stevenli/SigAida/data/images/l1nr062.tif', '/Users/stevenli/SigAida/data/images/l12nr008.tif', '/Users/stevenli/SigAida/data/images/l2nr031.tif', '/Users/stevenli/SigAida/data/images/l3nr025.tif', '/Users/stevenli/SigAida/data/images/l3nr031.tif', '/Users/stevenli/SigAida/data/images/l2nr025.tif', '/Users/stevenli/SigAida/data/images/l11nr067.tif', '/Users/stevenli/SigAida/data/images/l3nr019.tif', '/Users/stevenli/SigAida/data/images/l10nr073.tif', '/Users/stevenli/SigAida/data/images/l10nr067.tif', '/Users/stevenli/SigAida/data/images/l2nr019.tif', '/Users/stevenli/SigAida/data/images/l11nr073.tif', '/Users/stevenli/SigAida/data/images/l8nr026.tif', '/Users/stevenli/SigAida/data/images/l9nr032.tif', '/Users/stevenli/SigAida/data/images/l9nr026.tif', '/Users/stevenli/SigAida/data/images/l8nr032.tif', '/Users/stevenli/SigAida/data/images/l8nr036.tif', '/Users/stevenli/SigAida/data/images/l9nr022.tif', '/Users/stevenli/SigAida/data/images/l9nr036.tif', '/Users/stevenli/SigAida/data/images/l8nr022.tif', '/Users/stevenli/SigAida/data/images/l2nr021.tif', '/Users/stevenli/SigAida/data/images/l3nr035.tif', '/Users/stevenli/SigAida/data/images/l3nr021.tif', '/Users/stevenli/SigAida/data/images/l2nr035.tif', '/Users/stevenli/SigAida/data/images/l10nr063.tif', '/Users/stevenli/SigAida/data/images/l3nr009.tif', '/Users/stevenli/SigAida/data/images/l11nr063.tif', '/Users/stevenli/SigAida/data/images/l2nr009.tif', '/Users/stevenli/SigAida/data/images/l13nr024.tif', '/Users/stevenli/SigAida/data/images/l12nr030.tif', '/Users/stevenli/SigAida/data/images/l12nr024.tif', '/Users/stevenli/SigAida/data/images/l13nr030.tif', '/Users/stevenli/SigAida/data/images/l13nr018.tif', '/Users/stevenli/SigAida/data/images/l1nr066.tif', '/Users/stevenli/SigAida/data/images/l12nr018.tif', '/Users/stevenli/SigAida/data/images/l1nr072.tif', '/Users/stevenli/SigAida/data/images/l5nr050.tif', '/Users/stevenli/SigAida/data/images/l4nr044.tif', '/Users/stevenli/SigAida/data/images/l4nr050.tif', '/Users/stevenli/SigAida/data/images/l5nr044.tif', '/Users/stevenli/SigAida/data/images/l7nr003.tif', '/Users/stevenli/SigAida/data/images/l14nr069.tif', '/Users/stevenli/SigAida/data/images/l6nr017.tif', '/Users/stevenli/SigAida/data/images/l6nr003.tif', '/Users/stevenli/SigAida/data/images/l15nr069.tif', '/Users/stevenli/SigAida/data/images/l7nr017.tif', '/Users/stevenli/SigAida/data/images/l14nr055.tif', '/Users/stevenli/SigAida/data/images/l15nr041.tif', '/Users/stevenli/SigAida/data/images/l15nr055.tif', '/Users/stevenli/SigAida/data/images/l14nr041.tif', '/Users/stevenli/SigAida/data/images/l15nr054.tif', '/Users/stevenli/SigAida/data/images/l14nr040.tif', '/Users/stevenli/SigAida/data/images/l14nr054.tif', '/Users/stevenli/SigAida/data/images/l15nr040.tif', '/Users/stevenli/SigAida/data/images/l15nr068.tif', '/Users/stevenli/SigAida/data/images/l6nr002.tif', '/Users/stevenli/SigAida/data/images/l7nr016.tif', '/Users/stevenli/SigAida/data/images/l14nr068.tif', '/Users/stevenli/SigAida/data/images/l7nr002.tif', '/Users/stevenli/SigAida/data/images/l6nr016.tif', '/Users/stevenli/SigAida/data/images/l4nr051.tif', '/Users/stevenli/SigAida/data/images/l5nr045.tif', '/Users/stevenli/SigAida/data/images/l5nr051.tif', '/Users/stevenli/SigAida/data/images/l4nr045.tif', '/Users/stevenli/SigAida/data/images/l1nr073.tif', '/Users/stevenli/SigAida/data/images/l12nr019.tif', '/Users/stevenli/SigAida/data/images/l13nr019.tif', '/Users/stevenli/SigAida/data/images/l1nr067.tif', '/Users/stevenli/SigAida/data/images/l12nr025.tif', '/Users/stevenli/SigAida/data/images/l13nr031.tif', '/Users/stevenli/SigAida/data/images/l13nr025.tif', '/Users/stevenli/SigAida/data/images/l12nr031.tif', '/Users/stevenli/SigAida/data/images/l2nr008.tif', '/Users/stevenli/SigAida/data/images/l11nr062.tif', '/Users/stevenli/SigAida/data/images/l3nr008.tif', '/Users/stevenli/SigAida/data/images/l10nr062.tif', '/Users/stevenli/SigAida/data/images/l3nr020.tif', '/Users/stevenli/SigAida/data/images/l2nr034.tif', '/Users/stevenli/SigAida/data/images/l2nr020.tif', '/Users/stevenli/SigAida/data/images/l3nr034.tif', '/Users/stevenli/SigAida/data/images/l9nr037.tif', '/Users/stevenli/SigAida/data/images/l8nr023.tif', '/Users/stevenli/SigAida/data/images/l8nr037.tif', '/Users/stevenli/SigAida/data/images/l9nr023.tif', '/Users/stevenli/SigAida/data/images/l8nr021.tif', '/Users/stevenli/SigAida/data/images/l9nr035.tif', '/Users/stevenli/SigAida/data/images/l9nr021.tif', '/Users/stevenli/SigAida/data/images/l8nr035.tif', '/Users/stevenli/SigAida/data/images/l9nr009.tif', '/Users/stevenli/SigAida/data/images/l8nr009.tif', '/Users/stevenli/SigAida/data/images/l2nr036.tif', '/Users/stevenli/SigAida/data/images/l10nr048.tif', '/Users/stevenli/SigAida/data/images/l3nr022.tif', '/Users/stevenli/SigAida/data/images/l3nr036.tif', '/Users/stevenli/SigAida/data/images/l11nr048.tif', '/Users/stevenli/SigAida/data/images/l2nr022.tif', '/Users/stevenli/SigAida/data/images/l11nr060.tif', '/Users/stevenli/SigAida/data/images/l10nr074.tif', '/Users/stevenli/SigAida/data/images/l10nr060.tif', '/Users/stevenli/SigAida/data/images/l11nr074.tif', '/Users/stevenli/SigAida/data/images/l13nr033.tif', '/Users/stevenli/SigAida/data/images/l12nr027.tif', '/Users/stevenli/SigAida/data/images/l12nr033.tif', '/Users/stevenli/SigAida/data/images/l1nr059.tif', '/Users/stevenli/SigAida/data/images/l13nr027.tif', '/Users/stevenli/SigAida/data/images/l1nr071.tif', '/Users/stevenli/SigAida/data/images/l1nr065.tif', '/Users/stevenli/SigAida/data/images/l5nr047.tif', '/Users/stevenli/SigAida/data/images/l4nr053.tif', '/Users/stevenli/SigAida/data/images/l4nr047.tif', '/Users/stevenli/SigAida/data/images/l5nr053.tif', '/Users/stevenli/SigAida/data/images/l7nr014.tif', '/Users/stevenli/SigAida/data/images/l6nr014.tif', '/Users/stevenli/SigAida/data/images/l7nr028.tif', '/Users/stevenli/SigAida/data/images/l14nr042.tif', '/Users/stevenli/SigAida/data/images/l15nr056.tif', '/Users/stevenli/SigAida/data/images/l6nr028.tif', '/Users/stevenli/SigAida/data/images/l15nr042.tif', '/Users/stevenli/SigAida/data/images/l14nr056.tif', '/Users/stevenli/SigAida/data/images/l15nr043.tif', '/Users/stevenli/SigAida/data/images/l6nr029.tif', '/Users/stevenli/SigAida/data/images/l14nr057.tif', '/Users/stevenli/SigAida/data/images/l14nr043.tif', '/Users/stevenli/SigAida/data/images/l7nr029.tif', '/Users/stevenli/SigAida/data/images/l15nr057.tif', '/Users/stevenli/SigAida/data/images/l6nr015.tif', '/Users/stevenli/SigAida/data/images/l7nr001.tif', '/Users/stevenli/SigAida/data/images/l7nr015.tif', '/Users/stevenli/SigAida/data/images/l6nr001.tif', '/Users/stevenli/SigAida/data/images/l4nr046.tif', '/Users/stevenli/SigAida/data/images/l5nr052.tif', '/Users/stevenli/SigAida/data/images/l5nr046.tif', '/Users/stevenli/SigAida/data/images/l4nr052.tif', '/Users/stevenli/SigAida/data/images/l1nr064.tif', '/Users/stevenli/SigAida/data/images/l1nr070.tif', '/Users/stevenli/SigAida/data/images/l1nr058.tif', '/Users/stevenli/SigAida/data/images/l12nr032.tif', '/Users/stevenli/SigAida/data/images/l13nr026.tif', '/Users/stevenli/SigAida/data/images/l13nr032.tif', '/Users/stevenli/SigAida/data/images/l12nr026.tif', '/Users/stevenli/SigAida/data/images/l10nr061.tif', '/Users/stevenli/SigAida/data/images/l11nr075.tif', '/Users/stevenli/SigAida/data/images/l11nr061.tif', '/Users/stevenli/SigAida/data/images/l10nr075.tif', '/Users/stevenli/SigAida/data/images/l3nr037.tif', '/Users/stevenli/SigAida/data/images/l2nr023.tif', '/Users/stevenli/SigAida/data/images/l11nr049.tif', '/Users/stevenli/SigAida/data/images/l2nr037.tif', '/Users/stevenli/SigAida/data/images/l3nr023.tif', '/Users/stevenli/SigAida/data/images/l10nr049.tif', '/Users/stevenli/SigAida/data/images/l8nr008.tif', '/Users/stevenli/SigAida/data/images/l9nr008.tif', '/Users/stevenli/SigAida/data/images/l9nr020.tif', '/Users/stevenli/SigAida/data/images/l8nr034.tif', '/Users/stevenli/SigAida/data/images/l8nr020.tif', '/Users/stevenli/SigAida/data/images/l9nr034.tif']\n",
      "['/Users/stevenli/SigAida/data/images/l9nr039.tif', array([0., 0., 0., 0., 0., 0., 0., 0., 1., 0., 0., 0., 0., 0., 0.])]\n"
     ]
    },
    {
     "name": "stderr",
     "output_type": "stream",
     "text": [
      "/Users/stevenli/opt/anaconda3/lib/python3.9/site-packages/sklearn/preprocessing/_encoders.py:975: FutureWarning: `sparse` was renamed to `sparse_output` in version 1.2 and will be removed in 1.4. `sparse_output` is ignored unless you leave `sparse` to its default value.\n",
      "  warnings.warn(\n"
     ]
    }
   ],
   "source": [
    "#import data\n",
    "from PIL import Image\n",
    "import os\n",
    "from sklearn.preprocessing import OneHotEncoder\n",
    "data_dir = \"/Users/stevenli/SigAida/data/images/\" #change to data directory\n",
    "\n",
    "# gets the label based on the number\n",
    "def getLabel(s):\n",
    "    labels = {1 : 'Ulmus carpinifolia', \n",
    "                2 : 'Acer', \n",
    "                3 : 'Salix aurita', \n",
    "                4 : 'Quercus', \n",
    "                5 : 'Alnus incan', \n",
    "                6 : 'Betula pubescens', \n",
    "                7 : 'Salix alba \\'Sericea\\'', \n",
    "                8 : 'Populus tremula', \n",
    "                9 : 'Ulmus glabra', \n",
    "                10 : 'Sorbus aucuparia', \n",
    "                11 : 'Salix sinerea', \n",
    "                12 : 'Populus', \n",
    "                13 : 'Tilia', \n",
    "                14 : 'Sorbus intermedia', \n",
    "                15 : 'Fagus silvatica'}\n",
    "    return labels.get(int(s))\n",
    "\n",
    "im = [] # images\n",
    "la = [] # labels not in use, because you can't feed strings to gpu, need to feed tensors\n",
    "ohe = [] #s toring int values for one hot encodings\n",
    "joined = []\n",
    "\n",
    "for f in os.listdir(data_dir):\n",
    "    im.append(data_dir + f)\n",
    "    val = int(f[:-9].replace('l','')) # removes last 9 letters replaces l with blank then gets label\n",
    "    la.append(getLabel(val)) \n",
    "    ohe.append(val)\n",
    "\n",
    "#one hot encoding (changing 1-15 to tensors for gpu)\n",
    "encoded = OneHotEncoder(categories = [[x for x in range(1, 16)]], sparse = False).fit_transform(np.array(ohe).reshape((len(ohe),1)))\n",
    "print(encoded)\n",
    "\n",
    "#joining image and label for organization and if we wanna shuffle\n",
    "for image, label in zip(im, encoded):\n",
    "    joined.append([image, label])\n",
    "\n",
    "print(la)\n",
    "print(im)\n",
    "print(joined[1])"
   ]
  },
  {
   "cell_type": "code",
   "execution_count": 8,
   "id": "5e2c21ca",
   "metadata": {},
   "outputs": [
    {
     "name": "stdout",
     "output_type": "stream",
     "text": [
      "1125\n",
      "900\n",
      "112\n",
      "113\n"
     ]
    }
   ],
   "source": [
    "# some preprocessing, randomize data, split data, load into dataloaders\n",
    "import random\n",
    "\n",
    "# splits (train, val, test) test currently not in use\n",
    "split_ratio=(0.8, 0.1, 0.1)\n",
    "\n",
    "def create_splits(data, split_ratio):\n",
    "    random.shuffle(data)\n",
    "    train = [data[i] for i in range(0, round(.8 * len(data)))]\n",
    "    val = [data[i] for i in range(round(.8 * len(data)), round(.9 * len(data)))]\n",
    "    test = [data[i] for i in range(round(.9 * len(data)), len(data))]\n",
    "    return train, val, test\n",
    "\n",
    "train, val, test = create_splits(joined, split_ratio)\n",
    "\n",
    "print(len(joined))\n",
    "print(len(train))\n",
    "print(len(val))\n",
    "print(len(test))"
   ]
  },
  {
   "cell_type": "code",
   "execution_count": 9,
   "id": "0f5b89d5",
   "metadata": {},
   "outputs": [],
   "source": [
    "#making dataset\n",
    "from torch.utils.data import Dataset\n",
    "\n",
    "# makes a custom dataset based on pytorch dataset class\n",
    "class PlantDataset(Dataset):\n",
    "    def __init__(self, data_dir, arr, transform = None):\n",
    "        # initialize some valuess\n",
    "        self.data_dir = data_dir\n",
    "        self.data = [x[0] for x in arr]\n",
    "        self.arr = arr\n",
    "\n",
    "        #transform to normalize/resize all images\n",
    "        self.transform = transform\n",
    "    \n",
    "    def __len__(self):\n",
    "        return len(self.arr)\n",
    "    \n",
    "    def __getitem__(self, idx):\n",
    "        img = self.transform(Image.open(self.arr[idx][0]))\n",
    "        s = self.arr[idx][1]\n",
    "        #returns a tuple of the transformed image and the label (one-hot encoding)\n",
    "        return (img, s)"
   ]
  },
  {
   "cell_type": "code",
   "execution_count": 10,
   "id": "7556e920",
   "metadata": {},
   "outputs": [],
   "source": [
    "import torchvision.transforms as transforms\n",
    "\n",
    "#defining our transforms\n",
    "transform = transforms.Compose([\n",
    "    transforms.Resize(224), # change to what data should be\n",
    "    transforms.CenterCrop(224),\n",
    "    transforms.ToTensor(),\n",
    "    transforms.Normalize(mean=[0.485, 0.456, 0.406], std=[0.229, 0.224, 0.225])\n",
    "])\n",
    "\n",
    "#making dataset and dataloader (gives data to model, using batch_size 1 cuz google says that's good for sgd (stochastic gradient descent))\n",
    "train_dataset = PlantDataset(data_dir, test, transform = transform)\n",
    "train_loader = torch.utils.data.DataLoader(train_dataset, batch_size=1, shuffle=True)"
   ]
  },
  {
   "cell_type": "code",
   "execution_count": 11,
   "id": "fe8160eb",
   "metadata": {},
   "outputs": [
    {
     "name": "stdout",
     "output_type": "stream",
     "text": [
      "True\n",
      "True\n"
     ]
    }
   ],
   "source": [
    "#chcek devices change to whatever you're using\n",
    "\n",
    "#mps (m1/m2 mac) gpu\n",
    "\n",
    "print(torch.backends.mps.is_available())\n",
    "print(torch.backends.mps.is_built())"
   ]
  },
  {
   "cell_type": "code",
   "execution_count": 15,
   "id": "971f44ad",
   "metadata": {},
   "outputs": [
    {
     "name": "stderr",
     "output_type": "stream",
     "text": [
      "  0%|          | 0/113 [00:00<?, ?it/s]"
     ]
    },
    {
     "name": "stderr",
     "output_type": "stream",
     "text": [
      "100%|██████████| 113/113 [00:06<00:00, 16.99it/s]\n"
     ]
    },
    {
     "name": "stdout",
     "output_type": "stream",
     "text": [
      "Epoch [1/30], Loss: 1.0364\n"
     ]
    },
    {
     "name": "stderr",
     "output_type": "stream",
     "text": [
      "100%|██████████| 113/113 [00:04<00:00, 25.39it/s]\n"
     ]
    },
    {
     "name": "stdout",
     "output_type": "stream",
     "text": [
      "Epoch [2/30], Loss: 1.4476\n"
     ]
    },
    {
     "name": "stderr",
     "output_type": "stream",
     "text": [
      "100%|██████████| 113/113 [00:04<00:00, 25.33it/s]\n"
     ]
    },
    {
     "name": "stdout",
     "output_type": "stream",
     "text": [
      "Epoch [3/30], Loss: 1.0991\n"
     ]
    },
    {
     "name": "stderr",
     "output_type": "stream",
     "text": [
      "100%|██████████| 113/113 [00:04<00:00, 24.94it/s]\n"
     ]
    },
    {
     "name": "stdout",
     "output_type": "stream",
     "text": [
      "Epoch [4/30], Loss: 0.1042\n"
     ]
    },
    {
     "name": "stderr",
     "output_type": "stream",
     "text": [
      "100%|██████████| 113/113 [00:04<00:00, 25.60it/s]\n"
     ]
    },
    {
     "name": "stdout",
     "output_type": "stream",
     "text": [
      "Epoch [5/30], Loss: 0.8173\n"
     ]
    },
    {
     "name": "stderr",
     "output_type": "stream",
     "text": [
      "100%|██████████| 113/113 [00:04<00:00, 25.96it/s]\n"
     ]
    },
    {
     "name": "stdout",
     "output_type": "stream",
     "text": [
      "Epoch [6/30], Loss: 1.0353\n"
     ]
    },
    {
     "name": "stderr",
     "output_type": "stream",
     "text": [
      "100%|██████████| 113/113 [00:04<00:00, 25.89it/s]\n"
     ]
    },
    {
     "name": "stdout",
     "output_type": "stream",
     "text": [
      "Epoch [7/30], Loss: 0.1446\n"
     ]
    },
    {
     "name": "stderr",
     "output_type": "stream",
     "text": [
      "100%|██████████| 113/113 [00:04<00:00, 25.97it/s]\n"
     ]
    },
    {
     "name": "stdout",
     "output_type": "stream",
     "text": [
      "Epoch [8/30], Loss: 1.1872\n"
     ]
    },
    {
     "name": "stderr",
     "output_type": "stream",
     "text": [
      "100%|██████████| 113/113 [00:05<00:00, 20.52it/s]\n"
     ]
    },
    {
     "name": "stdout",
     "output_type": "stream",
     "text": [
      "Epoch [9/30], Loss: 0.6532\n"
     ]
    },
    {
     "name": "stderr",
     "output_type": "stream",
     "text": [
      "100%|██████████| 113/113 [00:05<00:00, 20.06it/s]\n"
     ]
    },
    {
     "name": "stdout",
     "output_type": "stream",
     "text": [
      "Epoch [10/30], Loss: 0.2789\n"
     ]
    },
    {
     "name": "stderr",
     "output_type": "stream",
     "text": [
      "100%|██████████| 113/113 [00:04<00:00, 23.42it/s]\n"
     ]
    },
    {
     "name": "stdout",
     "output_type": "stream",
     "text": [
      "Epoch [11/30], Loss: 0.3251\n"
     ]
    },
    {
     "name": "stderr",
     "output_type": "stream",
     "text": [
      "100%|██████████| 113/113 [00:04<00:00, 24.04it/s]\n"
     ]
    },
    {
     "name": "stdout",
     "output_type": "stream",
     "text": [
      "Epoch [12/30], Loss: 0.3102\n"
     ]
    },
    {
     "name": "stderr",
     "output_type": "stream",
     "text": [
      "100%|██████████| 113/113 [00:04<00:00, 25.54it/s]\n"
     ]
    },
    {
     "name": "stdout",
     "output_type": "stream",
     "text": [
      "Epoch [13/30], Loss: 0.5069\n"
     ]
    },
    {
     "name": "stderr",
     "output_type": "stream",
     "text": [
      "100%|██████████| 113/113 [00:05<00:00, 20.26it/s]\n"
     ]
    },
    {
     "name": "stdout",
     "output_type": "stream",
     "text": [
      "Epoch [14/30], Loss: 0.2716\n"
     ]
    },
    {
     "name": "stderr",
     "output_type": "stream",
     "text": [
      "100%|██████████| 113/113 [00:05<00:00, 18.92it/s]\n"
     ]
    },
    {
     "name": "stdout",
     "output_type": "stream",
     "text": [
      "Epoch [15/30], Loss: 0.0512\n"
     ]
    },
    {
     "name": "stderr",
     "output_type": "stream",
     "text": [
      "100%|██████████| 113/113 [00:05<00:00, 22.24it/s]\n"
     ]
    },
    {
     "name": "stdout",
     "output_type": "stream",
     "text": [
      "Epoch [16/30], Loss: 0.0412\n"
     ]
    },
    {
     "name": "stderr",
     "output_type": "stream",
     "text": [
      "100%|██████████| 113/113 [00:04<00:00, 23.55it/s]\n"
     ]
    },
    {
     "name": "stdout",
     "output_type": "stream",
     "text": [
      "Epoch [17/30], Loss: 0.1900\n"
     ]
    },
    {
     "name": "stderr",
     "output_type": "stream",
     "text": [
      "100%|██████████| 113/113 [00:05<00:00, 21.75it/s]\n"
     ]
    },
    {
     "name": "stdout",
     "output_type": "stream",
     "text": [
      "Epoch [18/30], Loss: 0.1687\n"
     ]
    },
    {
     "name": "stderr",
     "output_type": "stream",
     "text": [
      "100%|██████████| 113/113 [00:04<00:00, 23.32it/s]\n"
     ]
    },
    {
     "name": "stdout",
     "output_type": "stream",
     "text": [
      "Epoch [19/30], Loss: 0.2122\n"
     ]
    },
    {
     "name": "stderr",
     "output_type": "stream",
     "text": [
      "100%|██████████| 113/113 [00:06<00:00, 16.15it/s]\n"
     ]
    },
    {
     "name": "stdout",
     "output_type": "stream",
     "text": [
      "Epoch [20/30], Loss: 0.0369\n"
     ]
    },
    {
     "name": "stderr",
     "output_type": "stream",
     "text": [
      "100%|██████████| 113/113 [00:07<00:00, 15.29it/s]\n"
     ]
    },
    {
     "name": "stdout",
     "output_type": "stream",
     "text": [
      "Epoch [21/30], Loss: 0.0421\n"
     ]
    },
    {
     "name": "stderr",
     "output_type": "stream",
     "text": [
      "100%|██████████| 113/113 [00:04<00:00, 23.18it/s]\n"
     ]
    },
    {
     "name": "stdout",
     "output_type": "stream",
     "text": [
      "Epoch [22/30], Loss: 0.4397\n"
     ]
    },
    {
     "name": "stderr",
     "output_type": "stream",
     "text": [
      "100%|██████████| 113/113 [00:05<00:00, 20.06it/s]\n"
     ]
    },
    {
     "name": "stdout",
     "output_type": "stream",
     "text": [
      "Epoch [23/30], Loss: 0.1056\n"
     ]
    },
    {
     "name": "stderr",
     "output_type": "stream",
     "text": [
      "100%|██████████| 113/113 [00:04<00:00, 23.77it/s]\n"
     ]
    },
    {
     "name": "stdout",
     "output_type": "stream",
     "text": [
      "Epoch [24/30], Loss: 0.0828\n"
     ]
    },
    {
     "name": "stderr",
     "output_type": "stream",
     "text": [
      "100%|██████████| 113/113 [00:04<00:00, 23.99it/s]\n"
     ]
    },
    {
     "name": "stdout",
     "output_type": "stream",
     "text": [
      "Epoch [25/30], Loss: 0.0823\n"
     ]
    },
    {
     "name": "stderr",
     "output_type": "stream",
     "text": [
      "100%|██████████| 113/113 [00:04<00:00, 24.03it/s]\n"
     ]
    },
    {
     "name": "stdout",
     "output_type": "stream",
     "text": [
      "Epoch [26/30], Loss: 0.0670\n"
     ]
    },
    {
     "name": "stderr",
     "output_type": "stream",
     "text": [
      "100%|██████████| 113/113 [00:05<00:00, 21.76it/s]\n"
     ]
    },
    {
     "name": "stdout",
     "output_type": "stream",
     "text": [
      "Epoch [27/30], Loss: 0.0935\n"
     ]
    },
    {
     "name": "stderr",
     "output_type": "stream",
     "text": [
      "100%|██████████| 113/113 [00:04<00:00, 22.66it/s]\n"
     ]
    },
    {
     "name": "stdout",
     "output_type": "stream",
     "text": [
      "Epoch [28/30], Loss: 0.2603\n"
     ]
    },
    {
     "name": "stderr",
     "output_type": "stream",
     "text": [
      "100%|██████████| 113/113 [00:04<00:00, 22.74it/s]\n"
     ]
    },
    {
     "name": "stdout",
     "output_type": "stream",
     "text": [
      "Epoch [29/30], Loss: 0.0155\n"
     ]
    },
    {
     "name": "stderr",
     "output_type": "stream",
     "text": [
      "100%|██████████| 113/113 [00:04<00:00, 23.44it/s]"
     ]
    },
    {
     "name": "stdout",
     "output_type": "stream",
     "text": [
      "Epoch [30/30], Loss: 0.1451\n"
     ]
    },
    {
     "name": "stderr",
     "output_type": "stream",
     "text": [
      "\n"
     ]
    }
   ],
   "source": [
    "from tqdm import tqdm # progress\n",
    "\n",
    "#store loss\n",
    "loss_per_batch = []\n",
    "\n",
    "#set device\n",
    "device = torch.device('mps')\n",
    "\n",
    "# Train the model\n",
    "num_epochs = 30\n",
    "\n",
    "for epoch in range(num_epochs):\n",
    "    for data, label in tqdm(train_loader):\n",
    "        # Move tensors to the configured device\n",
    "        pretrained_model.to(device)\n",
    "        images = data.to(device)\n",
    "        labels = label.float().to(device) #.float() for some float64, float32 conversion thing, don't completely understand\n",
    "\n",
    "        # Forward pass\n",
    "        outputs = pretrained_model(images) #currently image tensor don't match fc layer if you use non pretrained model\n",
    "        loss = criterion(outputs, labels) #calculate loss\n",
    "\n",
    "        # Backward and optimize don't really understand this stuff\n",
    "        optimizer.zero_grad()\n",
    "        loss.backward()\n",
    "        loss_per_batch.append(loss.item())\n",
    "        optimizer.step()\n",
    "\n",
    "        # Print some statistics\n",
    "    print(f'Epoch [{epoch+1}/{num_epochs}], Loss: {loss.item():.4f}')"
   ]
  },
  {
   "cell_type": "code",
   "execution_count": 13,
   "id": "b99bea66",
   "metadata": {},
   "outputs": [],
   "source": [
    "#loading validation dataset\n",
    "val_dataset = PlantDataset(data_dir, val, transform = transform)\n",
    "val_loader = torch.utils.data.DataLoader(val_dataset, batch_size=1, shuffle=True)"
   ]
  },
  {
   "cell_type": "code",
   "execution_count": 16,
   "id": "57f9f411",
   "metadata": {},
   "outputs": [
    {
     "name": "stderr",
     "output_type": "stream",
     "text": [
      "100%|██████████| 112/112 [00:08<00:00, 13.92it/s]"
     ]
    },
    {
     "name": "stdout",
     "output_type": "stream",
     "text": [
      "0.902\n"
     ]
    },
    {
     "name": "stderr",
     "output_type": "stream",
     "text": [
      "\n"
     ]
    }
   ],
   "source": [
    "total_correct = 0\n",
    "total_instances = 0\n",
    "\n",
    "pretrained_model.eval()\n",
    "# iterating through batches without updating gradients\n",
    "with torch.no_grad():\n",
    "    for images, labels in tqdm(val_loader):\n",
    "      images = images.to(device)\n",
    "      # labels = labels.float().to(device) # don't need this cuz we not training no more\n",
    "\n",
    "      # making classifications and deriving indices of maximum value via argmax (which gives the max value i the tensor)\n",
    "      solution_tensor = pretrained_model(images)\n",
    "      classifications = torch.argmax(solution_tensor, dim = 1).item()\n",
    "\n",
    "      #undoing one-hot encoding to get label value as a number\n",
    "      label = np.where(labels.numpy() == 1)[1]\n",
    "\n",
    "      correct_predictions = int(classifications==label)\n",
    "\n",
    "      #  incrementing counters\n",
    "      total_correct+=correct_predictions\n",
    "      total_instances+=len(images)\n",
    "\n",
    "#print accuracy\n",
    "print(round(total_correct/total_instances, 3))"
   ]
  },
  {
   "cell_type": "code",
   "execution_count": null,
   "id": "e2a7c2b5",
   "metadata": {},
   "outputs": [],
   "source": []
  },
  {
   "cell_type": "code",
   "execution_count": null,
   "id": "619d11ad",
   "metadata": {},
   "outputs": [],
   "source": []
  },
  {
   "cell_type": "code",
   "execution_count": null,
   "id": "36b79b5d",
   "metadata": {},
   "outputs": [],
   "source": []
  }
 ],
 "metadata": {
  "kernelspec": {
   "display_name": "Python 3 (ipykernel)",
   "language": "python",
   "name": "python3"
  },
  "language_info": {
   "codemirror_mode": {
    "name": "ipython",
    "version": 3
   },
   "file_extension": ".py",
   "mimetype": "text/x-python",
   "name": "python",
   "nbconvert_exporter": "python",
   "pygments_lexer": "ipython3",
   "version": "3.9.12"
  }
 },
 "nbformat": 4,
 "nbformat_minor": 5
}
