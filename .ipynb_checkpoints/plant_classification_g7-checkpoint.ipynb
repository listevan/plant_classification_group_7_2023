{
 "cells": [
  {
   "cell_type": "code",
   "execution_count": 15,
   "id": "dd365f8a",
   "metadata": {},
   "outputs": [],
   "source": [
    "import torch\n",
    "from torchvision import models\n",
    "\n",
    "pretrained_model = models.resnet50(weights = 'DEFAULT', progress = True)"
   ]
  },
  {
   "cell_type": "code",
   "execution_count": 16,
   "id": "16a9c8f0",
   "metadata": {},
   "outputs": [],
   "source": [
    "n = 100 #let n = the number of types of plants"
   ]
  },
  {
   "cell_type": "code",
   "execution_count": 17,
   "id": "d66c24ea",
   "metadata": {},
   "outputs": [],
   "source": [
    "import torch.nn as nn\n",
    "# build custom softmax module\n",
    "class Softmax(nn.Module):\n",
    "    def __init__(self, n_inputs, n_outputs):\n",
    "        super().__init__()\n",
    "        self.linear = nn.Linear(n_inputs, n_outputs)\n",
    " \n",
    "    def forward(self, x):\n",
    "        pred = self.linear(x)\n",
    "        return pred"
   ]
  },
  {
   "cell_type": "code",
   "execution_count": 19,
   "id": "cc820dc3",
   "metadata": {},
   "outputs": [],
   "source": [
    "class MyModel(nn.Module):\n",
    "    def __init__(self, pretrained_model):\n",
    "        super(MyModel, self).__init__()\n",
    "        self.pretrained_model = pretrained_model\n",
    "        self.last_layer = Softmax(1000, n) # add how many nodes as input and output\n",
    "\n",
    "    def forward(self, x):\n",
    "        return self.last_layer(self.pretrained_model(x))\n",
    "\n",
    "model = MyModel(pretrained_model)"
   ]
  },
  {
   "cell_type": "markdown",
   "id": "d3a2fd41",
   "metadata": {},
   "source": [
    "Or, we can pop the last layer of the pretrained model and directly add a Linear layer\n",
    "    model = models.vgg16(pretrained= nTrue)\n",
    "    print list(list(model.classifier.children())[1].parameters())\n",
    "    mod = list(model.classifier.children())\n",
    "    mod.pop()\n",
    "    mod.append(torch.nn.Linear(4096, 2))\n",
    "    new_classifier = torch.nn.Sequential(*mod)\n",
    "    print list(list(new_classifier.children())[1].parameters())\n",
    "    model.classifier = new_classifier"
   ]
  },
  {
   "cell_type": "code",
   "execution_count": null,
   "id": "5f76e0b5",
   "metadata": {},
   "outputs": [],
   "source": []
  }
 ],
 "metadata": {
  "kernelspec": {
   "display_name": "Python 3 (ipykernel)",
   "language": "python",
   "name": "python3"
  },
  "language_info": {
   "codemirror_mode": {
    "name": "ipython",
    "version": 3
   },
   "file_extension": ".py",
   "mimetype": "text/x-python",
   "name": "python",
   "nbconvert_exporter": "python",
   "pygments_lexer": "ipython3",
   "version": "3.9.12"
  }
 },
 "nbformat": 4,
 "nbformat_minor": 5
}
