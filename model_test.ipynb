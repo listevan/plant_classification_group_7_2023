{
 "cells": [
  {
   "cell_type": "code",
   "execution_count": 1,
   "metadata": {},
   "outputs": [],
   "source": [
    "#load the model\n",
    "import pickle\n",
    "with open('model_trained_w_data_augment.pkl', 'rb') as f:\n",
    "    model = pickle.load(f)"
   ]
  },
  {
   "cell_type": "code",
   "execution_count": 3,
   "metadata": {},
   "outputs": [],
   "source": [
    "#idk if this needed but this freezes all but last layer\n",
    "for param in model.parameters():\n",
    "    param.requires_grad = False\n",
    "\n",
    "for param in model.fc.parameters():\n",
    "    param.requires_grad = True"
   ]
  },
  {
   "cell_type": "code",
   "execution_count": 6,
   "metadata": {},
   "outputs": [
    {
     "name": "stderr",
     "output_type": "stream",
     "text": [
      "/Users/stevenli/opt/anaconda3/lib/python3.9/site-packages/sklearn/preprocessing/_encoders.py:975: FutureWarning: `sparse` was renamed to `sparse_output` in version 1.2 and will be removed in 1.4. `sparse_output` is ignored unless you leave `sparse` to its default value.\n",
      "  warnings.warn(\n"
     ]
    }
   ],
   "source": [
    "#load data and test model\n",
    "from sklearn.model_selection import KFold, cross_val_score\n",
    "\n",
    "#import data\n",
    "from PIL import Image\n",
    "import os\n",
    "from sklearn.preprocessing import OneHotEncoder\n",
    "import numpy as np\n",
    "data_dir = \"/Users/stevenli/SigAida/data/images/\" #change to data directory\n",
    "\n",
    "im = [] # images\n",
    "la = [] # labels not in use, because you can't feed strings to gpu, need to feed tensors\n",
    "ohe = [] #storing int values for one hot encodings\n",
    "\n",
    "for f in os.listdir(data_dir):\n",
    "    im.append(data_dir + f)\n",
    "    val = int(f[:-9].replace('l','')) # removes last 9 letters replaces l with blank then gets label\n",
    "    ohe.append(val)\n",
    "\n",
    "#one hot encoding (changing 1-15 to tensors for gpu)\n",
    "encoded = OneHotEncoder(categories = [[x for x in range(1, 16)]], sparse = False).fit_transform(np.array(ohe).reshape((len(ohe),1)))\n",
    "# print(encoded)\n",
    "\n",
    "# create a splitter object\n",
    "kfold = KFold(n_splits = 10, shuffle= True)           "
   ]
  },
  {
   "cell_type": "code",
   "execution_count": null,
   "metadata": {},
   "outputs": [],
   "source": []
  }
 ],
 "metadata": {
  "kernelspec": {
   "display_name": "base",
   "language": "python",
   "name": "python3"
  },
  "language_info": {
   "codemirror_mode": {
    "name": "ipython",
    "version": 3
   },
   "file_extension": ".py",
   "mimetype": "text/x-python",
   "name": "python",
   "nbconvert_exporter": "python",
   "pygments_lexer": "ipython3",
   "version": "3.9.12"
  }
 },
 "nbformat": 4,
 "nbformat_minor": 2
}
